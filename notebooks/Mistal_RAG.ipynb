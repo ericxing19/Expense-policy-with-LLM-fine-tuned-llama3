{
 "cells": [
  {
   "cell_type": "code",
   "execution_count": 2,
   "metadata": {},
   "outputs": [],
   "source": [
    "import pandas as pd\n",
    "import ast\n",
    "\n",
    "excel_path = '/home/uceehuf/ELEC0141_NLP/Dataset/Policy.xlsx'\n",
    "# Loading policy from Excel\n",
    "policy_df = pd.read_excel(excel_path,sheet_name= 0, engine='openpyxl')\n",
    "prompt_df = pd.read_excel(excel_path,sheet_name= 1, engine='openpyxl')\n",
    "label_df = pd.read_excel(excel_path,sheet_name= 2, engine='openpyxl')\n",
    "\n",
    "policy_scripts = policy_df['Policy Scripts'].tolist()"
   ]
  },
  {
   "cell_type": "code",
   "execution_count": 3,
   "metadata": {},
   "outputs": [],
   "source": [
    "def parse_labels(label_str):\n",
    "    try:\n",
    "        # Safely evaluate the string as a Python literal (list in this case)\n",
    "        return ast.literal_eval(label_str)\n",
    "    except ValueError:\n",
    "        # In case of an error (e.g., malformed string), return an empty list or handle accordingly\n",
    "        return []\n",
    "\n",
    "# Apply the conversion to each row in the 'CorrectLabels' column\n",
    "label_df['True'] = label_df['label list'].apply(parse_labels)\n"
   ]
  },
  {
   "cell_type": "code",
   "execution_count": 4,
   "metadata": {},
   "outputs": [
    {
     "name": "stdout",
     "output_type": "stream",
     "text": [
      "0\n",
      "NVIDIA A100 80GB PCIe\n"
     ]
    }
   ],
   "source": [
    "import os\n",
    "os.environ[\"CUDA_VISIBLE_DEVICES\"] = \"3\"\n",
    "\n",
    "import torch\n",
    "\n",
    "# Check if the GPU is available\n",
    "print(torch.cuda.current_device())\n",
    "print(torch.cuda.get_device_name(torch.cuda.current_device()))"
   ]
  },
  {
   "cell_type": "code",
   "execution_count": 39,
   "metadata": {},
   "outputs": [
    {
     "name": "stderr",
     "output_type": "stream",
     "text": [
      "Loading checkpoint shards: 100%|██████████| 3/3 [00:05<00:00,  1.82s/it]\n"
     ]
    }
   ],
   "source": [
    "from transformers import DataCollatorWithPadding, AutoTokenizer, Trainer, TrainingArguments\n",
    "import torch\n",
    "from transformers import AutoTokenizer, AutoModelForCausalLM\n",
    "\n",
    "torch_dtype = torch.float16\n",
    "# Load tokenizer and model\n",
    "# Mistral 7B it\n",
    "tokenizer = AutoTokenizer.from_pretrained(\"mistralai/Mistral-7B-Instruct-v0.2\")\n",
    "\n",
    "model = AutoModelForCausalLM.from_pretrained(\"mistralai/Mistral-7B-Instruct-v0.2\",\n",
    "    trust_remote_code=True, device_map=\"auto\", torch_dtype=torch_dtype)\n",
    "model.config.pad_token_id = model.config.eos_token_id"
   ]
  },
  {
   "cell_type": "code",
   "execution_count": 6,
   "metadata": {},
   "outputs": [
    {
     "name": "stdout",
     "output_type": "stream",
     "text": [
      "[0. 0. 0. ... 0. 0. 0.]\n"
     ]
    }
   ],
   "source": [
    "\n",
    "import numpy as np\n",
    "from sklearn.feature_extraction.text import TfidfVectorizer\n",
    "\n",
    "# Embedding vectors\n",
    "vectorizer = TfidfVectorizer()\n",
    "X = vectorizer.fit_transform(policy_scripts).toarray()\n",
    "\n",
    "# option for refitting with new words\n",
    "refit_flag = True\n",
    "\n",
    "if(refit_flag == True):\n",
    "    # Extract features from new docs\n",
    "    new_features = TfidfVectorizer().fit(prompt_df['Prompt']).get_feature_names_out()\n",
    "\n",
    "    # Combine the features\n",
    "    combined_features = vectorizer.get_feature_names_out().tolist() + list(set(new_features) - set(vectorizer.get_feature_names_out()))\n",
    "\n",
    "    # Create a new vectorizer with the updated vocabulary\n",
    "    vectorizer = TfidfVectorizer(vocabulary=combined_features)\n",
    "    vectorizer.fit((policy_scripts) + (prompt_df['Prompt']).tolist())  # Fit the updated vectorizer to new docs\n",
    "\n",
    "    X = vectorizer.fit_transform(policy_scripts).toarray()\n",
    "\n",
    "# Convert to float32 for FAISS compatibility\n",
    "X = np.array(X, dtype='float32')\n",
    "\n",
    "print(X[5])"
   ]
  },
  {
   "cell_type": "code",
   "execution_count": 7,
   "metadata": {},
   "outputs": [],
   "source": [
    "import faiss\n",
    "\n",
    "# initialise with the dimension of the vectors\n",
    "d = X.shape[1]\n",
    "\n",
    "# Add index\n",
    "index = faiss.IndexFlatL2(d)\n",
    "index.add(X)"
   ]
  },
  {
   "cell_type": "code",
   "execution_count": 8,
   "metadata": {},
   "outputs": [],
   "source": [
    "\n",
    "def evaluate_retrieval(search_result, true_labels):\n",
    "    \"\"\"\n",
    "    Check if all true labels are contained within the predicted labels.\n",
    "    Args:\n",
    "    predicted_labels (list): The labels retrieved by the search model.\n",
    "    true_labels (list): The correct labels listed in the Excel file.\n",
    "\n",
    "    Returns:\n",
    "    bool: True if all true labels are in the predicted labels, False otherwise.\n",
    "    \"\"\"\n",
    "    #force the input to be sets;\n",
    "    y_pred = set(search_result)\n",
    "    y_true = set(true_labels)\n",
    "\n",
    "    # check coverage\n",
    "    correct = y_true.intersection(y_pred)\n",
    "    \n",
    "    # Calculate coverage\n",
    "    coverage = len(correct) / len(y_true)\n",
    "\n",
    "    # note missed labels\n",
    "    misses = list(y_true - y_pred)\n",
    "\n",
    "    return y_true.issubset(y_pred), coverage, misses\n"
   ]
  },
  {
   "cell_type": "code",
   "execution_count": 9,
   "metadata": {},
   "outputs": [],
   "source": [
    "global default_files\n",
    "default_files = False\n",
    "\n",
    "def k_top_search(upper_thres, vectorizer, index, prompt_df, label_df, lower_thres = 5):\n",
    "    \"\"\"\n",
    "    loop through all k in a range, from lower thres (5 by default) to upper thres,\n",
    "    giving a figure showing the accuracy, coverage and average token number over different k\n",
    "    Args:\n",
    "    upper_thres (int): Number of top searches upper limit\n",
    "    lower_thres (int): Number of top searches lower limit\n",
    "    vectorizer: Tfidvectorizer, fitted\n",
    "    index: faiss object after index addition\n",
    "    prompt_df: pd df, must contain 'Prompt' column for queries\n",
    "    label_df: pd df, must contain 'True' column for true labels\n",
    "    Returns:\n",
    "    null\n",
    "    \"\"\"\n",
    "    # lists for plots\n",
    "    accuracies = []\n",
    "    coverages = []\n",
    "    num_tokens = []\n",
    "\n",
    "    for k in range(lower_thres, upper_thres+1):\n",
    "        indices_list = []\n",
    "        missed_list = []\n",
    "\n",
    "        RAGed_prompt = []\n",
    "\n",
    "        token_count = 0\n",
    "\n",
    "        for query in prompt_df['Prompt']:\n",
    "\n",
    "            query_vector = vectorizer.transform([query]).toarray()\n",
    "            query_vector = np.array(query_vector, dtype='float32')\n",
    "            _, indices = index.search(query_vector, k)\n",
    "\n",
    "            # implement default file augment\n",
    "            temp_q = indices.flatten().tolist()\n",
    "\n",
    "\n",
    "            if default_files == True:\n",
    "                for element in [0,44]:\n",
    "                    if element not in temp_q:\n",
    "                        temp_q.append(element)\n",
    "\n",
    "            indices_list.append(temp_q)\n",
    "\n",
    "            # combining the full query with full searched docs\n",
    "            combined_query = query\n",
    "            for temp in temp_q:\n",
    "                combined_query = combined_query + ' ' + policy_scripts[temp]\n",
    "\n",
    "            RAGed_prompt.append(combined_query)\n",
    "            # tokenize\n",
    "            tokens = tokenizer.tokenize(combined_query)\n",
    "            \n",
    "            # Return the number of tokens\n",
    "            token_count += len(tokens)\n",
    "\n",
    "        # Adding search results for further check\n",
    "        prompt_df['TopIndices'] = indices_list\n",
    "        prompt_df['RAGed prompt'] = RAGed_prompt\n",
    "\n",
    "        #evaluate\n",
    "        accu_count = 0\n",
    "        accu_cover_count = 0\n",
    "        for i in range(len(prompt_df)):\n",
    "            temp, cover, missed = evaluate_retrieval(prompt_df['TopIndices'][i] , label_df['True'][i])\n",
    "\n",
    "            accu_count += int(temp)\n",
    "            accu_cover_count += cover\n",
    "\n",
    "            missed_list.append(missed)\n",
    "\n",
    "        accuracy_1 = accu_count/len(prompt_df)\n",
    "        coverage_1 = accu_cover_count/len(prompt_df)\n",
    "        print(f\"For top {k} searches:\\nAccuracy of search results containing all correct labels: {accuracy_1 * 100},\\n Average coverage of correct labels: {coverage_1 * 100}\")\n",
    "\n",
    "        token_1 = token_count/len(prompt_df)\n",
    "        print(f\"Average tokens combining the query and retrieved docs: {token_1}\")\n",
    "\n",
    "        # Add to the lists\n",
    "        accuracies.append(accuracy_1)\n",
    "        coverages.append(coverage_1)\n",
    "        num_tokens.append(token_1)\n",
    "        \n",
    "    return accuracies, coverages, num_tokens, missed_list\n"
   ]
  },
  {
   "cell_type": "code",
   "execution_count": 10,
   "metadata": {},
   "outputs": [
    {
     "name": "stdout",
     "output_type": "stream",
     "text": [
      "For top 5 searches:\n",
      "Accuracy of search results containing all correct labels: 27.500000000000004,\n",
      " Average coverage of correct labels: 69.79166666666667\n",
      "Average tokens combining the query and retrieved docs: 1952.925\n",
      "For top 6 searches:\n",
      "Accuracy of search results containing all correct labels: 33.0,\n",
      " Average coverage of correct labels: 74.59166666666663\n",
      "Average tokens combining the query and retrieved docs: 2260.83\n",
      "For top 7 searches:\n",
      "Accuracy of search results containing all correct labels: 40.5,\n",
      " Average coverage of correct labels: 78.34166666666661\n",
      "Average tokens combining the query and retrieved docs: 2525.23\n",
      "For top 8 searches:\n",
      "Accuracy of search results containing all correct labels: 47.5,\n",
      " Average coverage of correct labels: 81.19166666666663\n",
      "Average tokens combining the query and retrieved docs: 2780.31\n",
      "For top 9 searches:\n",
      "Accuracy of search results containing all correct labels: 52.0,\n",
      " Average coverage of correct labels: 83.34166666666664\n",
      "Average tokens combining the query and retrieved docs: 3042.835\n",
      "For top 10 searches:\n",
      "Accuracy of search results containing all correct labels: 56.00000000000001,\n",
      " Average coverage of correct labels: 84.68333333333334\n",
      "Average tokens combining the query and retrieved docs: 3265.8\n",
      "For top 11 searches:\n",
      "Accuracy of search results containing all correct labels: 58.5,\n",
      " Average coverage of correct labels: 85.65000000000002\n",
      "Average tokens combining the query and retrieved docs: 3490.355\n",
      "For top 12 searches:\n",
      "Accuracy of search results containing all correct labels: 62.5,\n",
      " Average coverage of correct labels: 86.78333333333335\n",
      "Average tokens combining the query and retrieved docs: 3700.78\n",
      "For top 13 searches:\n",
      "Accuracy of search results containing all correct labels: 65.5,\n",
      " Average coverage of correct labels: 88.10833333333333\n",
      "Average tokens combining the query and retrieved docs: 3908.345\n",
      "For top 14 searches:\n",
      "Accuracy of search results containing all correct labels: 68.5,\n",
      " Average coverage of correct labels: 89.69166666666669\n",
      "Average tokens combining the query and retrieved docs: 4115.39\n",
      "For top 15 searches:\n",
      "Accuracy of search results containing all correct labels: 73.0,\n",
      " Average coverage of correct labels: 91.37500000000001\n",
      "Average tokens combining the query and retrieved docs: 4334.185\n",
      "For top 16 searches:\n",
      "Accuracy of search results containing all correct labels: 77.0,\n",
      " Average coverage of correct labels: 92.58333333333336\n",
      "Average tokens combining the query and retrieved docs: 4527.865\n",
      "For top 17 searches:\n",
      "Accuracy of search results containing all correct labels: 78.5,\n",
      " Average coverage of correct labels: 92.93333333333335\n",
      "Average tokens combining the query and retrieved docs: 4719.01\n",
      "For top 18 searches:\n",
      "Accuracy of search results containing all correct labels: 79.5,\n",
      " Average coverage of correct labels: 93.30833333333334\n",
      "Average tokens combining the query and retrieved docs: 4905.34\n",
      "For top 19 searches:\n",
      "Accuracy of search results containing all correct labels: 82.0,\n",
      " Average coverage of correct labels: 93.97500000000001\n",
      "Average tokens combining the query and retrieved docs: 5105.31\n",
      "For top 20 searches:\n",
      "Accuracy of search results containing all correct labels: 83.0,\n",
      " Average coverage of correct labels: 94.43333333333334\n",
      "Average tokens combining the query and retrieved docs: 5302.115\n"
     ]
    }
   ],
   "source": [
    "upper_search = 20\n",
    "a,b,c, last_missed_list = k_top_search(upper_thres= upper_search,vectorizer = vectorizer, index = index, prompt_df = prompt_df, label_df = label_df)"
   ]
  },
  {
   "cell_type": "code",
   "execution_count": 11,
   "metadata": {},
   "outputs": [
    {
     "name": "stdout",
     "output_type": "stream",
     "text": [
      "Missed labels and their frequencies:\n",
      "33: 10\n",
      "45: 9\n",
      "32: 5\n",
      "37: 4\n",
      "12: 3\n",
      "23: 3\n",
      "5: 2\n",
      "31: 2\n",
      "44: 1\n",
      "46: 1\n",
      "10: 1\n",
      "11: 1\n",
      "34: 1\n"
     ]
    }
   ],
   "source": [
    "missed_df = pd.DataFrame({'Missed_Labels':last_missed_list})\n",
    "\n",
    "# Flatten the lists of missed labels into a single list\n",
    "missed_labels = [label for sublist in missed_df['Missed_Labels'] for label in sublist]\n",
    "\n",
    "# Calculate frequency counts of missed labels\n",
    "missed_labels_counts = pd.Series(missed_labels).value_counts().to_dict()\n",
    "\n",
    "# Print the frequency counts\n",
    "print(\"Missed labels and their frequencies:\")\n",
    "for label, count in missed_labels_counts.items():\n",
    "    print(f\"{label}: {count}\")"
   ]
  },
  {
   "cell_type": "code",
   "execution_count": null,
   "metadata": {},
   "outputs": [],
   "source": [
    "import matplotlib.pyplot as plt\n"
   ]
  },
  {
   "cell_type": "code",
   "execution_count": null,
   "metadata": {},
   "outputs": [],
   "source": [
    "miss = pd.DataFrame.from_dict(missed_labels_counts, orient='index', columns=['Value'])\n",
    "\n",
    "# Plot the bar chart\n",
    "miss.plot(kind='bar', legend=None)\n",
    "plt.xlabel('Missed Index Label')\n",
    "plt.xticks(rotation=45)\n",
    "plt.ylabel('Missed Frequency')\n",
    "plt.title('TF-IDF Model RAG Missed Indices Counts')\n",
    "plt.savefig('../images/TF-IDF_miss.png')\n",
    "plt.show()"
   ]
  },
  {
   "cell_type": "code",
   "execution_count": null,
   "metadata": {},
   "outputs": [
    {
     "data": {
      "image/png": "[encoded data removed]",
      "text/plain": [
       "<Figure size 800x600 with 1 Axes>"
      ]
     },
     "metadata": {},
     "output_type": "display_data"
    }
   ],
   "source": [
    "\n",
    "\n",
    "# Plot acc and cover.\n",
    "plt.figure(figsize=(8, 6))\n",
    "plt.plot(range(5, upper_search+1), a, label='Accuracy (Fully Match)')\n",
    "plt.plot(range(5, upper_search+1), b, label='Average Coverage')\n",
    "plt.xlabel('Num of Searched Results')\n",
    "plt.ylabel('Percentage')\n",
    "plt.title('Fully Match Accuracy and Average Coverage vs. Num of Searched Results Included')\n",
    "plt.legend()\n",
    "plt.savefig('../images/acc_1.png')  # Save the plot\n",
    "#plt.close()  # Close the figure to release memory\n"
   ]
  },
  {
   "cell_type": "code",
   "execution_count": null,
   "metadata": {},
   "outputs": [
    {
     "data": {
      "image/png": "[encoded data removed]",
      "text/plain": [
       "<Figure size 800x600 with 1 Axes>"
      ]
     },
     "metadata": {},
     "output_type": "display_data"
    }
   ],
   "source": [
    "\n",
    "# Plot number of tokens\n",
    "plt.figure(figsize=(8, 6))\n",
    "plt.plot(range(5, upper_search+1), c, color='green')\n",
    "plt.xlabel('Num of Searched Results')\n",
    "plt.ylabel('Total Number of Tokens')\n",
    "plt.title('Number of Tokens vs. k')\n",
    "plt.savefig('../images/num_tokens_1.png')  # Save the plot to a specific path\n",
    "#plt.close()  # Close the figure to release memory"
   ]
  },
  {
   "cell_type": "code",
   "execution_count": null,
   "metadata": {},
   "outputs": [],
   "source": [
    "indices_list = []\n",
    "token_count = 0\n",
    "for query in prompt_df['Prompt']:\n",
    "\n",
    "    query_vector = vectorizer.transform([query]).toarray()\n",
    "    query_vector = np.array(query_vector, dtype='float32')\n",
    "    _, indices = index.search(query_vector, 6)\n",
    "    indices_list.append(indices.flatten().tolist())\n",
    "\n",
    "    combined_query = query\n",
    "    for temp in indices.flatten().tolist():\n",
    "        combined_query = combined_query + ' ' + policy_scripts[temp]\n",
    "\n",
    "    # tokenize\n",
    "    tokens = tokenizer.tokenize(combined_query)\n",
    "    \n",
    "    # Return the number of tokens\n",
    "    token_count += len(tokens)\n",
    "\n",
    "# Adding search results for further check\n",
    "prompt_df['Top3Indices'] = indices_list\n"
   ]
  },
  {
   "cell_type": "code",
   "execution_count": null,
   "metadata": {},
   "outputs": [],
   "source": [
    "# Save to new sheet, only run once\n",
    "with pd.ExcelWriter(excel_path, mode='a', engine='openpyxl', if_sheet_exists='replace') as writer:\n",
    "    prompt_df[['Prompt','Top3Indices']].to_excel(writer, sheet_name='Eval_result1')\n"
   ]
  },
  {
   "cell_type": "code",
   "execution_count": null,
   "metadata": {},
   "outputs": [
    {
     "name": "stdout",
     "output_type": "stream",
     "text": [
      "For top 5 searches:\n",
      "Accuracy of search results containing all correct labels: 54.50000000000001,\n",
      " Average coverage of correct labels: 84.25\n",
      "Average tokens combining the query and retrieved docs: 2163.885\n",
      "For top 6 searches:\n",
      "Accuracy of search results containing all correct labels: 59.0,\n",
      " Average coverage of correct labels: 85.89166666666667\n",
      "Average tokens combining the query and retrieved docs: 2344.85\n",
      "For top 7 searches:\n",
      "Accuracy of search results containing all correct labels: 62.0,\n",
      " Average coverage of correct labels: 86.92499999999998\n",
      "Average tokens combining the query and retrieved docs: 2514.74\n",
      "For top 8 searches:\n",
      "Accuracy of search results containing all correct labels: 63.5,\n",
      " Average coverage of correct labels: 87.525\n",
      "Average tokens combining the query and retrieved docs: 2692.235\n",
      "For top 9 searches:\n",
      "Accuracy of search results containing all correct labels: 66.5,\n",
      " Average coverage of correct labels: 88.39166666666667\n",
      "Average tokens combining the query and retrieved docs: 2890.41\n",
      "For top 10 searches:\n",
      "Accuracy of search results containing all correct labels: 68.5,\n",
      " Average coverage of correct labels: 89.25833333333334\n",
      "Average tokens combining the query and retrieved docs: 3067.78\n",
      "For top 11 searches:\n",
      "Accuracy of search results containing all correct labels: 69.5,\n",
      " Average coverage of correct labels: 89.80833333333337\n",
      "Average tokens combining the query and retrieved docs: 3248.945\n",
      "For top 12 searches:\n",
      "Accuracy of search results containing all correct labels: 72.5,\n",
      " Average coverage of correct labels: 90.50833333333335\n",
      "Average tokens combining the query and retrieved docs: 3429.175\n",
      "For top 13 searches:\n",
      "Accuracy of search results containing all correct labels: 74.5,\n",
      " Average coverage of correct labels: 91.41666666666669\n",
      "Average tokens combining the query and retrieved docs: 3600.045\n",
      "For top 14 searches:\n",
      "Accuracy of search results containing all correct labels: 76.5,\n",
      " Average coverage of correct labels: 92.37500000000001\n",
      "Average tokens combining the query and retrieved docs: 3776.7\n",
      "For top 15 searches:\n",
      "Accuracy of search results containing all correct labels: 78.0,\n",
      " Average coverage of correct labels: 92.85000000000001\n",
      "Average tokens combining the query and retrieved docs: 3945.44\n",
      "For top 16 searches:\n",
      "Accuracy of search results containing all correct labels: 81.0,\n",
      " Average coverage of correct labels: 93.64166666666668\n",
      "Average tokens combining the query and retrieved docs: 4112.385\n",
      "For top 17 searches:\n",
      "Accuracy of search results containing all correct labels: 81.5,\n",
      " Average coverage of correct labels: 93.76666666666668\n",
      "Average tokens combining the query and retrieved docs: 4280.07\n",
      "For top 18 searches:\n",
      "Accuracy of search results containing all correct labels: 82.0,\n",
      " Average coverage of correct labels: 94.01666666666668\n",
      "Average tokens combining the query and retrieved docs: 4448.01\n",
      "For top 19 searches:\n",
      "Accuracy of search results containing all correct labels: 83.5,\n",
      " Average coverage of correct labels: 94.43333333333334\n",
      "Average tokens combining the query and retrieved docs: 4625.38\n",
      "For top 20 searches:\n",
      "Accuracy of search results containing all correct labels: 83.5,\n",
      " Average coverage of correct labels: 94.55833333333334\n",
      "Average tokens combining the query and retrieved docs: 4800.435\n"
     ]
    }
   ],
   "source": [
    "# restart the loop, with default file selection built in\n",
    "default_files = True\n",
    "a_new,b_new,c_new, last_missed_list = k_top_search(upper_thres= upper_search,vectorizer = vectorizer, index = index, prompt_df = prompt_df, label_df = label_df)"
   ]
  },
  {
   "cell_type": "code",
   "execution_count": null,
   "metadata": {},
   "outputs": [
    {
     "data": {
      "image/png": "[encoded data removed]",
      "text/plain": [
       "<Figure size 800x600 with 1 Axes>"
      ]
     },
     "metadata": {},
     "output_type": "display_data"
    }
   ],
   "source": [
    "import matplotlib.pyplot as plt\n",
    "\n",
    "# Plot acc and cover.\n",
    "plt.figure(figsize=(8, 6))\n",
    "plt.plot(range(5, upper_search+1), a, label='Accuracy (Fully Match)')\n",
    "plt.plot(range(5, upper_search+1), a_new, label='Accuracy with Default Selection(Fully Match)')\n",
    "plt.plot(range(5, upper_search+1), b, label='Average Coverage')\n",
    "plt.plot(range(5, upper_search+1), b_new, label='Average Coverage with Default Selection')\n",
    "plt.xlabel('Num of Searched Results')\n",
    "plt.ylabel('Percentage')\n",
    "plt.title('Fully Match Accuracy and Average Coverage vs. Num of Searched Results Included')\n",
    "plt.legend()\n",
    "plt.savefig('../images/acc_1.png')  # Save the plot to a specific path\n",
    "#plt.close()  # Close the figure to release memory\n"
   ]
  },
  {
   "cell_type": "code",
   "execution_count": null,
   "metadata": {},
   "outputs": [
    {
     "data": {
      "image/png": "[encoded data removed]",
      "text/plain": [
       "<Figure size 800x600 with 1 Axes>"
      ]
     },
     "metadata": {},
     "output_type": "display_data"
    }
   ],
   "source": [
    "# Plot number of tokens\n",
    "plt.figure(figsize=(8, 6))\n",
    "plt.plot(range(5, upper_search+1), c,marker = 'o', label='Num of Tokens')\n",
    "plt.plot(range(5, upper_search+1),  c_new, label='Num of Token with Default Selection')\n",
    "plt.xlabel('Num of Searched Results')\n",
    "plt.ylabel('Total Number of Tokens')\n",
    "plt.title('Number of Tokens vs. k')\n",
    "plt.legend()\n",
    "plt.savefig('../images/num_tokens_1.png')  # Save the plot to a specific path\n",
    "#plt.close()  # Close the figure to release memory"
   ]
  },
  {
   "cell_type": "code",
   "execution_count": null,
   "metadata": {},
   "outputs": [],
   "source": [
    "# pack data for plot in other .ipynb file\n",
    "result_pd = pd.DataFrame(a, columns = ['acc'])\n",
    "\n",
    "result_pd = pd.concat([result_pd, pd.DataFrame(a_new, columns = ['acc_new']),\n",
    "                       pd.DataFrame(b, columns = ['cov']),\n",
    "                       pd.DataFrame(b_new, columns = ['cov_new']),\n",
    "                       pd.DataFrame(c, columns = ['token']),\n",
    "                       pd.DataFrame(c_new, columns = ['token_new']),], axis = 1)\n",
    "result_pd.index += 5\n",
    "result_pd.to_csv('../Dataset/data_tfidf.csv', index=False)"
   ]
  },
  {
   "cell_type": "code",
   "execution_count": null,
   "metadata": {},
   "outputs": [
    {
     "data": {
      "image/png": "[encoded data removed]",
      "text/plain": [
       "<Figure size 1000x600 with 1 Axes>"
      ]
     },
     "metadata": {},
     "output_type": "display_data"
    },
    {
     "name": "stdout",
     "output_type": "stream",
     "text": [
      "\n",
      "### Document 4:\n",
      "Travel Insurance\n",
      "Travel Insurance needs to be activated before traveling overseas, travelling in the UK for fieldtrips or travelling on a business trip where there is an overnight stay or air travel involved.\n",
      "Insurance can be activated by completing a travel insurance request form, which can be found in the Insurance Section on the Finance website.\n",
      "The Insurance team will issue a cover note and provide details of the policy. There is no cost to departments for travel insurance. For regular travellers the Insurance Section can issue annual cover notes on request.\n",
      "If a claimant has an existing medical condition and is not travelling against their doctors’ orders, this is covered by the GNEI Travel Insurance Policy at no extra cost.\n",
      "Personal travel insurance cannot be claimed as GNEI already provides cover for business travel, please refer to Annex 2 for further information on this exclusion.\n",
      "\n",
      "### Document 18:\n",
      "Group Travel\n",
      "This is in relation to a staff conference or student field trip. Prior approval from the budget holder or departmental administrator/manager should be obtained before booking a group trip.\n",
      "The same rules apply for each category of travel and overnight costs as for travelling as an individual.\n",
      "All travel (including coach hire) and overnight costs should be booked in advance.\n",
      "GNEI's approved travel provider provides a group travel & conference booking facility, where all elements of the trip can be arranged. This can be used for arranging a business conference, as well as student field trips.\n",
      "Please ensure adequate insurance is in place for all staff and students on the trip. Travel insurance needs to be activated prior to the trip by using the Insurance section of the Finance website.\n",
      "\n",
      "### Document 45:\n",
      "Annex 2 – Exclusions\n",
      "In exceptional circumstances claims for some of these items may be allowed, prior approval should be obtained from the relevant PS Director, Faculty Director of Operations or School/PS Head of Finance. If prior approval is not obtained there is no guarantee that expenditure will be reimbursed.\n",
      "\n",
      "Broadband/Internet Provision\n",
      "Home internet connection cannot be claimed for in any circumstances.\n",
      "\n",
      "Entertainment and Hospitality\n",
      "GNEI will not pay for:\n",
      "Clothing for entertaining e.g. dress or suit hire\n",
      "Overnight accommodation\n",
      "\n",
      "Equipment\n",
      "All equipment should be purchased directly by GNEI via a Purchase Order (PO) and paid directly on invoice via Accounts Payable. Categories of equipment include, although not exclusively, IT hardware & software, laboratory equipment & consumables. GNEI have negotiated agreements with Contracted Suppliers for equipment.\n",
      "\n",
      "Fines\n",
      "GNEI does not pay:\n",
      "Fines or fixed penalties\n",
      "Administration fees charged by third parties for recovering fines\n",
      "Fines for motoring offences\n",
      "\n",
      "Gifts\n",
      "GNEI will not pay for gifts in any circumstances. Gifts for staff should be purchased using personal funds or via a staff collection. Gifts should not be claimed via expenses, nor purchased via iProcurement or a GNEI Purchasing Card.\n",
      "\n",
      "Insurance\n",
      "Travel insurance should be obtained from the Insurance section of the GNEI Finance website. Personal travel insurance policies will not cover claimants whilst abroad on GNEI’s behalf, and cannot be claimed as GNEI already provides cover for business travel. If a claim is received for travel insurance it will not be paid. Personal car/bicycle/motorcycle insurance cannot be claimed.\n",
      "\n",
      "Mobile Phone Contracts/Hardware\n",
      "Monthly contract charges and hardware cannot be claimed for. If a mobile phone is required for work purposes it should be obtained from ISD Telecoms. \n",
      "GNEI will pay for the cost of business calls made from a personal mobile phone, please see the ‘Telephone costs’ section of the GNEI Expenses Policy.\n",
      "\n",
      "Personal Expenditure\n",
      "Personal incidental costs while away on GNEI activity cannot be claimed. These include, although not exclusively, newspapers, bar drinks, mini bar, hotel video and health and fitness facilities.\n",
      "\n",
      "Stationery\n",
      "All stationery must be purchased via GNEI's approved supplier, via a PO and paid directly on invoice via Accounts Payable.\n",
      "\n",
      "### Document 44:\n",
      "Annex 1 – Expense claim procedures\n",
      "How to make a claim\n",
      "All GNEI employees and students with a UK bank account must claim expenses online via the GNEIExpenses module on GNEIFinance. Anyone else should use the external visitor system.\n",
      "\n",
      "Receipts\n",
      "For GNEI employees, electronic images of original VAT receipts must be attached to all claims. Once submitted each claim will be routed automatically to the appropriate approver(s) and Accounts Payable.\n",
      "\n",
      "For students or external individuals, a claim will be processed once the approved claim form and all supporting paper receipts have reached Accounts Payable.\n",
      "\n",
      "Please see Annex 3 for further information on VAT receipts. Credit card slips or credit card/bank statements will not be accepted as evidence of business expenditure. All receipts used must include details of the goods or services purchased. \n",
      "\n",
      "If the necessary receipts or documentation is not available claimants should obtain approval from the relevant PS Director, Faculty Director of Operations or School/PS Head of Finance prior to submitting the claim, and provide evidence of this approval attached to the claim. Use the Justification field in GNEIExpenses to notify Accounts Payable that the approval is attached.\n",
      "\n",
      "Approval\n",
      "GNEI operates a system of delegated authorisation to staff and approval limits are set out in the GNEI Financial Regulations. Expense approvers should be aware of the funds available in the project to which the claim is being charged to.\n",
      "\n",
      "All expense claims require authorisation prior to payment. This authorisation is in line with GNEI’s Financial Authorised Signatory hierarchy. It is the responsibility of the claimant to ensure that the approver will confirm authorisation for each item in the claim. Claimants may be personally liable for expenses not subsequently approved.\n",
      "\n",
      "Approver(s) must personally review and then approve the claim. Approvers are expected to review claims promptly and consider the following before approving:\n",
      "The appropriateness and quantum of the expenditure\n",
      "The expenses category chosen for each item\n",
      "The project code(s) charged\n",
      "Any policy violations\n",
      "That receipts or receipt images correspond to the claim and constitute itemised receipts, not credit card slips/bank statements.\n",
      "That items within the claim meet the terms of the research funder’s terms and\n",
      "conditions (if related to sponsored research).\n",
      "\n",
      "If there are queries on any of the above, claims should be challenged by the Approver and\n",
      "rejected if incorrect.\n",
      "\n",
      "Expense claims not appropriately authorised will be returned.\n",
      "\n",
      "### Document 20:\n",
      " Overnight costs and allowances\n",
      "Such costs are subject to the requirement for pre-approval in section 4.3 above.\n",
      "\n",
      "Hotels\n",
      "In line with the GNEI travel policy, Hotels must be booked via GNEI's approved travel provider for both overseas and UK travel, with recovery through expenses only permitted in those cases set out in Section 3.1 of that policy and subject to an appropriate level of advance approval as set out in section 3.2. The approval obtained must be attached to submitted expense claims alongside receipts for the room cost, breakfast, dinner and other eligible incidentals.\n",
      "Hotel city tax: from time to time, additional local city tax charges may apply for accommodation. These can be reclaimed via expenses.\n",
      "\n",
      "### Document 8:\n",
      "Receipts\n",
      "Relevant tickets or documentation should be kept and attached to the expense claim electronically.\n",
      "Claimants who have a rail or Oyster season ticket enabled to use the underground can only claim for travel if extra expenses are incurred that are not covered by the season ticket and can provide a receipt as proof of the expense.\n",
      "Ticket machines will provide receipts if the ticket is retained by the automatic barrier at the end of a journey.\n",
      "\n",
      "### Document 11:\n",
      "Car/bicycle/motorcycle insurance\n",
      "It is important that adequate personal insurance cover for business use is in place, as cars, bicycles or motorcycles belonging to claimants are not covered by GNEI’s insurance. Personal insurance cannot be claimed, see Annex 2 for further information.\n",
      "If a staff member uses or allows another member of staff to use a vehicle on GNEI’s business that is insured for third party risks only, GNEI will not be held liable for any of the following:\n",
      "damage or repairs to the vehicle\n",
      "property lost or damaged\n",
      "personal injuries sustained or caused during or as a result of such use.\n",
      "\n",
      "### Document 0:\n",
      "1. Introduction \n",
      "This Expenses Policy (‘the Policy’) provides guidance to all individuals claiming reimbursement of reasonable expenses incurred in connection with GNEI business.\n",
      "GNEI is a charity and a large recipient of public funds from UKRI and the Office for Students, grants from other public bodies, charities and fees paid by students. All expenditure should be appropriate and modest in scale.\n",
      "This policy has been prepared in accordance with Income Tax and National Insurance Contribution regulations and Her Majesty’s Revenue and Customs (HMRC) regulations.\n",
      "\n",
      "\n",
      "\n",
      "2. Scope\n",
      "This policy applies to all spend on GNEI activities including from research grants and discretionary accounts as well as departmental codes. \n",
      "This policy covers the following areas of expenditure:\n",
      "Travel\n",
      "Overnight costs and allowances\n",
      "Telephone and internet costs\n",
      "Entertainment & Hospitality\n",
      "Training\n",
      "Subscriptions\n",
      "Advances\n",
      "Other Expenditure\n",
      "For items that do not fall under any of the above headings, please refer to your local finance team or Accounts Payable at expenses@gnei.ac.uk.\n",
      "For expense claim procedures, please refer to Annex 1.\n",
      "Generally, GNEI will not reimburse individuals for:\n",
      "Broadband/Internet Provision\n",
      "Equipment\n",
      "Fines\n",
      "Gifts\n",
      "Insurance\n",
      "Mobile Phone Contracts/Hardware\n",
      "Personal Expenditure\n",
      "Professional Subscriptions\n",
      "Stationery\n",
      "For further details on the above exclusions, please refer to Annex 2.\n",
      "Information on VAT aspects which are common to all claims can be found at Annex 3.\n",
      "This policy also provides information on subsistence payments for visiting Research Fellows, please refer to Annex 4.\n",
      "Childcare and caring responsibility can be claimed in certain circumstances, please refer to Annex 5.\n",
      "\n",
      "\n",
      "\n",
      "3. General Principles\n",
      "GNEI employees and all others engaged in GNEI activity (collectively claimants) will be reimbursed for the actual cost of expenses incurred, wholly, exclusively and necessarily in the performance of GNEI activity as prescribed in this policy.\n",
      "The expense must be justifiable and reasonable according to the information in this policy, and the claim should always be prepared honestly, legally and responsibly. Any breach of the policy could lead to disciplinary action, up to and including dismissal.\n",
      "Whilst this policy aims to provide comprehensive guidance on reimbursable out-of- pocket expenditure, it is recommended that staff still seek advance approval from their budget holder or department manager in any situation where interpretation of this policy is in doubt.\n",
      "Employees should be able to procure the majority of goods and services required for GNEI business using the standard purchase to payment procedures using the GNEIFinance system.\n",
      "It is the responsibility of authorised signatories to ensure that this expenses policy is upheld; and it should be noted that individual claims falling outside of the policy may be subject to review and/or rejection by Finance.\n",
      "Electronic images of original receipts must accompany all claims. Credit card slips or credit card/bank statements will not be accepted as evidence of business expenditure. All receipts used should include details of what goods or services have been purchased. Original paper receipts do not need to be stored locally, unless they relate to sponsored research and it is explicit in the terms of the grant that original paper receipts need to be retained.\n",
      "When making a claim for a group, the most senior person present should pay for the expenditure and make the claim.\n",
      "Expenses should be submitted as soon as possible after they have been incurred. Claims must be made within three months. Approval should be gained from the relevant School or PS Head of Finance if the claim is over three months old.\n",
      "It costs a fixed amount to process any claim, so claimants should endeavour not to submit claims for less than £33, unless they represent the total of expenses in a three-month period.\n",
      "If a claimant inadvertently makes an error with an expense claim and has been reimbursed, GNEI will recover the amount from them.\n",
      "Expenses must not be used as a way of rewarding people or encouraging them to work in remote locations.\n",
      "GNEI will not meet the cost of expenses for spouses, partners, other family members or friends of GNEI staff.\n",
      "Claims are checked by Accounts Payable staff and any deemed to be fraudulent will be investigated and referred to GNEI’s Internal Auditors. If a claimant is found to have submitted a fraudulent claim they will face disciplinary proceedings, leading to penalties up to and including summary dismissal.\n",
      "\n",
      "### Document 2:\n",
      "Private travel costs\n",
      "The following cannot be claimed:\n",
      "Travel between home and normal place of work.\n",
      "Business travel broadly similar to the claimant’s normal commute.\n",
      "Recreational travel and accommodation at or near the business travel destination.\n",
      "Travel or accommodation for family or friends accompanying the claimant on the business journey.\n",
      "\n",
      "### Document 6:\n",
      " Train journeys These should be standard class unless a heavily discounted first-class ticket is booked significantly in advance of the date of travel. If the claimant does travel first class, an explanation must be included on the claim and if necessary the claim will be passed to the relevant School or PS Head of Finance for approval. Trains should be booked in advance where possible via GNEI's approved travel provider or similar rail travel provider as this is the most cost effective option. Tickets can then be collected at the relevant station or sent via post.\n"
     ]
    }
   ],
   "source": [
    "import matplotlib.pyplot as plt\n",
    "\n",
    "# Retrieve and plot the distances\n",
    "plt.figure(figsize=(10, 6))\n",
    "plt.bar(np.sort(indices[0]), distances[0])\n",
    "plt.title('FAISS Retrieval Distances')\n",
    "plt.xlabel('Index of Retrieved Documents')\n",
    "plt.ylabel('Distance')\n",
    "plt.show()\n",
    "\n",
    "# Print the actual documents\n",
    "for idx in indices[0]:\n",
    "    print(f\"\\n### Document {idx}:\\n{policy_scripts[idx]}\" )\n"
   ]
  },
  {
   "cell_type": "code",
   "execution_count": 64,
   "metadata": {},
   "outputs": [],
   "source": [
    "file_path = '../datasets/Train_Data.xlsx'\n",
    "model_name = \"mistralai/Mistral-7B-Instruct-v0.2\"\n",
    "test_frame = pd.read_excel(file_path,sheet_name=2, engine='openpyxl')\n",
    "\n",
    "data_test = test_frame#[test_frame[\"Category\"] == \"Accomodation and Sustenance\"]\n",
    "data_test.reset_index(drop=True, inplace=True)"
   ]
  },
  {
   "cell_type": "code",
   "execution_count": 59,
   "metadata": {},
   "outputs": [],
   "source": [
    "def policy_RAG(prompt, k = 20):\n",
    "    \"\"\"\n",
    "    retrieve relative k scripts according to the prompt and format them as policy context\n",
    "    prompt:         str\n",
    "    k:              int\n",
    "    \"\"\"\n",
    "    print(prompt)\n",
    "    query_vector = vectorizer.transform([prompt]).toarray()\n",
    "    query_vector = np.array(query_vector, dtype='float32')\n",
    "    _, indices = index.search(query_vector, k)\n",
    "\n",
    "    # implement default file augment\n",
    "    temp_q = indices.flatten().tolist()\n",
    "    if default_files == True:\n",
    "        for element in [0,44]:\n",
    "            if element not in temp_q:\n",
    "                temp_q.append(element)\n",
    "\n",
    "    indices = temp_q\n",
    "\n",
    "    # combining the full query with full searched docs\n",
    "    combined_query = prompt\n",
    "    for temp in indices:\n",
    "        combined_query = combined_query + '\\n' + policy_scripts[temp]\n",
    "\n",
    "    #print(indices)\n",
    "\n",
    "    return combined_query\n",
    "\n",
    "def get_responses(prompt_num, data_frame):\n",
    "    \"\"\"\n",
    "        prompt_num: int: how many data points in data_frame involved\n",
    "        data_frame: pdDataframe: provides a \"Prompt\" column containing scenarios\n",
    "        # context:    str: the policy script to be included in the prompt\n",
    "\n",
    "        return:\n",
    "        pdDataframe: model_original_resp: a df containing trimmed responses in a column manner\n",
    "        \"\"\"\n",
    "    model_original_resp = []\n",
    "    for i in range(prompt_num):\n",
    "        # iterating through all data points\n",
    " \n",
    "        # RAG the policy\n",
    "        context = policy_RAG(data_frame['Prompt'][i], k = 15)\n",
    "        #print(context)\n",
    "\n",
    "        prompt = f\"\"\"A <<<POLICY>>> and a <<<SCENARIO>>> will be provided, you are GREAT at analysing the <<<SCENARIO>>> according to the <<<POLICY>>>. Your answer MUST and and CAN ONLY be a valid json format, having 4 text fields: Classification T1, Reimbursement Amount, Classification T2, and Reasons. Your answer should follow these structures: \\n 1) \"Classification T1\" :you MUST choose 'Policy Violated' or 'Policy Not Violated' for the activity in the <<<scenario>>> \\n \\n 2) \"Reimbursement Amount\" : Answer One number directly that according to the Policy the total amount of money can be reimbursed \\n 3) \"Classification T2\" : Compare to the requested reimbursement amount in the scenario, and answer if the claim is 'Fully Reimbursable'/'Partially Reimbursable'/'Not Reimbursable'/'Further Clarification Required'. \\n 4) give reasons for your choices according to the <<<POLICY>>>.\\n\\n\n",
    "\n",
    "        <<<<<start examples:\n",
    "\n",
    "        <<<<<example one:\n",
    "        scenario: I used a TFL travel card to travel from home to the GNEI work station every day for a week and it cost me £50. How much can I reimburse?\n",
    "\n",
    "        Answer:{{\"Classification T1\" : \"Policy Violated\",\n",
    "                \"Reimbursement Amount\" : £0,\n",
    "                \"Classification T2\" : \"Not Reimbursable\",\n",
    "                \"Reasons\":\"According to the GNEI Expenses Policy, travel between home and normal place of work (i.e., the GNEI campus) cannot be claimed. Thus, this expense cannot be reimbursed.\"}};\n",
    "\n",
    "        <<<<<example two:\n",
    "        scenario: I booked a taxi from the GNEI work station to my home yesterday night. The total cost was £25. I left the campus at 11:30pm. Can I expense this charge?\n",
    "\n",
    "        Answer:{{\"Classification T1\" : \"Policy Not Violated\",\n",
    "                \"Reimbursement Amount\" : £25,\n",
    "                \"Classification T2\" : \"Fully Reimbursable\",\n",
    "                \"Reasons\":\"The GNEI Expenses Policy states that taxi fares can be claimed for journeys where a member of staff is working in the office very late, specifically after 11pm​​. Therefore, your taxi fare under these circumstances falls within the allowable expenses according to the policy, and total reimbursable amount is £25.\"}};\n",
    "        \n",
    "        <<<<<example three:\n",
    "        scenario: I booked a taxi from the GNEI campus to my home yesterday night. The total cost was £35. I left the campus at 9:30pm. Can I expense this charge?\n",
    "\n",
    "        Answer:{{\"Classification T1\" : \"Policy Violated\",\n",
    "                \"Reimbursement Amount\" : £0,\n",
    "                \"Classification T2\" : \"Further Clarification Required\",\n",
    "                \"Reasons\":\"Based on the GNEI Expenses Policy, taxi fares can only be claimed for specific reasons, such as if a member of staff is working in the office very late, specifically mentioned as after 11pm. Since you left the campus at 9:30pm, your taxi fare does not meet the criteria set out under the \"Taxis\" section for allowable taxi expenses.\n",
    "                Therefore, based on the information provided in the GNEI Expenses Policy, you cannot expense the £35 taxi charge for a trip from the GNEI campus to your home that occurred at 9:30pm.\"}};\n",
    "        \n",
    "        <<<<<example four:\n",
    "        scenario: I drove to Cambridge for a business trip along with another GNEI colleagues. The total distance covered was 60 miles. I accidentally hit the sidewalk and damaged the side of the car. The total cost of the repairs was £100. How much can I claim in expenses?  \n",
    "\n",
    "        Answer:{{\"Classification T1\" : \"Policy Violated\",\n",
    "                \"Reimbursement Amount\" : £30,\n",
    "                \"Classification T2\" : \"Partially Reimbursable\",\n",
    "                \"Reasons\":\"For your business trip to Cambridge, driving a car for a total distance of 60 miles with another GNEI colleagues, you can claim expenses based on the GNEI Expenses Policy as follows:\n",
    "                - **Mileage Claim**: According to section **4.32**, mileage for cars is reimbursed at a rate of 50p per mile for the first 11,000 miles in a tax year. Therefore, for 65 miles, the claim would be 60 miles x £0.50/mile = £30.\n",
    "                - **Damage to the Vehicle**: Section **4.34** specifies that GNEI will not be held liable for damage or repairs to the vehicle used on GNEI’s business. Thus, the cost of repairs due to the accident, totaling £100, cannot be claimed under the policy.\n",
    "                **Documentation and Approvals Required:**\n",
    "                1. **Mileage Documentation**: Include details such as the start and end points of the journey, the purpose of the business trip, and the total number of miles claimed.\n",
    "                2. **Approval for Business Travel**: Ensure that the business trip was pre-approved as per GNEI's travel policy requirements.\n",
    "                3. **Vehicle Damage**: Since the policy excludes claims for vehicle damage or repairs, there is no requirement for documentation or approval in this context.\n",
    "\n",
    "                **Total Amount That Can Be Expensed: £30** (for mileage only, as vehicle repair costs are not covered).\"}};\n",
    "\n",
    "        examples End>>>>>\n",
    "\n",
    "        <<<<<Policy Start:{context}\n",
    "        \\n\\n\\nPolicy End>>>>>\\n\\n<<<<<Scenario Start:\\n\\n{data_frame['Prompt'][i]}\\n\\nScenario End>>>>>\"\"\"\n",
    "        \n",
    "        input_ids = tokenizer(prompt, return_tensors=\"pt\").to(\"cuda\")\n",
    "        # input = tokenizer.encode(prompt, return_tensors=\"pt\").to(\"cuda\")\n",
    "        # print(\"tokenization completed\",input_ids['input_ids'].shape)\n",
    "\n",
    "        #get \"Answer\" token ID in the tokenizer, forcing the model to start answering with \"Answer\" and thus give a json output\n",
    "        start_token_id = tokenizer.convert_tokens_to_ids(\"Answer\")\n",
    "       \n",
    "        outputs = model.generate(**input_ids,max_new_tokens = 400, min_new_tokens = 5,\n",
    "                                 #do_sample = False, temperature = 5, top_k = 0.9, \n",
    "                                 repetition_penalty = 1.2,\n",
    "                                 forced_bos_token_id = start_token_id) # alter max number of tokens here\n",
    "        \n",
    "        # trim the output by removing prompt\n",
    "        model_response = tokenizer.decode(outputs[0])\n",
    "\n",
    "        trimmed_output = model_response[len(prompt)+5:]\n",
    "\n",
    "        # collecting responses\n",
    "        model_original_resp.append(trimmed_output)\n",
    "\n",
    "        if ((i+1)%10 == 0):\n",
    "                print(f\"the\",(i+1),\"th prompt responded\")\n",
    "        #print(f\"the\",(i+1),\"th prompt responded\")\n",
    "    return model_original_resp\n"
   ]
  },
  {
   "cell_type": "code",
   "execution_count": 65,
   "metadata": {},
   "outputs": [
    {
     "name": "stderr",
     "output_type": "stream",
     "text": [
      "Setting `pad_token_id` to `eos_token_id`:2 for open-end generation.\n"
     ]
    },
    {
     "name": "stdout",
     "output_type": "stream",
     "text": [
      "I used a TFL travel card to travel from home to the GNEI campus every day for 2 weeks and it cost me £60. How much can I reimburse?\n"
     ]
    },
    {
     "name": "stderr",
     "output_type": "stream",
     "text": [
      "Setting `pad_token_id` to `eos_token_id`:2 for open-end generation.\n"
     ]
    },
    {
     "name": "stdout",
     "output_type": "stream",
     "text": [
      "I travelled from London to Amsterdam for a conference on behalf of GNEI for which I the flight tickets cost me £80. Additionally, during this transaction, the bank also charged me £15 for the exchange rate. How much can be reimbursed?\n"
     ]
    },
    {
     "name": "stderr",
     "output_type": "stream",
     "text": [
      "Setting `pad_token_id` to `eos_token_id`:2 for open-end generation.\n"
     ]
    },
    {
     "name": "stdout",
     "output_type": "stream",
     "text": [
      "I booked a taxi from the GNEI campus to my home yesterday night. The total cost was £30. I left the campus at 11:15pm. Can I expense this charge?\n"
     ]
    },
    {
     "name": "stderr",
     "output_type": "stream",
     "text": [
      "Setting `pad_token_id` to `eos_token_id`:2 for open-end generation.\n"
     ]
    },
    {
     "name": "stdout",
     "output_type": "stream",
     "text": [
      "I booked a taxi from the GNEI campus to my home yesterday night. The total cost was £30. I left the campus at 9:00pm. Can I expense this charge?\n"
     ]
    },
    {
     "name": "stderr",
     "output_type": "stream",
     "text": [
      "Setting `pad_token_id` to `eos_token_id`:2 for open-end generation.\n"
     ]
    },
    {
     "name": "stdout",
     "output_type": "stream",
     "text": [
      "I traveled to the GNEI campus to pick up some sensors from the lab and had to pay 15 pounds for the parking fee. Can I expense this?\n"
     ]
    },
    {
     "name": "stderr",
     "output_type": "stream",
     "text": [
      "Setting `pad_token_id` to `eos_token_id`:2 for open-end generation.\n"
     ]
    },
    {
     "name": "stdout",
     "output_type": "stream",
     "text": [
      "Does GNEI provide travel insurance?\n"
     ]
    },
    {
     "name": "stderr",
     "output_type": "stream",
     "text": [
      "Setting `pad_token_id` to `eos_token_id`:2 for open-end generation.\n"
     ]
    },
    {
     "name": "stdout",
     "output_type": "stream",
     "text": [
      "While on a business trip in Oslo, I used a train for a return journey from the airport to the city centre. The total cost of this was £20. Can this be claimed?\n"
     ]
    },
    {
     "name": "stderr",
     "output_type": "stream",
     "text": [
      "Setting `pad_token_id` to `eos_token_id`:2 for open-end generation.\n"
     ]
    },
    {
     "name": "stdout",
     "output_type": "stream",
     "text": [
      "While on a business trip to Oslo, I used a train for a return journey from the airport to the city centre. I travelled via first class. The total cost of this was £40. Can this be claimed? \n"
     ]
    },
    {
     "name": "stderr",
     "output_type": "stream",
     "text": [
      "Setting `pad_token_id` to `eos_token_id`:2 for open-end generation.\n"
     ]
    },
    {
     "name": "stdout",
     "output_type": "stream",
     "text": [
      "While on a business trip to Oslo, I used a train for a return journey from the airport to the city centre. I travelled via first class. The total cost of this was £40. I booked these tickets in advance and have an approval from the PS Head of Finance. Can this be claimed? \n"
     ]
    },
    {
     "name": "stderr",
     "output_type": "stream",
     "text": [
      "Setting `pad_token_id` to `eos_token_id`:2 for open-end generation.\n"
     ]
    },
    {
     "name": "stdout",
     "output_type": "stream",
     "text": [
      "While on a business trip in Oslo, I used a train for a return journey from the airport to the city centre.  I travelled with my wife. The tickets cost £20 each. Can this be claimed?\n"
     ]
    },
    {
     "name": "stderr",
     "output_type": "stream",
     "text": [
      "Setting `pad_token_id` to `eos_token_id`:2 for open-end generation.\n"
     ]
    },
    {
     "name": "stdout",
     "output_type": "stream",
     "text": [
      "the 10 th prompt responded\n",
      "In order to travel to Canada for work, I have to apply for a visa. The total cost of the visa application is £120. Additionally, I need to apply vaccinations as well, which cost £30 more. Can these be claimed?\n"
     ]
    },
    {
     "name": "stderr",
     "output_type": "stream",
     "text": [
      "Setting `pad_token_id` to `eos_token_id`:2 for open-end generation.\n"
     ]
    },
    {
     "name": "stdout",
     "output_type": "stream",
     "text": [
      "I hired a car for 3 days while on a business trip to Scotland. The total cost of the car hire was £150. Can this be expensed? \n"
     ]
    },
    {
     "name": "stderr",
     "output_type": "stream",
     "text": [
      "Setting `pad_token_id` to `eos_token_id`:2 for open-end generation.\n"
     ]
    },
    {
     "name": "stdout",
     "output_type": "stream",
     "text": [
      "I hired a car for 3 days while on a business trip to Scotland. The total cost of the car hire was £150. I also had to purchase petrol worth £60 for this journey. I do not have the VAT receipt for the petrol expense. Can this be expensed?\n"
     ]
    },
    {
     "name": "stderr",
     "output_type": "stream",
     "text": [
      "Setting `pad_token_id` to `eos_token_id`:2 for open-end generation.\n"
     ]
    },
    {
     "name": "stdout",
     "output_type": "stream",
     "text": [
      "While travelling to Wales for a business trip, I had to pay a total of £17 of toll charges. Can these be expensed?\n"
     ]
    },
    {
     "name": "stderr",
     "output_type": "stream",
     "text": [
      "Setting `pad_token_id` to `eos_token_id`:2 for open-end generation.\n"
     ]
    },
    {
     "name": "stdout",
     "output_type": "stream",
     "text": [
      "In order to drop some sensors to the GNEI lab, I had to drive in to London on Tuesday. Because of this, I had to pay the congestion charge of £12.50. Can this be expensed?\n"
     ]
    },
    {
     "name": "stderr",
     "output_type": "stream",
     "text": [
      "Setting `pad_token_id` to `eos_token_id`:2 for open-end generation.\n"
     ]
    },
    {
     "name": "stdout",
     "output_type": "stream",
     "text": [
      "I had to drive in to London on Tuesday. Because of this, I had to pay the congestion charge of £12.50. Can this be expensed?\n"
     ]
    },
    {
     "name": "stderr",
     "output_type": "stream",
     "text": [
      "Setting `pad_token_id` to `eos_token_id`:2 for open-end generation.\n"
     ]
    },
    {
     "name": "stdout",
     "output_type": "stream",
     "text": [
      "I drove to Winchester for a business trip along with 2 other GNEI colleagues. The total distance covered was 65 miles. How much can I claim in expenses?  \n"
     ]
    },
    {
     "name": "stderr",
     "output_type": "stream",
     "text": [
      "Setting `pad_token_id` to `eos_token_id`:2 for open-end generation.\n"
     ]
    },
    {
     "name": "stdout",
     "output_type": "stream",
     "text": [
      "I drove my bike to Winchester for a business trip along with 1 other GNEI colleagues. The total distance covered was 65 miles. How much can I claim in expenses?  \n"
     ]
    },
    {
     "name": "stderr",
     "output_type": "stream",
     "text": [
      "Setting `pad_token_id` to `eos_token_id`:2 for open-end generation.\n"
     ]
    },
    {
     "name": "stdout",
     "output_type": "stream",
     "text": [
      "While driving my car on a business trip, I accidentally hit the sidewalk and damaged the side of the car. The total cost of the repairs was £100. Can this be expensed?\n"
     ]
    },
    {
     "name": "stderr",
     "output_type": "stream",
     "text": [
      "Setting `pad_token_id` to `eos_token_id`:2 for open-end generation.\n"
     ]
    },
    {
     "name": "stdout",
     "output_type": "stream",
     "text": [
      "I drove to Winchester for a business trip along with 2 other GNEI colleagues. The total distance covered was 65 miles. I accidentally hit the sidewalk and damaged the side of the car. The total cost of the repairs was £100. How much can I claim in expenses?  \n"
     ]
    },
    {
     "name": "stderr",
     "output_type": "stream",
     "text": [
      "Setting `pad_token_id` to `eos_token_id`:2 for open-end generation.\n"
     ]
    },
    {
     "name": "stdout",
     "output_type": "stream",
     "text": [
      "the 20 th prompt responded\n",
      "While on a business trip, I travelled from my hotel to a restaurant for dinner. The cost of this journey was £8. Can this be expensed? \n"
     ]
    },
    {
     "name": "stderr",
     "output_type": "stream",
     "text": [
      "Setting `pad_token_id` to `eos_token_id`:2 for open-end generation.\n"
     ]
    },
    {
     "name": "stdout",
     "output_type": "stream",
     "text": [
      "I took a 2 hour flight to Amsterdam for work purposes. The total cost of the flight was £50. I booked an economy ticket. Can this be expensed?\n"
     ]
    },
    {
     "name": "stderr",
     "output_type": "stream",
     "text": [
      "Setting `pad_token_id` to `eos_token_id`:2 for open-end generation.\n"
     ]
    },
    {
     "name": "stdout",
     "output_type": "stream",
     "text": [
      "I took a 2 hour flight to Amsterdam for work purposes. The total cost of the flight was £90. I booked an business class ticket. Can this be expensed?\n"
     ]
    },
    {
     "name": "stderr",
     "output_type": "stream",
     "text": [
      "Setting `pad_token_id` to `eos_token_id`:2 for open-end generation.\n"
     ]
    },
    {
     "name": "stdout",
     "output_type": "stream",
     "text": [
      "I took a 2 hour flight to Amsterdam for work purposes with my wife. The tickets cost £50 each. I booked an economy ticket. Can this be expensed?\n"
     ]
    },
    {
     "name": "stderr",
     "output_type": "stream",
     "text": [
      "Setting `pad_token_id` to `eos_token_id`:2 for open-end generation.\n"
     ]
    },
    {
     "name": "stdout",
     "output_type": "stream",
     "text": [
      "I took a flexible flight to Amsterdam last week. The flight cost £70. Can I expense this?\n"
     ]
    },
    {
     "name": "stderr",
     "output_type": "stream",
     "text": [
      "Setting `pad_token_id` to `eos_token_id`:2 for open-end generation.\n"
     ]
    },
    {
     "name": "stdout",
     "output_type": "stream",
     "text": [
      "I booked a hotel close to the GNEI campus. I was there for 5 days, and the total cost was £800. Can I expense this? \n"
     ]
    },
    {
     "name": "stderr",
     "output_type": "stream",
     "text": [
      "Setting `pad_token_id` to `eos_token_id`:2 for open-end generation.\n"
     ]
    },
    {
     "name": "stdout",
     "output_type": "stream",
     "text": [
      "I normally work at the Cambridge GNEI campus. I travelled to the London GNEI campus for a work trip and had to book a hotel for 5 nights for this trip. The total hotel costs were £1000. Can this be expensed? \n"
     ]
    },
    {
     "name": "stderr",
     "output_type": "stream",
     "text": [
      "Setting `pad_token_id` to `eos_token_id`:2 for open-end generation.\n"
     ]
    },
    {
     "name": "stdout",
     "output_type": "stream",
     "text": [
      "I normally work at the Cambridge GNEI campus. I travelled to the London GNEI campus for a work trip and had to book a hotel for 5 nights for this trip. The total hotel costs were £1500. Can this be expensed? \n"
     ]
    },
    {
     "name": "stderr",
     "output_type": "stream",
     "text": [
      "Setting `pad_token_id` to `eos_token_id`:2 for open-end generation.\n"
     ]
    },
    {
     "name": "stdout",
     "output_type": "stream",
     "text": [
      "I have to travel to Geneva for a work trip for 4 nights. The total cost of the hotel will be £800. Can this be expensed? \n"
     ]
    },
    {
     "name": "stderr",
     "output_type": "stream",
     "text": [
      "Setting `pad_token_id` to `eos_token_id`:2 for open-end generation.\n"
     ]
    },
    {
     "name": "stdout",
     "output_type": "stream",
     "text": [
      "I travelled to Wales for a business purposes, and had to stay in a hotel for 3 nights. Breakfast was not included at the hotel. I spent £10 for breakfast each morning. I have the receipts for each expense. How much can I expense? \n"
     ]
    },
    {
     "name": "stderr",
     "output_type": "stream",
     "text": [
      "Setting `pad_token_id` to `eos_token_id`:2 for open-end generation.\n"
     ]
    },
    {
     "name": "stdout",
     "output_type": "stream",
     "text": [
      "the 30 th prompt responded\n",
      "I travelled to Wales for a business purposes, and had to stay in a hotel for 3 nights. Breakfast was not included at the hotel. I spent £5 for breakfast each morning. I do not have the receipts for any expense. How much can I expense? \n"
     ]
    },
    {
     "name": "stderr",
     "output_type": "stream",
     "text": [
      "Setting `pad_token_id` to `eos_token_id`:2 for open-end generation.\n"
     ]
    },
    {
     "name": "stdout",
     "output_type": "stream",
     "text": [
      "I travelled to Wales for a business purposes, and had to stay in a hotel for 3 nights. Breakfast was not included at the hotel. I spent £10 for breakfast each morning. I do not have the receipts for any expense. How much can I expense? \n"
     ]
    },
    {
     "name": "stderr",
     "output_type": "stream",
     "text": [
      "Setting `pad_token_id` to `eos_token_id`:2 for open-end generation.\n"
     ]
    },
    {
     "name": "stdout",
     "output_type": "stream",
     "text": [
      "I travelled to Wales for a business purposes, and had to stay in a hotel for 3 nights. Breakfast was included at the hotel. I spent £10 for breakfast each morning. I have the receipts for each expense. How much can I expense? \n"
     ]
    },
    {
     "name": "stderr",
     "output_type": "stream",
     "text": [
      "Setting `pad_token_id` to `eos_token_id`:2 for open-end generation.\n"
     ]
    },
    {
     "name": "stdout",
     "output_type": "stream",
     "text": [
      "I travelled to Wales for work and stayed there for 3 nights. I had dinner outside each night. The dinner costs were £21, £15, £17. I do not have the receipts. How much can I claim? \n"
     ]
    },
    {
     "name": "stderr",
     "output_type": "stream",
     "text": [
      "Setting `pad_token_id` to `eos_token_id`:2 for open-end generation.\n"
     ]
    },
    {
     "name": "stdout",
     "output_type": "stream",
     "text": [
      "I travelled to Wales for work and stayed there for 3 nights. I had dinner outside each night. The dinner costs were £21, £15, £17. I do have the receipts. How much can I claim? \n"
     ]
    },
    {
     "name": "stderr",
     "output_type": "stream",
     "text": [
      "Setting `pad_token_id` to `eos_token_id`:2 for open-end generation.\n"
     ]
    },
    {
     "name": "stdout",
     "output_type": "stream",
     "text": [
      "I travelled to Wales for a work trip for 2 nights. I stayed at a hotel where the breakfast was not included. On the first day, I spent £10 on lunch and £20 on dinner. On the second day, I spent $8 on breakfast, £12 on lunch, and £25 on dinner. On the third day, I spent £9 on breakfast. How much can I claim in expenses?\n"
     ]
    },
    {
     "name": "stderr",
     "output_type": "stream",
     "text": [
      "Setting `pad_token_id` to `eos_token_id`:2 for open-end generation.\n"
     ]
    },
    {
     "name": "stdout",
     "output_type": "stream",
     "text": [
      "I will be travelling to Wales for work for 3 months. Can I rent an accommodation and expense it? \n"
     ]
    },
    {
     "name": "stderr",
     "output_type": "stream",
     "text": [
      "Setting `pad_token_id` to `eos_token_id`:2 for open-end generation.\n"
     ]
    },
    {
     "name": "stdout",
     "output_type": "stream",
     "text": [
      "I travelled to Amsterdam for a conference. I stayed there for 1 day, i.e., arrived in the morning and left in the night. I was not able to get the receipts for my meals, but I had lunch for £8 and dinner for £15. Can this be expensed? \n"
     ]
    },
    {
     "name": "stderr",
     "output_type": "stream",
     "text": [
      "Setting `pad_token_id` to `eos_token_id`:2 for open-end generation.\n"
     ]
    },
    {
     "name": "stdout",
     "output_type": "stream",
     "text": [
      "I will be travelling to Wales for work for 8 months. I will be renting a property, but it will not be rented under my name. Can this be expensed? \n"
     ]
    },
    {
     "name": "stderr",
     "output_type": "stream",
     "text": [
      "Setting `pad_token_id` to `eos_token_id`:2 for open-end generation.\n"
     ]
    },
    {
     "name": "stdout",
     "output_type": "stream",
     "text": [
      "I will be staying in Wales for 8 months for work related reasons. I will be renting a property there, for which the rent will be £900 per month. In addition to this, the monthly council tax will be £50 and the utility bills are going to be £250. How much can I expense? \n"
     ]
    },
    {
     "name": "stderr",
     "output_type": "stream",
     "text": [
      "Setting `pad_token_id` to `eos_token_id`:2 for open-end generation.\n"
     ]
    },
    {
     "name": "stdout",
     "output_type": "stream",
     "text": [
      "the 40 th prompt responded\n",
      "For an overseas business trip, I stayed at a 5-star hotel in Berlin for 3 nights. The total cost was £900. How much can I reimburse for this? I have all the receipts from this expense. \n"
     ]
    },
    {
     "name": "stderr",
     "output_type": "stream",
     "text": [
      "Setting `pad_token_id` to `eos_token_id`:2 for open-end generation.\n"
     ]
    },
    {
     "name": "stdout",
     "output_type": "stream",
     "text": [
      "For an overseas business trip, I stayed at a 4-star hotel in Berlin for 3 nights. The total cost was £900. How much can I reimburse for this? I have all the receipts from this expense. \n"
     ]
    },
    {
     "name": "stderr",
     "output_type": "stream",
     "text": [
      "Setting `pad_token_id` to `eos_token_id`:2 for open-end generation.\n"
     ]
    },
    {
     "name": "stdout",
     "output_type": "stream",
     "text": [
      "For an overseas business trip, I stayed at a 3-star hotel in Berlin for 3 nights. The total cost was £600. How much can I reimburse for this? I have all the receipts from this expense. \n"
     ]
    },
    {
     "name": "stderr",
     "output_type": "stream",
     "text": [
      "Setting `pad_token_id` to `eos_token_id`:2 for open-end generation.\n"
     ]
    },
    {
     "name": "stdout",
     "output_type": "stream",
     "text": [
      "For an overseas business trip, I stayed at a 3-star hotel in Berlin for 3 nights. The total cost was £600. How much can I reimburse for this? I have all the receipts from this expense and also have an approval email for booking the hotel. \n"
     ]
    },
    {
     "name": "stderr",
     "output_type": "stream",
     "text": [
      "Setting `pad_token_id` to `eos_token_id`:2 for open-end generation.\n"
     ]
    },
    {
     "name": "stdout",
     "output_type": "stream",
     "text": [
      "For a business trip I stayed at a hotel for 3 nights. I had to use the gym at the hotel, which cost me £10 per day. How much can I expense? \n"
     ]
    },
    {
     "name": "stderr",
     "output_type": "stream",
     "text": [
      "Setting `pad_token_id` to `eos_token_id`:2 for open-end generation.\n"
     ]
    },
    {
     "name": "stdout",
     "output_type": "stream",
     "text": [
      "I normally work at the Cambridge GNEI campus. I travelled to the London GNEI campus for a work trip and had to book a hotel for 5 nights for this trip. The total hotel costs were £1000. At the hotel, I also used the gym, which cost me £50 every day. Can this be expensed? \n"
     ]
    },
    {
     "name": "stderr",
     "output_type": "stream",
     "text": [
      "Setting `pad_token_id` to `eos_token_id`:2 for open-end generation.\n"
     ]
    },
    {
     "name": "stdout",
     "output_type": "stream",
     "text": [
      "When on a business trip to Netherlands, I bought a temporary sim card for work related calls within the country. The total cost of this was £10. Can this be expensed? \n"
     ]
    },
    {
     "name": "stderr",
     "output_type": "stream",
     "text": [
      "Setting `pad_token_id` to `eos_token_id`:2 for open-end generation.\n"
     ]
    },
    {
     "name": "stdout",
     "output_type": "stream",
     "text": [
      "I stayed in a hotel for 3 nights in Wales for a work related trip. I had formal clothes with me for a conference which I had to attend, but during transit, food got spilt on them and I had to get them laundered. The cost of laundry was only £10. Can this be expensed? \n"
     ]
    },
    {
     "name": "stderr",
     "output_type": "stream",
     "text": [
      "Setting `pad_token_id` to `eos_token_id`:2 for open-end generation.\n"
     ]
    },
    {
     "name": "stdout",
     "output_type": "stream",
     "text": [
      "I stayed in a hotel for 6 nights in Wales for a work related trip. I had formal clothes with me for a conference which I had to attend, but during transit, food got spilt on them and I had to get them laundered. The cost of laundry was only £10. Can this be expensed? \n"
     ]
    },
    {
     "name": "stderr",
     "output_type": "stream",
     "text": [
      "Setting `pad_token_id` to `eos_token_id`:2 for open-end generation.\n"
     ]
    },
    {
     "name": "stdout",
     "output_type": "stream",
     "text": [
      "I stayed in a hotel for 3 nights in Wales for a work related trip. The Wi-Fi was not included in the hotel package. I had to pay for Wi-Fi access, which was an additional £5 per day. I needed access to the internet to work on my presentation. Can this be expensed? \n"
     ]
    },
    {
     "name": "stderr",
     "output_type": "stream",
     "text": [
      "Setting `pad_token_id` to `eos_token_id`:2 for open-end generation.\n"
     ]
    },
    {
     "name": "stdout",
     "output_type": "stream",
     "text": [
      "the 50 th prompt responded\n",
      "I eat lunch near the school every day after class and pay with my own credit card, spending a total of £140 over two weeks. How much can I be reimbursed?\n"
     ]
    },
    {
     "name": "stderr",
     "output_type": "stream",
     "text": [
      "Setting `pad_token_id` to `eos_token_id`:2 for open-end generation.\n"
     ]
    },
    {
     "name": "stdout",
     "output_type": "stream",
     "text": [
      "I organized a meeting from 5pm to 7pm, with a total of 4 attendees. We had dinner during the meeting and spent a total of £ 60. How much can I be reimbursed? \n"
     ]
    },
    {
     "name": "stderr",
     "output_type": "stream",
     "text": [
      "Setting `pad_token_id` to `eos_token_id`:2 for open-end generation.\n"
     ]
    },
    {
     "name": "stdout",
     "output_type": "stream",
     "text": [
      "I organized a meeting from 5pm to 7pm, with a total of 4 attendees. We had dinner during the meeting and spent a total of £ 60. I used departmental purchasing cards to pay for the meal. How much can I be reimbursed? \n"
     ]
    },
    {
     "name": "stderr",
     "output_type": "stream",
     "text": [
      "Setting `pad_token_id` to `eos_token_id`:2 for open-end generation.\n"
     ]
    },
    {
     "name": "stdout",
     "output_type": "stream",
     "text": [
      "I organized a meeting from 3pm to 5pm, with a total of 5 attendees. We ate and drank during the meeting and spent a total of £ 80. How much can I be reimbursed? \n"
     ]
    },
    {
     "name": "stderr",
     "output_type": "stream",
     "text": [
      "Setting `pad_token_id` to `eos_token_id`:2 for open-end generation.\n"
     ]
    },
    {
     "name": "stdout",
     "output_type": "stream",
     "text": [
      "I organized two meetings on scientific research, attended by students and staff from the school. One was from 12 pm to 2 pm, with 4 attendees, and the other was from 2 pm to 5 pm, with 7 attendees. We ate and drank in both meetings. The first one cost £ 80, and the second one cost £ 120. How much can I be reimbursed?\n"
     ]
    },
    {
     "name": "stderr",
     "output_type": "stream",
     "text": [
      "Setting `pad_token_id` to `eos_token_id`:2 for open-end generation.\n"
     ]
    },
    {
     "name": "stdout",
     "output_type": "stream",
     "text": [
      "I organized two meetings on scientific research, attended by students and staff from the school. One was from 12 pm to 2 pm, with 4 attendees, and the other was from 2 pm to 5 pm, with 7 attendees. We ate and drank in both meetings. The first one cost £ 60, and the second one cost £ 155. How much can I be reimbursed?\n"
     ]
    },
    {
     "name": "stderr",
     "output_type": "stream",
     "text": [
      "Setting `pad_token_id` to `eos_token_id`:2 for open-end generation.\n"
     ]
    },
    {
     "name": "stdout",
     "output_type": "stream",
     "text": [
      "There are a total of three people in our laboratory, and I ordered takeout as lunch for everyone during work, which cost a total of 80 pounds. How much can I reimburse?\n"
     ]
    },
    {
     "name": "stderr",
     "output_type": "stream",
     "text": [
      "Setting `pad_token_id` to `eos_token_id`:2 for open-end generation.\n"
     ]
    },
    {
     "name": "stdout",
     "output_type": "stream",
     "text": [
      "I had a daily meeting with the students to discuss their learning issues. There were a total of 10 attendees, during which we bought drinks and alcohol. The drinks cost £ 150 and the alcohol cost £ 120, all of which were paid with my credit card. How much can I be reimbursed?\n"
     ]
    },
    {
     "name": "stderr",
     "output_type": "stream",
     "text": [
      "Setting `pad_token_id` to `eos_token_id`:2 for open-end generation.\n"
     ]
    },
    {
     "name": "stdout",
     "output_type": "stream",
     "text": [
      "I had a daily meeting with the students to discuss their learning issues. There were a total of 13 attendees, during which we bought food and drinks. The food cost £ 170 and the drinks cost £ 100, all of which were paid with my credit card. How much can I be reimbursed?\n"
     ]
    },
    {
     "name": "stderr",
     "output_type": "stream",
     "text": [
      "Setting `pad_token_id` to `eos_token_id`:2 for open-end generation.\n"
     ]
    },
    {
     "name": "stdout",
     "output_type": "stream",
     "text": [
      "I invited experts from other companies to give a speech at the school and received permission from the school department. The cost of the speech was £ 500. During the speech, food and drinks were provided, and a total of £ 500 was spent, of which £ 100 was spent on alcohol. There are a total of 35 people participating in this activity. The receipt for the purchase has also been submitted. How much can I be reimbursed?\n"
     ]
    },
    {
     "name": "stderr",
     "output_type": "stream",
     "text": [
      "Setting `pad_token_id` to `eos_token_id`:2 for open-end generation.\n"
     ]
    },
    {
     "name": "stdout",
     "output_type": "stream",
     "text": [
      "the 60 th prompt responded\n",
      "We invite outstanding alumni to share their experiences, and the cost is free. However, the reception and meal expenses cost a total of £ 180. During this event, a total of 8 people participated and the entire process was completed. How much can I be reimbursed?\n"
     ]
    },
    {
     "name": "stderr",
     "output_type": "stream",
     "text": [
      "Setting `pad_token_id` to `eos_token_id`:2 for open-end generation.\n"
     ]
    },
    {
     "name": "stdout",
     "output_type": "stream",
     "text": [
      "We invite outstanding alumni to share their experiences, and the cost is free. However, the reception and meal expenses cost a total of £ 140. During this event, a total of 8 people participated and the entire process was completed. How much can I be reimbursed?\n"
     ]
    },
    {
     "name": "stderr",
     "output_type": "stream",
     "text": [
      "Setting `pad_token_id` to `eos_token_id`:2 for open-end generation.\n"
     ]
    },
    {
     "name": "stdout",
     "output_type": "stream",
     "text": [
      "To celebrate Christmas and strengthen our relationship with students, I went to a restaurant with 10 school staff and students, spending a total of £ 198 on my credit card. Prior to this, we had already submitted an application to the relevant departments of the school and it had been approved. How much can I be reimbursed?\n"
     ]
    },
    {
     "name": "stderr",
     "output_type": "stream",
     "text": [
      "Setting `pad_token_id` to `eos_token_id`:2 for open-end generation.\n"
     ]
    },
    {
     "name": "stdout",
     "output_type": "stream",
     "text": [
      "To celebrate Christmas and strengthen our relationship with students, I went to a restaurant with 10 school staff and students, spending a total of £ 308 on my credit card. Prior to this, we had already submitted an application to the relevant departments of the school and it had been approved. How much can I be reimbursed?\n"
     ]
    },
    {
     "name": "stderr",
     "output_type": "stream",
     "text": [
      "Setting `pad_token_id` to `eos_token_id`:2 for open-end generation.\n"
     ]
    },
    {
     "name": "stdout",
     "output_type": "stream",
     "text": [
      "In order to welcome the new students, we held a welcome event and provided them with social venues, food and drinks. We spent a total of £ 520 and paid with our own credit card. There were 22 registered participants, but 30 actually participated. We only have information for 22 people, and there are only 22 people on the submitted participant information form. How much can I be reimbursed?\n"
     ]
    },
    {
     "name": "stderr",
     "output_type": "stream",
     "text": [
      "Setting `pad_token_id` to `eos_token_id`:2 for open-end generation.\n"
     ]
    },
    {
     "name": "stdout",
     "output_type": "stream",
     "text": [
      "In order to welcome the new students, we held a welcome event and provided them with social venues, food and drinks. We spent a total of £ 520 and paid with our own credit card. There were 22 registered participants, but 30 actually participated. After re-registering, we submitted information forms for 26 people.\n"
     ]
    },
    {
     "name": "stderr",
     "output_type": "stream",
     "text": [
      "Setting `pad_token_id` to `eos_token_id`:2 for open-end generation.\n"
     ]
    },
    {
     "name": "stdout",
     "output_type": "stream",
     "text": [
      "We held a retirement party at dinner for a professor who was about to retire. There were 20 people attending the party, all of them are members of GNEI. The party cost £410 in total. But before that, we did not apply to the relevant departments and did not get approval. How much can I be reimbursed?\n"
     ]
    },
    {
     "name": "stderr",
     "output_type": "stream",
     "text": [
      "Setting `pad_token_id` to `eos_token_id`:2 for open-end generation.\n"
     ]
    },
    {
     "name": "stdout",
     "output_type": "stream",
     "text": [
      "We held a retirement party at dinner for a professor who was about to retire. There were 20 people attending the party, all of them are members of GNEI. The party cost £410 in total. Prior to this, we had already submitted an application to the relevant departments of the school and it had been approved. How much can I be reimbursed?\n"
     ]
    },
    {
     "name": "stderr",
     "output_type": "stream",
     "text": [
      "Setting `pad_token_id` to `eos_token_id`:2 for open-end generation.\n"
     ]
    },
    {
     "name": "stdout",
     "output_type": "stream",
     "text": [
      "I invite experts from companies to give lectures to my students, and the lectures are free. After the speech, we held a party to give students the opportunity to connect with companies. There were 40 of us in total, but actually 10 people left after meeting with the experts and did not attend the party. A total of £900 was spent on all aspects of the party, with 30 people actually attending. How much can I be reimbursed?\n"
     ]
    },
    {
     "name": "stderr",
     "output_type": "stream",
     "text": [
      "Setting `pad_token_id` to `eos_token_id`:2 for open-end generation.\n"
     ]
    },
    {
     "name": "stdout",
     "output_type": "stream",
     "text": [
      "I invite experts from companies to give lectures to my students, and the lectures are free. After the speech, we held a party to give students the opportunity to connect with companies. There were 30 of us in total, but actually 10 people left after meeting with the experts and did not attend the party. A total of £900 was spent on all aspects of the party, with 20 people actually attending. How much can I be reimbursed?\n"
     ]
    },
    {
     "name": "stderr",
     "output_type": "stream",
     "text": [
      "Setting `pad_token_id` to `eos_token_id`:2 for open-end generation.\n"
     ]
    },
    {
     "name": "stdout",
     "output_type": "stream",
     "text": [
      "the 70 th prompt responded\n",
      "I invite experts from companies to give lectures to my students, and the lectures are free. After the speech, we held a party to give students the opportunity to connect with companies. There were 30 of us in total, but actually 10 people left after meeting with the experts and did not attend the party. A total of £900 was spent on all aspects of the party, with 20 people actually attending. If the budget overrun caused by this special situation has been approved by the relevant PS Director, how much can I be reimbursed?\n"
     ]
    },
    {
     "name": "stderr",
     "output_type": "stream",
     "text": [
      "Setting `pad_token_id` to `eos_token_id`:2 for open-end generation.\n"
     ]
    },
    {
     "name": "stdout",
     "output_type": "stream",
     "text": [
      "I organized students to go for outdoor team building. 10 people participated and a total of £210 was spent on the activity. How much can I be reimbursed?\n"
     ]
    },
    {
     "name": "stderr",
     "output_type": "stream",
     "text": [
      "Setting `pad_token_id` to `eos_token_id`:2 for open-end generation.\n"
     ]
    },
    {
     "name": "stdout",
     "output_type": "stream",
     "text": [
      "I organized students to go for outdoor team building. 10 people participated and a total of £210 was spent on the activity. But the receipt is lost and the receipt information cannot be provided. How much can I be reimbursed?\n"
     ]
    },
    {
     "name": "stderr",
     "output_type": "stream",
     "text": [
      "Setting `pad_token_id` to `eos_token_id`:2 for open-end generation.\n"
     ]
    },
    {
     "name": "stdout",
     "output_type": "stream",
     "text": [
      "My classmates and I had a meeting from 1pm to 2pm on how to develop the club and purchased some food and drinks. A total of 5 people participated in the meeting and spent a total of 20 pounds, but only the receipt for the consumption of 10 pounds was received, and the other 10 pounds were lost. How much can I be reimbursed?\n"
     ]
    },
    {
     "name": "stderr",
     "output_type": "stream",
     "text": [
      "Setting `pad_token_id` to `eos_token_id`:2 for open-end generation.\n"
     ]
    },
    {
     "name": "stdout",
     "output_type": "stream",
     "text": [
      "My classmates and I had a meeting from 1pm to 2pm on how to develop the club and purchased some food and drinks. A total of 5 people participated in the meeting and spent a total of 20 pounds. I also provide corresponding receipts. How much can I be reimbursed?\n"
     ]
    },
    {
     "name": "stderr",
     "output_type": "stream",
     "text": [
      "Setting `pad_token_id` to `eos_token_id`:2 for open-end generation.\n"
     ]
    },
    {
     "name": "stdout",
     "output_type": "stream",
     "text": [
      "I have paid for a Coursera course which will help me with my work. I made the booking via GNEI purchase order and I have prior approval from the department admin as well. The course cost £100. How much can I claim in expenses? \n"
     ]
    },
    {
     "name": "stderr",
     "output_type": "stream",
     "text": [
      "Setting `pad_token_id` to `eos_token_id`:2 for open-end generation.\n"
     ]
    },
    {
     "name": "stdout",
     "output_type": "stream",
     "text": [
      "I have paid for a Coursera course which will help me with my work. The course cost £100. How much can I claim in expenses? \n"
     ]
    },
    {
     "name": "stderr",
     "output_type": "stream",
     "text": [
      "Setting `pad_token_id` to `eos_token_id`:2 for open-end generation.\n"
     ]
    },
    {
     "name": "stdout",
     "output_type": "stream",
     "text": [
      "I have paid for a Coursera course. The course cost £100. How much can I claim in expenses? \n"
     ]
    },
    {
     "name": "stderr",
     "output_type": "stream",
     "text": [
      "Setting `pad_token_id` to `eos_token_id`:2 for open-end generation.\n"
     ]
    },
    {
     "name": "stdout",
     "output_type": "stream",
     "text": [
      "I have paid for a Coursera course which will help me with my work. I made the booking via GNEI purchase order and I have prior approval from the department manager as well. The course cost £100. How much can I claim in expenses? \n"
     ]
    },
    {
     "name": "stderr",
     "output_type": "stream",
     "text": [
      "Setting `pad_token_id` to `eos_token_id`:2 for open-end generation.\n"
     ]
    },
    {
     "name": "stdout",
     "output_type": "stream",
     "text": [
      "I want to attend a training event hosted by Google which will cost £20. I have prior approval from the department admin and this will help me with my work. How much can I claim in expenses? \n"
     ]
    },
    {
     "name": "stderr",
     "output_type": "stream",
     "text": [
      "Setting `pad_token_id` to `eos_token_id`:2 for open-end generation.\n"
     ]
    },
    {
     "name": "stdout",
     "output_type": "stream",
     "text": [
      "the 80 th prompt responded\n",
      "I want to attend a training event hosted by Google which will cost £20. This will help me with my work. How much can I claim in expenses? \n"
     ]
    },
    {
     "name": "stderr",
     "output_type": "stream",
     "text": [
      "Setting `pad_token_id` to `eos_token_id`:2 for open-end generation.\n"
     ]
    },
    {
     "name": "stdout",
     "output_type": "stream",
     "text": [
      "I want to attend a training event hosted by Google which will cost £20. How much can I claim in expenses? \n"
     ]
    },
    {
     "name": "stderr",
     "output_type": "stream",
     "text": [
      "Setting `pad_token_id` to `eos_token_id`:2 for open-end generation.\n"
     ]
    },
    {
     "name": "stdout",
     "output_type": "stream",
     "text": [
      "I want to attend a training event hosted by Google which will cost £20. I have prior approval from the department admin. How much can I claim in expenses? \n"
     ]
    },
    {
     "name": "stderr",
     "output_type": "stream",
     "text": [
      "Setting `pad_token_id` to `eos_token_id`:2 for open-end generation.\n"
     ]
    },
    {
     "name": "stdout",
     "output_type": "stream",
     "text": [
      "I have applied for a gym membership for personal physical training. This will cost me £50. Can I get this reimbursed? \n"
     ]
    },
    {
     "name": "stderr",
     "output_type": "stream",
     "text": [
      "Setting `pad_token_id` to `eos_token_id`:2 for open-end generation.\n"
     ]
    },
    {
     "name": "stdout",
     "output_type": "stream",
     "text": [
      "I have applied for a First Aid at work certification training. This will cost £480. The booking was made via a GNEI purchase order with prior approval from the deparment admin. How much can I reimburse? \n"
     ]
    },
    {
     "name": "stderr",
     "output_type": "stream",
     "text": [
      "Setting `pad_token_id` to `eos_token_id`:2 for open-end generation.\n"
     ]
    },
    {
     "name": "stdout",
     "output_type": "stream",
     "text": [
      "I require an extension on my Tier 2 work permit to continue working at GNEI. This will cost me £2000. Can this be reimbuserd? \n"
     ]
    },
    {
     "name": "stderr",
     "output_type": "stream",
     "text": [
      "Setting `pad_token_id` to `eos_token_id`:2 for open-end generation.\n"
     ]
    },
    {
     "name": "stdout",
     "output_type": "stream",
     "text": [
      "I require an extension on my Tier 2 work permit to continue working at GNEI. This will cost me £2000. I have a prior approval from the Dean. Can this be reimbuserd?\n"
     ]
    },
    {
     "name": "stderr",
     "output_type": "stream",
     "text": [
      "Setting `pad_token_id` to `eos_token_id`:2 for open-end generation.\n"
     ]
    },
    {
     "name": "stdout",
     "output_type": "stream",
     "text": [
      "I purchased a book from Amazon which was required for the course. It cost £20. Can this be reimbursed? \n"
     ]
    },
    {
     "name": "stderr",
     "output_type": "stream",
     "text": [
      "Setting `pad_token_id` to `eos_token_id`:2 for open-end generation.\n"
     ]
    },
    {
     "name": "stdout",
     "output_type": "stream",
     "text": [
      "My student purchased a book from Amazon which was required for the course. It cost £20. Can this be reimbursed? \n"
     ]
    },
    {
     "name": "stderr",
     "output_type": "stream",
     "text": [
      "Setting `pad_token_id` to `eos_token_id`:2 for open-end generation.\n"
     ]
    },
    {
     "name": "stdout",
     "output_type": "stream",
     "text": [
      "During a work related trip on a train, I got fined for sitting in the wrong compartment. The fine cost me £80. Can this be expensed? \n"
     ]
    },
    {
     "name": "stderr",
     "output_type": "stream",
     "text": [
      "Setting `pad_token_id` to `eos_token_id`:2 for open-end generation.\n"
     ]
    },
    {
     "name": "stdout",
     "output_type": "stream",
     "text": [
      "the 90 th prompt responded\n",
      "During a work related trip I got fined for a speeding offense. The total fine was £40. Can I get this expensed? \n"
     ]
    },
    {
     "name": "stderr",
     "output_type": "stream",
     "text": [
      "Setting `pad_token_id` to `eos_token_id`:2 for open-end generation.\n"
     ]
    },
    {
     "name": "stdout",
     "output_type": "stream",
     "text": [
      "For my class, I have purchased some stationary via GNEI's approved supplier using a purchase order. Can I expense the £50 I paid for this? \n"
     ]
    },
    {
     "name": "stderr",
     "output_type": "stream",
     "text": [
      "Setting `pad_token_id` to `eos_token_id`:2 for open-end generation.\n"
     ]
    },
    {
     "name": "stdout",
     "output_type": "stream",
     "text": [
      "For my class, I have purchased some stationary. Can I expense the £50 I paid for this? \n"
     ]
    },
    {
     "name": "stderr",
     "output_type": "stream",
     "text": [
      "Setting `pad_token_id` to `eos_token_id`:2 for open-end generation.\n"
     ]
    },
    {
     "name": "stdout",
     "output_type": "stream",
     "text": [
      "For my class, I have purchased some stationary via GNEI's approved supplier using a purchase order. The individual payment has been pre-approved by my department. Can I expense the £80 I paid for this?\n"
     ]
    },
    {
     "name": "stderr",
     "output_type": "stream",
     "text": [
      "Setting `pad_token_id` to `eos_token_id`:2 for open-end generation.\n"
     ]
    },
    {
     "name": "stdout",
     "output_type": "stream",
     "text": [
      "I purchased some AWS account licenses for a module I am teaching. These were purchased via GNEI's approved supplier using a purchase order, and payment has been made via Accounts Payable. Can I reimburse the total cost of £80?\n"
     ]
    },
    {
     "name": "stderr",
     "output_type": "stream",
     "text": [
      "Setting `pad_token_id` to `eos_token_id`:2 for open-end generation.\n"
     ]
    },
    {
     "name": "stdout",
     "output_type": "stream",
     "text": [
      "For training and business purpose, my group is doing a scientific research project and needs to use chatgpt4 as an experimental tool, so we subscribed to gpt4 with our own credit card for 3 months and cost $60. How much can I be reimbursed?\n"
     ]
    },
    {
     "name": "stderr",
     "output_type": "stream",
     "text": [
      "Setting `pad_token_id` to `eos_token_id`:2 for open-end generation.\n"
     ]
    },
    {
     "name": "stdout",
     "output_type": "stream",
     "text": [
      "For training and business purpose, my group is doing a scientific research project and needs to use chatgpt4 as an experimental tool, so we subscribed to gpt4 with our own credit card for 3 months and cost $60. Prior approval for the expense from the budget holder has been obtained before the booking. How much can I be reimbursed?\n"
     ]
    },
    {
     "name": "stderr",
     "output_type": "stream",
     "text": [
      "Setting `pad_token_id` to `eos_token_id`:2 for open-end generation.\n"
     ]
    },
    {
     "name": "stdout",
     "output_type": "stream",
     "text": [
      "I purchased an external training course on machine learning as I believe it will be helpful for my future research. The course fee is £60, I book the course using the GNEI Purchase Order. In addition, this matter has also been approved by the departmental administrator. How much can I be reimbursed?\n"
     ]
    },
    {
     "name": "stderr",
     "output_type": "stream",
     "text": [
      "Setting `pad_token_id` to `eos_token_id`:2 for open-end generation.\n"
     ]
    },
    {
     "name": "stdout",
     "output_type": "stream",
     "text": [
      "While working on a project, I found a course that would be very helpful to my students, so I applied to purchase the course and it was approved by the department. However, due to the tight schedule, I didn’t have time to place a reservation on the GNEI Purchase Order, so I spent my own money to buy it first. The course fee is £70. How much can I be reimbursed?\n"
     ]
    },
    {
     "name": "stderr",
     "output_type": "stream",
     "text": [
      "Setting `pad_token_id` to `eos_token_id`:2 for open-end generation.\n"
     ]
    },
    {
     "name": "stdout",
     "output_type": "stream",
     "text": [
      "While working on a project, I found a course that would be very helpful to my students, so I applied to purchase the course and it was approved by the department. I book the course using the GNEI Purchase Order. The course fee is £70. How much can I be reimbursed?\n"
     ]
    },
    {
     "name": "stderr",
     "output_type": "stream",
     "text": [
      "Setting `pad_token_id` to `eos_token_id`:2 for open-end generation.\n"
     ]
    },
    {
     "name": "stdout",
     "output_type": "stream",
     "text": [
      "the 100 th prompt responded\n",
      "While working on a project, I found a course that would be very helpful to my students, so I applied to purchase the course and it was approved by the department. However, because I found one course is not enough, I bought one more course finally. The first course cost £50 while the second course, costing £40 was booked after the approval document was permitted. I booked these two courses using the GNEI Purchase Order. How much can I be reimbursed?\n"
     ]
    },
    {
     "name": "stderr",
     "output_type": "stream",
     "text": [
      "Setting `pad_token_id` to `eos_token_id`:2 for open-end generation.\n"
     ]
    },
    {
     "name": "stdout",
     "output_type": "stream",
     "text": [
      "I bought an external training course to improve myself and got approved following the correct procedures. The course fee is £100. But then I realized that this course was not useful to me and I needed to buy another course. However, this course is no longer refundable. How much can I be reimbursed?\n"
     ]
    },
    {
     "name": "stderr",
     "output_type": "stream",
     "text": [
      "Setting `pad_token_id` to `eos_token_id`:2 for open-end generation.\n"
     ]
    },
    {
     "name": "stdout",
     "output_type": "stream",
     "text": [
      "I purchased an external training course on the GNEI Purchase Order. But before purchasing, I only submitted an application to purchase, but it has not been approved yet. The application was not approved until 1 day after purchase. The purchase fee is £40. How much can I be reimbursed?\n"
     ]
    },
    {
     "name": "stderr",
     "output_type": "stream",
     "text": [
      "Setting `pad_token_id` to `eos_token_id`:2 for open-end generation.\n"
     ]
    },
    {
     "name": "stdout",
     "output_type": "stream",
     "text": [
      "I bought a course (cooking) that had nothing to do with my major and it cost £20. How much can I be reimbursed?\n"
     ]
    },
    {
     "name": "stderr",
     "output_type": "stream",
     "text": [
      "Setting `pad_token_id` to `eos_token_id`:2 for open-end generation.\n"
     ]
    },
    {
     "name": "stdout",
     "output_type": "stream",
     "text": [
      "I bought an external training course in coffee making for £20. How much can I be reimbursed?\n"
     ]
    },
    {
     "name": "stderr",
     "output_type": "stream",
     "text": [
      "Setting `pad_token_id` to `eos_token_id`:2 for open-end generation.\n"
     ]
    },
    {
     "name": "stdout",
     "output_type": "stream",
     "text": [
      "I submitted an expense claim for my home internet connection, as my work for GNEI necessitates a high-speed internet connection for video conferencing, large data transfers, and accessing GNEI's remote servers.\n"
     ]
    },
    {
     "name": "stderr",
     "output_type": "stream",
     "text": [
      "Setting `pad_token_id` to `eos_token_id`:2 for open-end generation.\n"
     ]
    },
    {
     "name": "stdout",
     "output_type": "stream",
     "text": [
      "I included charges for several long-distance calls made to international partners on my personal landline and provided an itemized bill highlighting these calls as work-related. The bill added up to £16.\n"
     ]
    },
    {
     "name": "stderr",
     "output_type": "stream",
     "text": [
      "Setting `pad_token_id` to `eos_token_id`:2 for open-end generation.\n"
     ]
    },
    {
     "name": "stdout",
     "output_type": "stream",
     "text": [
      "I used my personal mobile phone for work calls and messages when away from my home office, and submitted an expense claim for a portion of my mobile phone bill attributed to work-related calls and data usage, which is £20 out of a total bill of £60.\n"
     ]
    },
    {
     "name": "stderr",
     "output_type": "stream",
     "text": [
      "Setting `pad_token_id` to `eos_token_id`:2 for open-end generation.\n"
     ]
    },
    {
     "name": "stdout",
     "output_type": "stream",
     "text": [
      "I needed to conduct several long-distance calls to my research partners from my home office. Given the extensive collaboration required, I estimated that all work-related calls will add up to around £60 this month. Since the month haven't ended yet I couldn't give an official receipt for now.\n"
     ]
    },
    {
     "name": "stderr",
     "output_type": "stream",
     "text": [
      "Setting `pad_token_id` to `eos_token_id`:2 for open-end generation.\n"
     ]
    },
    {
     "name": "stdout",
     "output_type": "stream",
     "text": [
      "I'm a GNEI mobile phone receiver, however my personal phone is involved during co-operating with my research partners and a bill of £10 occurs. Can I reimburst it with a detailed receipt?\n"
     ]
    },
    {
     "name": "stderr",
     "output_type": "stream",
     "text": [
      "Setting `pad_token_id` to `eos_token_id`:2 for open-end generation.\n"
     ]
    },
    {
     "name": "stdout",
     "output_type": "stream",
     "text": [
      "the 110 th prompt responded\n",
      "I purchased a three-day Wi-Fi pass for £45 during the attendance of a conference on behalf of GNEI, held in Paris, France, since internet connection would be essential for my full participation in the conference activities. Can I claim for that with an electronic receipt?\n"
     ]
    },
    {
     "name": "stderr",
     "output_type": "stream",
     "text": [
      "Setting `pad_token_id` to `eos_token_id`:2 for open-end generation.\n"
     ]
    },
    {
     "name": "stdout",
     "output_type": "stream",
     "text": [
      "I purchased a three-day Wi-Fi pass for €45 (approx. £38.5) during the attendance of a conference on behalf of GNEI, held in Paris, France, since internet connection would be essential for my full participation in the conference activities, and a currency exchange bill of £5 occurred . How much in £ can I claim for with an electronic receipt?\n"
     ]
    },
    {
     "name": "stderr",
     "output_type": "stream",
     "text": [
      "Setting `pad_token_id` to `eos_token_id`:2 for open-end generation.\n"
     ]
    },
    {
     "name": "stdout",
     "output_type": "stream",
     "text": [
      "I purchased a three-day Wi-Fi pass for £45 during my personal vacation, since internet connection would be still needed for my communication with my research team. Can I claim for that with an electronic receipt?\n"
     ]
    },
    {
     "name": "stderr",
     "output_type": "stream",
     "text": [
      "Setting `pad_token_id` to `eos_token_id`:2 for open-end generation.\n"
     ]
    },
    {
     "name": "stdout",
     "output_type": "stream",
     "text": [
      "I purchased a three-day Wi-Fi pass for £45 during my stay at home, as a backup during my home internet upgradation. Can I claim for that with an electronic receipt?\n"
     ]
    },
    {
     "name": "stderr",
     "output_type": "stream",
     "text": [
      "Setting `pad_token_id` to `eos_token_id`:2 for open-end generation.\n"
     ]
    },
    {
     "name": "stdout",
     "output_type": "stream",
     "text": [
      "My home land line is involved during my work at GNEI, leading to a line rental bill of £30 and extra international business calls costs £20. How much can I get reimbursed for with proper receipts?\n"
     ]
    },
    {
     "name": "stderr",
     "output_type": "stream",
     "text": [
      "Setting `pad_token_id` to `eos_token_id`:2 for open-end generation.\n"
     ]
    },
    {
     "name": "stdout",
     "output_type": "stream",
     "text": [
      "It has been agreed that I should receive a GNEI mobile phone, yet due to specific app requirement I can only buy one instead of obtaining via ISD’s Managed Mobile service. The phone costs £800. How much can I get reimbursed?\n"
     ]
    },
    {
     "name": "stderr",
     "output_type": "stream",
     "text": [
      "Setting `pad_token_id` to `eos_token_id`:2 for open-end generation.\n"
     ]
    },
    {
     "name": "stdout",
     "output_type": "stream",
     "text": [
      "It has been agreed that I should receive a GNEI mobile phone, yet due to specific app requirement I can only buy one instead of obtaining via ISD’s Managed Mobile service. The phone costs £800, and has been pre-approved by relevant authority. How much can I get reimbursed with an electronic receipt?\n"
     ]
    },
    {
     "name": "stderr",
     "output_type": "stream",
     "text": [
      "Setting `pad_token_id` to `eos_token_id`:2 for open-end generation.\n"
     ]
    },
    {
     "name": "stdout",
     "output_type": "stream",
     "text": [
      "I subscribed an academic journal since it's mandatory and not included in general GNEI subscription, and this took £800 per year.\n"
     ]
    },
    {
     "name": "stderr",
     "output_type": "stream",
     "text": [
      "Setting `pad_token_id` to `eos_token_id`:2 for open-end generation.\n"
     ]
    },
    {
     "name": "stdout",
     "output_type": "stream",
     "text": [
      "I subscribed an academic journal since it's essential for my teaching duty performance, and not included in general GNEI subscription, and this took £800 per year. Pre-approval from the authority has been secured. Can I claim for that with an electronic receipt?\n"
     ]
    },
    {
     "name": "stderr",
     "output_type": "stream",
     "text": [
      "Setting `pad_token_id` to `eos_token_id`:2 for open-end generation.\n"
     ]
    },
    {
     "name": "stdout",
     "output_type": "stream",
     "text": [
      "I subscribed two academic journal (specified by A and B) since A's essential for my teaching duty performance, and B's needed for catching up with field state-of-the-art. Each of these took £800 per year. Can I claim for that with electronic receipts?\n"
     ]
    },
    {
     "name": "stderr",
     "output_type": "stream",
     "text": [
      "Setting `pad_token_id` to `eos_token_id`:2 for open-end generation.\n"
     ]
    },
    {
     "name": "stdout",
     "output_type": "stream",
     "text": [
      "the 120 th prompt responded\n",
      "I am a GNEI employee planning to attend an upcoming international conference on environmental sustainability, which is closely related to my current project at GNEI. The conference is known for its high registration fees, but my professional association offers a significant discount to its members. By being a member of this professional body, I can save GNEI a considerable amount of the conference fee, reducing the cost from £800 to £500. How much can I reimburse in this case?\n"
     ]
    },
    {
     "name": "stderr",
     "output_type": "stream",
     "text": [
      "Setting `pad_token_id` to `eos_token_id`:2 for open-end generation.\n"
     ]
    },
    {
     "name": "stdout",
     "output_type": "stream",
     "text": [
      "I directly purchased 2 books related to my research project, costing £30 and £36 each, as they're not available via a GNEI PO. Can I claim for them with digital receipts?\n"
     ]
    },
    {
     "name": "stderr",
     "output_type": "stream",
     "text": [
      "Setting `pad_token_id` to `eos_token_id`:2 for open-end generation.\n"
     ]
    },
    {
     "name": "stdout",
     "output_type": "stream",
     "text": [
      "I purchased 2 books related to my research project, one via a GNEI PO and paid directly by GNEI on invoice via Accounts Payable, and one directly as GNEI method's not available in this case, costing me £30 and £36, resepctively. Can I claim for them with digital receipts?\n"
     ]
    },
    {
     "name": "stderr",
     "output_type": "stream",
     "text": [
      "Setting `pad_token_id` to `eos_token_id`:2 for open-end generation.\n"
     ]
    },
    {
     "name": "stdout",
     "output_type": "stream",
     "text": [
      "With prior approval from the relevant Faculty Director of Operations, the cost of obtaining a 2-year-long visa for my working for GNEI in the UK consists of an application fee of £600 and a IHS charge of £800 per year. How much can I claim for?\n"
     ]
    },
    {
     "name": "stderr",
     "output_type": "stream",
     "text": [
      "Setting `pad_token_id` to `eos_token_id`:2 for open-end generation.\n"
     ]
    },
    {
     "name": "stdout",
     "output_type": "stream",
     "text": [
      "While the cost of obtaining a 2-year-long visa for my working for GNEI in the UK consists of an application fee of £600 and a IHS charge of £800 per year, the relevant Faculty Director of Operations approves to claim 80% of the total expense in my case. How much can I claim?\n"
     ]
    },
    {
     "name": "stderr",
     "output_type": "stream",
     "text": [
      "Setting `pad_token_id` to `eos_token_id`:2 for open-end generation.\n"
     ]
    },
    {
     "name": "stdout",
     "output_type": "stream",
     "text": [
      "Since my work visa has been approved and reimbursed in the past, I directly submitted a claim for my visa renewal cost of £500. How much can I get reimbursed?\n"
     ]
    },
    {
     "name": "stderr",
     "output_type": "stream",
     "text": [
      "Setting `pad_token_id` to `eos_token_id`:2 for open-end generation.\n"
     ]
    },
    {
     "name": "stdout",
     "output_type": "stream",
     "text": [
      "I was assigned to lead a fieldwork project in a rugged, outdoor location as part of a GNEI environmental research initiative. Recognizing the need for durable, weather-resistant clothing suitable for the terrain and climate, I purchased a set of high-quality outdoor gear, including a waterproof jacket, trousers, and boots, costing a total of £300 instead of obtaining one via GNEI. Believing this specialist clothing was essential for the project's success and my safety, I submitted an expense claim for the full amount after making the purchase.\n"
     ]
    },
    {
     "name": "stderr",
     "output_type": "stream",
     "text": [
      "Setting `pad_token_id` to `eos_token_id`:2 for open-end generation.\n"
     ]
    },
    {
     "name": "stdout",
     "output_type": "stream",
     "text": [
      "I decided to upgrade my personal mobile phone to a newer model because I believed it would improve my productivity and communication for GNEI work. The new phone cost £600, and I purchased it outright without going through GNEI's Managed Mobile service. After purchasing the phone, I submitted an expense claim for the full cost, assuming that the investment in better technology would be seen as beneficial for my work with GNEI.\n"
     ]
    },
    {
     "name": "stderr",
     "output_type": "stream",
     "text": [
      "Setting `pad_token_id` to `eos_token_id`:2 for open-end generation.\n"
     ]
    },
    {
     "name": "stdout",
     "output_type": "stream",
     "text": [
      "I spent £1000 by giving out cash to the individuals who were invited to my research survey,  a form stating that they have received the cash has been signed and attached as a receipt. How much can I claim for?\n"
     ]
    },
    {
     "name": "stderr",
     "output_type": "stream",
     "text": [
      "Setting `pad_token_id` to `eos_token_id`:2 for open-end generation.\n"
     ]
    },
    {
     "name": "stdout",
     "output_type": "stream",
     "text": [
      "I've estimiated that my research survey may involve with 50 people, each would be paid £20 in cash. This has been pre-approved. The fact, however, 20 more people ended up taking part in. All candidates has signed the form. How much is reimbursable?\n"
     ]
    },
    {
     "name": "stderr",
     "output_type": "stream",
     "text": [
      "Setting `pad_token_id` to `eos_token_id`:2 for open-end generation.\n"
     ]
    },
    {
     "name": "stdout",
     "output_type": "stream",
     "text": [
      "the 130 th prompt responded\n",
      "Can I claim for a foreign advance of £400 since other means of paying for my trip attending an international conference are not available?\n"
     ]
    },
    {
     "name": "stderr",
     "output_type": "stream",
     "text": [
      "Setting `pad_token_id` to `eos_token_id`:2 for open-end generation.\n"
     ]
    },
    {
     "name": "stdout",
     "output_type": "stream",
     "text": [
      "Can I claim for a foreign advance of £400 while there are some other means of paying for my trip attending an international conference?\n"
     ]
    },
    {
     "name": "stderr",
     "output_type": "stream",
     "text": [
      "Setting `pad_token_id` to `eos_token_id`:2 for open-end generation.\n"
     ]
    },
    {
     "name": "stdout",
     "output_type": "stream",
     "text": [
      "£60 cash per subject has been given out for the duration of my experiment, which involves with 10 subjects. How much may I apply through my departments for a Research Advance this?\n"
     ]
    },
    {
     "name": "stderr",
     "output_type": "stream",
     "text": [
      "Setting `pad_token_id` to `eos_token_id`:2 for open-end generation.\n"
     ]
    },
    {
     "name": "stdout",
     "output_type": "stream",
     "text": [
      "£60 cash per subject has been given out for the duration of my experiment, including £5 fee of travelling. The project involves with 10 subjects. How much may I apply through my departments for a Research Advance this?\n"
     ]
    },
    {
     "name": "stderr",
     "output_type": "stream",
     "text": [
      "Setting `pad_token_id` to `eos_token_id`:2 for open-end generation.\n"
     ]
    },
    {
     "name": "stdout",
     "output_type": "stream",
     "text": [
      "£90 cash per subject has been given out for the duration of my experiment, for a total of 10 people, since a GNEI general expense claim form is not available due to bank holidays. How much may I apply through my departments for a Research Advance this? \n"
     ]
    },
    {
     "name": "stderr",
     "output_type": "stream",
     "text": [
      "Setting `pad_token_id` to `eos_token_id`:2 for open-end generation.\n"
     ]
    },
    {
     "name": "stdout",
     "output_type": "stream",
     "text": [
      "I claimed for a bill of short-term WiFi service which added up to £60, yet due to bank holidays I cannot have the approval while the WiFi provider fail to give a detailed receipt. How much may I get reimbursed in this case? \n"
     ]
    },
    {
     "name": "stderr",
     "output_type": "stream",
     "text": [
      "Setting `pad_token_id` to `eos_token_id`:2 for open-end generation.\n"
     ]
    },
    {
     "name": "stdout",
     "output_type": "stream",
     "text": [
      "I've got a fine bill containing £50 of fine charge and £20 of administration fee, due to my parking overtime while working at GNEI campus. Can I reimburse that?\n"
     ]
    },
    {
     "name": "stderr",
     "output_type": "stream",
     "text": [
      "Setting `pad_token_id` to `eos_token_id`:2 for open-end generation.\n"
     ]
    },
    {
     "name": "stdout",
     "output_type": "stream",
     "text": [
      "I spent budget for a few experimental equipments and a suit hire for activities, both costed me £20. How much can I get reimbursed?\n"
     ]
    },
    {
     "name": "stderr",
     "output_type": "stream",
     "text": [
      "Setting `pad_token_id` to `eos_token_id`:2 for open-end generation.\n"
     ]
    },
    {
     "name": "stdout",
     "output_type": "stream",
     "text": [
      "I spent £20 on choosing a gift for my international research partner during a conference. Can I reimburse that along with other decent expenses?\n"
     ]
    },
    {
     "name": "stderr",
     "output_type": "stream",
     "text": [
      "Setting `pad_token_id` to `eos_token_id`:2 for open-end generation.\n"
     ]
    },
    {
     "name": "stdout",
     "output_type": "stream",
     "text": [
      "I've submitted a claim regarding of my personal travel insurance and a vehicle insurance, as I believe they'd be essential for my work at GNEI. The bills are £1000 and £600 respectively. How much can I get reimbursed?\n"
     ]
    },
    {
     "name": "stderr",
     "output_type": "stream",
     "text": [
      "Setting `pad_token_id` to `eos_token_id`:2 for open-end generation.\n"
     ]
    },
    {
     "name": "stdout",
     "output_type": "stream",
     "text": [
      "the 140 th prompt responded\n",
      "I'm claiming for a few personal expenditure which added up to £300, yet due to they're generated during a long period of time I cannot tell if they occurred during my working time at GNEI or not. How much can I get reimbursed?\n"
     ]
    },
    {
     "name": "stderr",
     "output_type": "stream",
     "text": [
      "Setting `pad_token_id` to `eos_token_id`:2 for open-end generation.\n"
     ]
    },
    {
     "name": "stdout",
     "output_type": "stream",
     "text": [
      "I'm claiming for a filght ticket fee which took up to £300 and a VAT of £75, as it's used to obtain my attendance of a conference on time. How much can I get reimbursed with a receipt stating everything needed?\n"
     ]
    },
    {
     "name": "stderr",
     "output_type": "stream",
     "text": [
      "Setting `pad_token_id` to `eos_token_id`:2 for open-end generation.\n"
     ]
    },
    {
     "name": "stdout",
     "output_type": "stream",
     "text": [
      "I'm claiming for subsistence expenses of £1200 via a visiting Research Fellow form, yet this's already the third year of my visiting at GNEI. Can I still get reimbursed?\n"
     ]
    },
    {
     "name": "stderr",
     "output_type": "stream",
     "text": [
      "Setting `pad_token_id` to `eos_token_id`:2 for open-end generation.\n"
     ]
    },
    {
     "name": "stdout",
     "output_type": "stream",
     "text": [
      "It took me £900 for hiring a childcare person during my attendance to a foreigh conference. This has been pre-approved by head of GNEIExpenses. Can I get reimbrused?\n"
     ]
    },
    {
     "name": "stderr",
     "output_type": "stream",
     "text": [
      "Setting `pad_token_id` to `eos_token_id`:2 for open-end generation.\n"
     ]
    },
    {
     "name": "stdout",
     "output_type": "stream",
     "text": [
      "It took me £900 for hiring a childcare person during my attendance to a foreigh conference. This has been pre-approved by head of GNEIExpenses. However, the receipt is not available as required by the childcare person. Can I get reimbrused?\n"
     ]
    },
    {
     "name": "stderr",
     "output_type": "stream",
     "text": [
      "Setting `pad_token_id` to `eos_token_id`:2 for open-end generation.\n"
     ]
    },
    {
     "name": "stdout",
     "output_type": "stream",
     "text": [
      "I have been working from home due to the ongoing flexibility provided by GNEI, with my usual office located in London. A new project required me to attend several meetings at a coworking space that is actually closer to my home than the GNEI office. Given the proximity to my home and the convenience, I decided to drive there for a week, and the total mileage for the week amounted to 100 miles (no other mileage covered in the tax year), considering the round trips. How much can I reimburse?\n"
     ]
    },
    {
     "name": "stderr",
     "output_type": "stream",
     "text": [
      "Setting `pad_token_id` to `eos_token_id`:2 for open-end generation.\n"
     ]
    },
    {
     "name": "stdout",
     "output_type": "stream",
     "text": [
      "A new project required me to attend several meetings at a coworking space, to where I decided to drive for a week, and the total mileage for the week amounted to 100 miles (no other mileage covered in the tax year), considering the round trips. The total cost turned out to be £30. How much can I reimburse?\n"
     ]
    },
    {
     "name": "stderr",
     "output_type": "stream",
     "text": [
      "Setting `pad_token_id` to `eos_token_id`:2 for open-end generation.\n"
     ]
    },
    {
     "name": "stdout",
     "output_type": "stream",
     "text": [
      "A new project required me to attend several meetings at a coworking space, to where I decided to drive for a week, and the total mileage for the week amounted to 100 miles (I've claimed for more than 11000 miles in the tax year), considering the round trips. The total cost turned out to be £30. How much can I reimburse?\n"
     ]
    },
    {
     "name": "stderr",
     "output_type": "stream",
     "text": [
      "Setting `pad_token_id` to `eos_token_id`:2 for open-end generation.\n"
     ]
    },
    {
     "name": "stdout",
     "output_type": "stream",
     "text": [
      "A new project required me to attend several meetings at a coworking space, and the total mileage for the week amounted to 100 miles by car and 20 miles by motorcycles (no mileage covered in the tax year yet), considering the round trips. The total cost turned out to be £30. How much can I reimburse?\n"
     ]
    },
    {
     "name": "stderr",
     "output_type": "stream",
     "text": [
      "Setting `pad_token_id` to `eos_token_id`:2 for open-end generation.\n"
     ]
    },
    {
     "name": "stdout",
     "output_type": "stream",
     "text": [
      "I took a taxi to a conference which is located closer to my home than GNEI campus is. The bill turns out to be £30. Can that be reimbursed?\n"
     ]
    },
    {
     "name": "stderr",
     "output_type": "stream",
     "text": [
      "Setting `pad_token_id` to `eos_token_id`:2 for open-end generation.\n"
     ]
    },
    {
     "name": "stdout",
     "output_type": "stream",
     "text": [
      "the 150 th prompt responded\n",
      "I took a taxi to a conference which is located exactly at GNEI campus. The bill turns out to be £30. Can that be reimbursed?\n"
     ]
    },
    {
     "name": "stderr",
     "output_type": "stream",
     "text": [
      "Setting `pad_token_id` to `eos_token_id`:2 for open-end generation.\n"
     ]
    },
    {
     "name": "stdout",
     "output_type": "stream",
     "text": [
      "A colleague of mine drove me to a GNEI-held conference, which is 25 miles away from London. Can I claim for half of the mileage to be covered?\n"
     ]
    },
    {
     "name": "stderr",
     "output_type": "stream",
     "text": [
      "Setting `pad_token_id` to `eos_token_id`:2 for open-end generation.\n"
     ]
    },
    {
     "name": "stdout",
     "output_type": "stream",
     "text": [
      "A colleague of mine drove me to a GNEI-held conference, which is 25 miles away from London, and on the way back I took over and drove him for the whole distance. Can I claim for half of the mileage to be covered?\n"
     ]
    },
    {
     "name": "stderr",
     "output_type": "stream",
     "text": [
      "Setting `pad_token_id` to `eos_token_id`:2 for open-end generation.\n"
     ]
    },
    {
     "name": "stdout",
     "output_type": "stream",
     "text": [
      "I am planning a business trip to attend a conference in New York. I am a member of an airline's frequent flyer program, which offers the chance to earn miles for flights booked, potentially leading to future travel benefits such as free flights or upgrades. I choose to book with my preferred airline to accrue personal frequent flyer miles, believing the benefits outweigh the cost difference. The chosen flight costs £700, whereas the alternative, and more economical option, was available for £500. Both filghts are considered in economy. Can I get the bill ticket reimbursed?\n"
     ]
    },
    {
     "name": "stderr",
     "output_type": "stream",
     "text": [
      "Setting `pad_token_id` to `eos_token_id`:2 for open-end generation.\n"
     ]
    },
    {
     "name": "stdout",
     "output_type": "stream",
     "text": [
      "I am planning a business trip to attend a conference in New York. I am a member of an airline's frequent flyer program, which offers the chance to earn miles for flights booked, potentially leading to future travel benefits such as free flights or upgrades. I choose to book with my preferred airline to accrue personal frequent flyer miles, as using my personal credits earned by my previous filghts would decrease the ticket price. The chosen flight used to cost £700 and is £500 when purchased, whereas the cheapest alternative was available for £600. Both filghts are considered in economy. Can I get the bill ticket reimbursed?\n"
     ]
    },
    {
     "name": "stderr",
     "output_type": "stream",
     "text": [
      "Setting `pad_token_id` to `eos_token_id`:2 for open-end generation.\n"
     ]
    },
    {
     "name": "stdout",
     "output_type": "stream",
     "text": [
      "A parking bill of £16 occurred at my hotel during my attendance to a GNEI activity. Can that be reimbursed?\n"
     ]
    },
    {
     "name": "stderr",
     "output_type": "stream",
     "text": [
      "Setting `pad_token_id` to `eos_token_id`:2 for open-end generation.\n"
     ]
    },
    {
     "name": "stdout",
     "output_type": "stream",
     "text": [
      "A parking bill of £16 occurred during my attendance to a GNEI-held entertainment activity. Can that be reimbursed?\n"
     ]
    },
    {
     "name": "stderr",
     "output_type": "stream",
     "text": [
      "Setting `pad_token_id` to `eos_token_id`:2 for open-end generation.\n"
     ]
    },
    {
     "name": "stdout",
     "output_type": "stream",
     "text": [
      "A parking bill of £16 occurred during my attendance to a GNEI-held entertainment activity, as it'd be important for refreshing during a week-long conference. Can that be reimbursed?\n"
     ]
    },
    {
     "name": "stderr",
     "output_type": "stream",
     "text": [
      "Setting `pad_token_id` to `eos_token_id`:2 for open-end generation.\n"
     ]
    },
    {
     "name": "stdout",
     "output_type": "stream",
     "text": [
      "A parking bill which added up to £30 + £6(VAT) occurred at my hotel during my attendance to a GNEI activity. Can that be reimbursed?\n"
     ]
    },
    {
     "name": "stderr",
     "output_type": "stream",
     "text": [
      "Setting `pad_token_id` to `eos_token_id`:2 for open-end generation.\n"
     ]
    },
    {
     "name": "stdout",
     "output_type": "stream",
     "text": [
      "A parking bill which added up to £30 + £6(VAT) occurred at my hotel during my attendance to a GNEI activity, and I don't have a VAT receipt. Can that be reimbursed?\n"
     ]
    },
    {
     "name": "stderr",
     "output_type": "stream",
     "text": [
      "Setting `pad_token_id` to `eos_token_id`:2 for open-end generation.\n"
     ]
    },
    {
     "name": "stdout",
     "output_type": "stream",
     "text": [
      "the 160 th prompt responded\n",
      "I drove my bike to Oxford for a business trip along with 1 other GNEI colleagues. The total distance covered was 85 miles. How much can I claim in expenses?\n"
     ]
    },
    {
     "name": "stderr",
     "output_type": "stream",
     "text": [
      "Setting `pad_token_id` to `eos_token_id`:2 for open-end generation.\n"
     ]
    },
    {
     "name": "stdout",
     "output_type": "stream",
     "text": [
      "While driving my own car on a business trip, I accidentally hit the sidewalk and damaged the side of the vehicles. The total cost of the repairs was £120. Can this be expensed?\n"
     ]
    },
    {
     "name": "stderr",
     "output_type": "stream",
     "text": [
      "Setting `pad_token_id` to `eos_token_id`:2 for open-end generation.\n"
     ]
    },
    {
     "name": "stdout",
     "output_type": "stream",
     "text": [
      "I am an employee of GNEI College London, and I have to go to places far from home every day to work at the school. I took the subway to work and paid with my credit card. Within a month, I recharged £ 200 into my credit card and spent a total of £ 121 on transportation. How much can I claim in expenses?\n"
     ]
    },
    {
     "name": "stderr",
     "output_type": "stream",
     "text": [
      "Setting `pad_token_id` to `eos_token_id`:2 for open-end generation.\n"
     ]
    },
    {
     "name": "stdout",
     "output_type": "stream",
     "text": [
      "I went on a business trip to New York and after landing at the airport, due to having a lot of luggage, I chose to take a taxi to the hotel, which cost me £ 15. How much can I claim in expenses?\n"
     ]
    },
    {
     "name": "stderr",
     "output_type": "stream",
     "text": [
      "Setting `pad_token_id` to `eos_token_id`:2 for open-end generation.\n"
     ]
    },
    {
     "name": "stdout",
     "output_type": "stream",
     "text": [
      "I am an staff of GNEI in Edinburgh and worked in London for a month. During this period, due to the need for public transportation, I applied for an Oyster card that can only be used in London. I recharged a total of 160 yuan into it, but before leaving, I spent a total of 145 pounds on my card. The rest was useless as I was not in London. How much can I claim in expenses\n"
     ]
    },
    {
     "name": "stderr",
     "output_type": "stream",
     "text": [
      "Setting `pad_token_id` to `eos_token_id`:2 for open-end generation.\n"
     ]
    },
    {
     "name": "stdout",
     "output_type": "stream",
     "text": [
      "I work in my studio very late, around 11:30 pm. Due to being too late, I took a taxi home and spent £ 20. How much can I claim in expenses?\n",
      "\n"
     ]
    },
    {
     "name": "stderr",
     "output_type": "stream",
     "text": [
      "Setting `pad_token_id` to `eos_token_id`:2 for open-end generation.\n"
     ]
    },
    {
     "name": "stdout",
     "output_type": "stream",
     "text": [
      "I am on a business trip from London to Liverpool. Because first-class seats are heavily discounted and only 2 pounds more expensive than standard seats, I bought a first-class seat at a cost of 31 pounds. How much can I claim in expenses?\n",
      "\n"
     ]
    },
    {
     "name": "stderr",
     "output_type": "stream",
     "text": [
      "Setting `pad_token_id` to `eos_token_id`:2 for open-end generation.\n"
     ]
    },
    {
     "name": "stdout",
     "output_type": "stream",
     "text": [
      "I rented a car while on a business trip in Scotland for 4 days. The total cost of renting a car is 150 pounds. On the third day, the car was lent to a colleague who was traveling together. I used this car for the other three days. How much can I claim in expenses?\n",
      "\n"
     ]
    },
    {
     "name": "stderr",
     "output_type": "stream",
     "text": [
      "Setting `pad_token_id` to `eos_token_id`:2 for open-end generation.\n"
     ]
    },
    {
     "name": "stdout",
     "output_type": "stream",
     "text": [
      "When I was on a business trip in China, I took the subway back to the city from the airport. I am traveling with two family members. Each ticket costs 5 pounds. Can I claim reimbursement for this?\n",
      "\n"
     ]
    },
    {
     "name": "stderr",
     "output_type": "stream",
     "text": [
      "Setting `pad_token_id` to `eos_token_id`:2 for open-end generation.\n"
     ]
    },
    {
     "name": "stdout",
     "output_type": "stream",
     "text": [
      "I  drived from London to Watford to pick up someone due to school requirements. The journey covered a total of 80 kilometers. My car had a broken tire when I returned and it cost £ 80 to repair. How much can I claim in expenses?\n",
      "\n"
     ]
    },
    {
     "name": "stderr",
     "output_type": "stream",
     "text": [
      "Setting `pad_token_id` to `eos_token_id`:2 for open-end generation.\n"
     ]
    },
    {
     "name": "stdout",
     "output_type": "stream",
     "text": [
      "the 170 th prompt responded\n",
      "I'm expecting to hold an academic meeting on GNEI premises at 12:30 p.m. and I am considering to provide lunch via GNEI's catering providers. Can the food bill of £350 be claimed for?\n"
     ]
    },
    {
     "name": "stderr",
     "output_type": "stream",
     "text": [
      "Setting `pad_token_id` to `eos_token_id`:2 for open-end generation.\n"
     ]
    },
    {
     "name": "stdout",
     "output_type": "stream",
     "text": [
      "I held an academic meeting with my research partners on GNEI premises at 17:30 p.m. The meeting took longer than expected, so I invited the group to a restaurant after finishing the meeting. The late dinner costed £350. Can that be claimed for?\n"
     ]
    },
    {
     "name": "stderr",
     "output_type": "stream",
     "text": [
      "Setting `pad_token_id` to `eos_token_id`:2 for open-end generation.\n"
     ]
    },
    {
     "name": "stdout",
     "output_type": "stream",
     "text": [
      "I held an academic meeting with my research partners on GNEI premises at 17:30 p.m. The meeting took longer than expected, so I invited the group (6 of us, including 3 visitors) to a restaurant after finishing the meeting. The late dinner costed £350. Assuming the relevant authority only approved the activity as business entertaining and hold the expense limit as it is in relevant clauses, how much can I claim for?\n"
     ]
    },
    {
     "name": "stderr",
     "output_type": "stream",
     "text": [
      "Setting `pad_token_id` to `eos_token_id`:2 for open-end generation.\n"
     ]
    },
    {
     "name": "stdout",
     "output_type": "stream",
     "text": [
      "I held a staff social function, inviting all staff from my department with pre-approvment. The total bill of the day came out to be £360, given 15 of us attended. How much can I claim for with receipts?\n"
     ]
    },
    {
     "name": "stderr",
     "output_type": "stream",
     "text": [
      "Setting `pad_token_id` to `eos_token_id`:2 for open-end generation.\n"
     ]
    },
    {
     "name": "stdout",
     "output_type": "stream",
     "text": [
      "I held a staff social function, inviting several major staff with pre-approvment. The total bill of the day came out to be £150, given 6 of us attended. However, I couldnot invoice that directly to GNEI and can only proceed on individuals' expense claims. How much can I claim for with receipts?\n"
     ]
    },
    {
     "name": "stderr",
     "output_type": "stream",
     "text": [
      "Setting `pad_token_id` to `eos_token_id`:2 for open-end generation.\n"
     ]
    },
    {
     "name": "stdout",
     "output_type": "stream",
     "text": [
      "I held an academic meeting with my research partners on GNEI premises at 17:30 p.m. The meeting took longer than expected, so I invited the group (6 of us, including 3 visitors) to a restaurant after finishing the meeting. The late dinner costed £260, yet a form of all attendees can not be provided, since 3 visitors left and couldnot sign the form. how much can I claim for?\n"
     ]
    },
    {
     "name": "stderr",
     "output_type": "stream",
     "text": [
      "Setting `pad_token_id` to `eos_token_id`:2 for open-end generation.\n"
     ]
    },
    {
     "name": "stdout",
     "output_type": "stream",
     "text": [
      "I held an academic meeting with my research partners on GNEI premises at 17:30 p.m. The meeting took longer than expected, so I invited the group (6 of us, including 3 visitors) to a restaurant after finishing the meeting. The late dinner costed £260, yet a form of all attendees can not be provided, since 3 visitors left and couldnot sign the form. However the authority did give me pre-approval in case it's necessary. how much can I claim for?\n"
     ]
    },
    {
     "name": "stderr",
     "output_type": "stream",
     "text": [
      "Setting `pad_token_id` to `eos_token_id`:2 for open-end generation.\n"
     ]
    },
    {
     "name": "stdout",
     "output_type": "stream",
     "text": [
      "I held a business entertaining activity with my colleagues, yet due to we're at the same colleague level, 6 of us shared the bill of £240. How much can each of us claim for?\n"
     ]
    },
    {
     "name": "stderr",
     "output_type": "stream",
     "text": [
      "Setting `pad_token_id` to `eos_token_id`:2 for open-end generation.\n"
     ]
    },
    {
     "name": "stdout",
     "output_type": "stream",
     "text": [
      "I held a business entertaining activity with my colleagues, yet as required by our special guests, additional services has been applied and the total cost for 16 of us was £800. I haven't sumbit this to gain approval from my department budget holder yet. How much can I claim for?\n"
     ]
    },
    {
     "name": "stderr",
     "output_type": "stream",
     "text": [
      "Setting `pad_token_id` to `eos_token_id`:2 for open-end generation.\n"
     ]
    },
    {
     "name": "stdout",
     "output_type": "stream",
     "text": [
      "I held a business entertaining activity with my colleagues, yet as required by our special guests, additional services has been applied and the total cost for 16 of us was £800. However pre-approval has been given as long as the cost did not expand unacceptable. How much can I claim for?\n"
     ]
    },
    {
     "name": "stderr",
     "output_type": "stream",
     "text": [
      "Setting `pad_token_id` to `eos_token_id`:2 for open-end generation.\n"
     ]
    },
    {
     "name": "stdout",
     "output_type": "stream",
     "text": [
      "the 180 th prompt responded\n",
      "I held a business entertaining activity with my colleagues and research fellows, yet as required by our special guests, the attendee form has not been signed for confidentiality. The bill for 16 of us was £1000, however pre-approval from authority has been given as long as the cost did not expand unacceptable. How much can I claim for?\n"
     ]
    },
    {
     "name": "stderr",
     "output_type": "stream",
     "text": [
      "Setting `pad_token_id` to `eos_token_id`:2 for open-end generation.\n"
     ]
    },
    {
     "name": "stdout",
     "output_type": "stream",
     "text": [
      "I held a business entertaining activity with my colleagues and research fellows. The bill for 50 of us (including 4 GNEI students attended as a support role) was £2000. How much can I claim for?\n"
     ]
    },
    {
     "name": "stderr",
     "output_type": "stream",
     "text": [
      "Setting `pad_token_id` to `eos_token_id`:2 for open-end generation.\n"
     ]
    },
    {
     "name": "stdout",
     "output_type": "stream",
     "text": [
      "I held a business entertaining activity with my colleagues and research fellows. The bill for 50 of us (including 4 GNEI students attended as a support role) was £2100 (including £80 raised by support attendees). Without any guidance from relevant authority, can I claim for the whole amount, via one business entertainment claim and one business function claim?\n"
     ]
    },
    {
     "name": "stderr",
     "output_type": "stream",
     "text": [
      "Setting `pad_token_id` to `eos_token_id`:2 for open-end generation.\n"
     ]
    },
    {
     "name": "stdout",
     "output_type": "stream",
     "text": [
      "I held a business entertaining activity with my colleagues and research fellows. The bill for 50 of us (including 4 GNEI students attended as a support role) was £2100. Without any guidance from relevant authority, how can I claim for the whole amount, according to the policy?\n"
     ]
    },
    {
     "name": "stderr",
     "output_type": "stream",
     "text": [
      "Setting `pad_token_id` to `eos_token_id`:2 for open-end generation.\n"
     ]
    },
    {
     "name": "stdout",
     "output_type": "stream",
     "text": [
      "I held a business entertaining activity with my colleagues and research fellows. The bill for 50 of us was £2000 and was paid via departmental purchasing cards. Can I claim for the whole amount?\n"
     ]
    },
    {
     "name": "stderr",
     "output_type": "stream",
     "text": [
      "Setting `pad_token_id` to `eos_token_id`:2 for open-end generation.\n"
     ]
    },
    {
     "name": "stdout",
     "output_type": "stream",
     "text": [
      "I'm a staff of GNEI Campus in Manchester. I went on a work trip to the GNEI campus in London and booked a hotel for 6 nights, with a total cost of £ 120. During this period, I washed my clothes once and spent a total of £ 5. How much can I get reimbursed?\n"
     ]
    },
    {
     "name": "stderr",
     "output_type": "stream",
     "text": [
      "Setting `pad_token_id` to `eos_token_id`:2 for open-end generation.\n"
     ]
    },
    {
     "name": "stdout",
     "output_type": "stream",
     "text": [
      "I'm a staff of GNEI Campus in London. I went on a work trip to the GNEI campus in Edinburgh and booked a hotel for 4 nights, with a total cost of £ 90. During this period, I washed my clothes twice and spent a total of £ 8. How much can I get reimbursed?\n"
     ]
    },
    {
     "name": "stderr",
     "output_type": "stream",
     "text": [
      "Setting `pad_token_id` to `eos_token_id`:2 for open-end generation.\n"
     ]
    },
    {
     "name": "stdout",
     "output_type": "stream",
     "text": [
      "I went to France to attend an international academic conference and stayed in the hotel for a total of 4 nights. The total room cost was £ 100, excluding food expenses. I spent a total of 140 pounds on meals within 4 days, with invoices for each meal. How much can I get reimbursed?\n"
     ]
    },
    {
     "name": "stderr",
     "output_type": "stream",
     "text": [
      "Setting `pad_token_id` to `eos_token_id`:2 for open-end generation.\n"
     ]
    },
    {
     "name": "stdout",
     "output_type": "stream",
     "text": [
      "I went to France to attend an international academic conference and stayed in the hotel for a total of 4 nights. The total room cost was £ 100, excluding food expenses. I spent a total of 50 pounds on breakfast every day, and I lost the invoice for two days. How much can I get reimbursed?\n"
     ]
    },
    {
     "name": "stderr",
     "output_type": "stream",
     "text": [
      "Setting `pad_token_id` to `eos_token_id`:2 for open-end generation.\n"
     ]
    },
    {
     "name": "stdout",
     "output_type": "stream",
     "text": [
      "I went on a work trip to China and booked an 8-day hotel. The total cost of the room was £ 200, which includes breakfast and lunch. During this period, I had lunch twice outside the hotel for a total cost of £ 30. How much can I get reimbursed?\n"
     ]
    },
    {
     "name": "stderr",
     "output_type": "stream",
     "text": [
      "Setting `pad_token_id` to `eos_token_id`:2 for open-end generation.\n"
     ]
    },
    {
     "name": "stdout",
     "output_type": "stream",
     "text": [
      "the 190 th prompt responded\n",
      "I went on a work trip to China and booked an 8-day hotel. The total cost of the room was £ 200, which includes breakfast and lunch. During this period, I had dinner twice outside the hotel for a total cost of £ 40. Receipts for dinner are not available. How much can I get reimbursed?\n"
     ]
    },
    {
     "name": "stderr",
     "output_type": "stream",
     "text": [
      "Setting `pad_token_id` to `eos_token_id`:2 for open-end generation.\n"
     ]
    },
    {
     "name": "stdout",
     "output_type": "stream",
     "text": [
      "On behalf of the university, I went to GNEI University in Manchester to exchange and study for one day. I didn't have breakfast. The lunch cost 25 pounds, and the dinner cost 34 pounds. All the receipts are available. How much can I get reimbursed?\n"
     ]
    },
    {
     "name": "stderr",
     "output_type": "stream",
     "text": [
      "Setting `pad_token_id` to `eos_token_id`:2 for open-end generation.\n"
     ]
    },
    {
     "name": "stdout",
     "output_type": "stream",
     "text": [
      "On behalf of the university, I went to GNEI University in Manchester to exchange and study for one day. The breakfast cost 6 pounds, the lunch cost 25 pounds, and the dinner cost 34 pounds. All the receipts are available. How much can I get reimbursed?\n"
     ]
    },
    {
     "name": "stderr",
     "output_type": "stream",
     "text": [
      "Setting `pad_token_id` to `eos_token_id`:2 for open-end generation.\n"
     ]
    },
    {
     "name": "stdout",
     "output_type": "stream",
     "text": [
      "I went to Spain to attend an international academic conference and stayed in the hotel for a total of 5 nights. The total room cost was £ 130, excluding food expenses. I spent a total of 140 pounds on meals within 5 days, with invoices for each meal. How much can I get reimbursed?\n"
     ]
    },
    {
     "name": "stderr",
     "output_type": "stream",
     "text": [
      "Setting `pad_token_id` to `eos_token_id`:2 for open-end generation.\n"
     ]
    },
    {
     "name": "stdout",
     "output_type": "stream",
     "text": [
      "I went on a work trip to China and booked an 8-day hotel. The total cost of the room was £ 180, which includes breakfast and lunch. During this period, I had dinner twice outside the hotel for a total cost of £ 35. Receipts for dinner are not available. How much can I get reimbursed?\n"
     ]
    },
    {
     "name": "stderr",
     "output_type": "stream",
     "text": [
      "Setting `pad_token_id` to `eos_token_id`:2 for open-end generation.\n"
     ]
    },
    {
     "name": "stdout",
     "output_type": "stream",
     "text": [
      "I went on a work trip to China and booked an 8-day hotel. The total cost of the room was £ 180, which includes breakfast and lunch. During this period, I had dinner twice outside the hotel for a total cost of £ 35. Receipts for dinner are available. How much can I get reimbursed?\n"
     ]
    },
    {
     "name": "stderr",
     "output_type": "stream",
     "text": [
      "Setting `pad_token_id` to `eos_token_id`:2 for open-end generation.\n"
     ]
    },
    {
     "name": "stdout",
     "output_type": "stream",
     "text": [
      "I went on a work trip to Germany and booked an 6-day hotel. The total cost of the room was £180. However, the receipt is missing. How much can I get reimbursed?\n"
     ]
    },
    {
     "name": "stderr",
     "output_type": "stream",
     "text": [
      "Setting `pad_token_id` to `eos_token_id`:2 for open-end generation.\n"
     ]
    },
    {
     "name": "stdout",
     "output_type": "stream",
     "text": [
      "I was sent to work at GNEI College in Washington, USA for a long-term period of one year. I rented a house for one year, with a rent of 5500 pounds. This leasing behavior has been approved by the budget holder\n"
     ]
    },
    {
     "name": "stderr",
     "output_type": "stream",
     "text": [
      "Setting `pad_token_id` to `eos_token_id`:2 for open-end generation.\n"
     ]
    },
    {
     "name": "stdout",
     "output_type": "stream",
     "text": [
      "I'm a staff of GNEI Campus in Manchester. I went on a work trip to the GNEI campus in London and booked a hotel for 6 nights, with a total cost of £ 200. During this period, I washed my clothes twice and spent a total of £ 10. All the receipts are provided. How much can I get reimbursed?\n"
     ]
    },
    {
     "name": "stderr",
     "output_type": "stream",
     "text": [
      "Setting `pad_token_id` to `eos_token_id`:2 for open-end generation.\n"
     ]
    },
    {
     "name": "stdout",
     "output_type": "stream",
     "text": [
      "I travelled to Scotland for a work trip for 2 nights. The hotel I booked doesn't include meals. On the first day, I spent £20 on lunch and £25 on dinner. On the second day, I spent £5 on breakfast, £10 on lunch, and £40 on dinner. All the receipts are provided. How much can I claim in expenses?\n",
      "the 200 th prompt responded\n"
     ]
    }
   ],
   "source": [
    "prompt_num = len(data_test)\n",
    "composed_resp = []\n",
    "for i in range(1):\n",
    "    model_original_resp = get_responses(prompt_num, data_test)    \n",
    "    composed_resp.extend(model_original_resp)\n",
    "\n",
    "df_original_resp = pd.DataFrame(composed_resp, columns=['original response'])"
   ]
  },
  {
   "cell_type": "code",
   "execution_count": 61,
   "metadata": {},
   "outputs": [],
   "source": [
    "import re\n",
    "\n",
    "def extract_labels(text):\n",
    "    # label patterns. Further wirk to extract label from certain key pairs only\n",
    "    pattern1 = r': \"(Policy\\sViolated|Policy\\sNot\\sViolated)\"'\n",
    "    pattern2 = r': £\\s*([\\d,]+\\.?\\d*)'  # extract the number after £ \n",
    "    pattern3 = r': \"(Fully\\s+Reimbursable|Partially\\s+Reimbursable|Not\\sReimbursable|Further\\sClarification\\sRequired)\"'\n",
    "    \n",
    "    # create match\n",
    "    match1 = re.search(pattern1, text)\n",
    "    match2 = re.search(pattern2, text)\n",
    "    match3 = re.search(pattern3, text)\n",
    "    \n",
    "    amount = 0\n",
    "    # processing Amount label, deleting comma\n",
    "    if match2:\n",
    "        try:\n",
    "            # Remove commas and convert to float\n",
    "            temp = match2.group(1)\n",
    "            amount = float(temp.replace(',', ''))\n",
    "        except ValueError:\n",
    "            amount = 0 \n",
    "\n",
    "    # find match\n",
    "    label1 = match1.group(1) if match1 else None\n",
    "    #label2 = amount.group(1) if match2 else \"0\"\n",
    "    label3 = match3.group(1) if match3 else None\n",
    "    # give a format marker , 1 if there's at least 1 classification label missing and 0 if not \n",
    "    label_format = 1 if label1 is None or label3 is None else 0 \n",
    "\n",
    "    return label1, amount, label3, label_format\n",
    "\n",
    "def extract_all_labels(scenario, response_list, num):\n",
    "    label_list = []\n",
    "    for i in range(num):\n",
    "        text = response_list['original response'][i]\n",
    "        label1, label2, label3,label_format = extract_labels(text)\n",
    "        label_list.append([scenario[i], text, label1, label2, label3,label_format])\n",
    "    return label_list"
   ]
  },
  {
   "cell_type": "code",
   "execution_count": 62,
   "metadata": {},
   "outputs": [],
   "source": [
    "# Evaluate\n",
    "from sklearn.metrics import f1_score\n",
    "from sklearn.preprocessing import LabelEncoder\n",
    "def evaluate(response_df, prompt_df):\n",
    "    T1_accurate = 0\n",
    "    T2_accurate = 0\n",
    "    amount_accurate = 0\n",
    "    for i in range(len(response_df)):\n",
    "        pre_label = response_df[['Classification T1', 'Reimbursable Amount', 'Classification T2','Format Compliance']].iloc[i]\n",
    "        ori_label = prompt_df[['Classification T1', 'Amount', 'Classification T2']].iloc[i]\n",
    "\n",
    "        if pre_label['Classification T1'] == ori_label['Classification T1']:\n",
    "            T1_accurate += 1\n",
    "        if float(pre_label['Reimbursable Amount']) == float(ori_label['Amount']):\n",
    "            amount_accurate += 1\n",
    "        #print(f\"Predicted: {pre_label['Reimbursable Amount']}, should be {ori_label['Amount']}\")\n",
    "        if pre_label[ 'Classification T2'] == ori_label['Classification T2']:\n",
    "           T2_accurate += 1\n",
    "    T1_accuracy = T1_accurate/len(response_df) \n",
    "    T2_accuracy = T2_accurate/len(response_df)\n",
    "    amount_accuracy = amount_accurate/len(response_df)\n",
    "    format_accuracy = (1 - response_df['Format Compliance'].sum()/len(response_df)) * 100\n",
    "\n",
    "    # F1 score calculation\n",
    "    # To calculate F1 requires labelled inputs\n",
    "    encoder = LabelEncoder()\n",
    "    a = encoder.fit_transform(['Policy Violated', 'Policy Not Violated', 'None'])\n",
    "    f1_T1 = f1_score(encoder.transform(prompt_df['Classification T1'][:len(response_df)]), encoder.transform(response_df['Classification T1']), average='weighted')\n",
    "\n",
    "    print(a,encoder.transform(response_df['Classification T1']).sum())\n",
    "\n",
    "    encoder.fit(['Fully Reimbursable','Partially Reimbursable','Not Reimbursable','Further Clarification Required','None'])\n",
    "    #f1_amount = f1_score(prompt_df['Reimbursable Amount'], response_df['Reimbursement Amount'], average='weighted')\n",
    "    f1_T2 = f1_score(encoder.transform(prompt_df['Classification T2'][:len(response_df)]), encoder.transform(response_df['Classification T2']), average='weighted')\n",
    "\n",
    "    print(f\"T1 acc: {T1_accuracy}, T1 F1 Score: {f1_T1};\\nT2 acc: {T2_accuracy}, T2 weighted F1 Score: {f1_T2};\\namount acc: {amount_accuracy}, \\nformat acc: {format_accuracy} \")\n",
    "\n"
   ]
  },
  {
   "cell_type": "code",
   "execution_count": 66,
   "metadata": {},
   "outputs": [
    {
     "name": "stdout",
     "output_type": "stream",
     "text": [
      "[2 1 0] 246\n",
      "T1 acc: 0.59, T1 F1 Score: 0.5853085106382978;\n",
      "T2 acc: 0.435, T2 weighted F1 Score: 0.3968196092734608;\n",
      "amount acc: 0.43, \n",
      "format acc: 93.5 \n"
     ]
    }
   ],
   "source": [
    "\n",
    "label_list = extract_all_labels(data_test['Prompt'], df_original_resp, prompt_num)\n",
    "\n",
    "df_label = pd.DataFrame(label_list, columns=['Scenario', 'Text', 'Classification T1', 'Reimbursable Amount', 'Classification T2','Format Compliance'])\n",
    "\n",
    "evaluate(df_label, data_test)"
   ]
  },
  {
   "cell_type": "code",
   "execution_count": null,
   "metadata": {},
   "outputs": [
    {
     "name": "stdout",
     "output_type": "stream",
     "text": [
      "\n",
      "Car/Bicycle/Motorcycle Insurance\n",
      "Personal car/bicycle/motorcycle insurance should be purchased directly by GNEI via a Purchase Order (PO) and paid directly on invoice via Accounts Payable. Categories of equipment include, although not exclusively, IT hardware & software, laboratory equipment & consumables.\n",
      "GNEI have negotiated agreements with Contracted Suppliers for equipment.\n",
      "The cost of car/bicycle/motorcycle insurance is subject to the following:\n",
      "The type of vehicle being insured\n",
      "The duration of insurance\n",
      "The deductible amount\n",
      "The excess cost of the insurance premium over the cost of the vehicle itself\n",
      "The cost of car/bicycle/motorcycle insurance must be paid in full before the start of the journey.\n",
      "The claimant must keep a record of the insurance policy and certificate.\n",
      "The claimant must attach the insurance certificate to the expense claim.\n",
      "\n",
      "\n",
      "4. Approval\n",
      "Prior approval must be obtained from the relevant PS Director, Faculty Director of Operations or School/PS Head of Finance before booking a group trip.\n",
      "The same rules apply for each category of travel and overnight costs as for travelling as an individual.\n",
      "All travel (including coach hire) and overnight costs should be booked in advance.\n",
      "GNEI’s approved travel provider provides a group travel & conference booking facility, where all elements of the trip can be arranged. This can be used for arranging a business conference, as well as student field trips.\n",
      "Please ensure adequate insurance is in place for all staff and students on the trip. Travel insurance needs to be activated prior to the trip by using the Insurance section of the GNEI Finance website. Annex 2 – Exclusions\n",
      "In exceptional circumstances claims for some of these items may be allowed, prior approval should be obtained from the relevant PS Director, Faculty Director of Operations or School/PS Head of Finance. If prior approval is not obtained there is no guarantee that expenditure will be reimbursed.<eos>\n"
     ]
    }
   ],
   "source": [
    "input_ids = tokenizer(combined_query, return_tensors=\"pt\").to(\"cuda\")\n",
    "\n",
    "outputs = model.generate(**input_ids,max_new_tokens = 400, min_new_tokens = 5, repetition_penalty = 1.2)\n",
    "\n",
    "# trim the output by removing prompt\n",
    "model_response = tokenizer.decode(outputs[0])\n",
    "\n",
    "trimmed_output = model_response[len(combined_query)+5:]\n",
    "print(trimmed_output)"
   ]
  },
  {
   "cell_type": "code",
   "execution_count": null,
   "metadata": {},
   "outputs": [
    {
     "name": "stdout",
     "output_type": "stream",
     "text": [
      "71 3293 8344\n"
     ]
    }
   ],
   "source": [
    "query_text = prompt_df['Prompt'][66]\n",
    "k = 10\n",
    "\n",
    "query_vector = vectorizer.transform([query_text]).toarray()\n",
    "query_vector = np.array(query_vector, dtype='float32')\n",
    "_, indices = index.search(query_vector, k)\n",
    "\n",
    "# implement default file augment\n",
    "temp_q = indices.flatten().tolist()\n",
    "if default_files == True:\n",
    "    for element in [0,44]:\n",
    "        if element not in temp_q:\n",
    "            temp_q.append(element)\n",
    "\n",
    "indices = temp_q\n",
    "\n",
    "# combining the full query with full searched docs\n",
    "combined_query = query_text\n",
    "for temp in indices:\n",
    "    combined_query = combined_query + ' ' + policy_scripts[temp]\n",
    "\n",
    "fully_load_query = query_text\n",
    "for i in range(len(policy_df)):\n",
    "    fully_load_query = fully_load_query + ' ' + policy_scripts[i]\n",
    "\n",
    "# tokenize\n",
    "Poor_tokens = tokenizer.tokenize(query_text)\n",
    "RAG_tokens = tokenizer.tokenize(combined_query)\n",
    "Fully_load_tokens = tokenizer.tokenize(fully_load_query)\n",
    "\n",
    "print(len(Poor_tokens),len(RAG_tokens),len(Fully_load_tokens))"
   ]
  },
  {
   "cell_type": "code",
   "execution_count": null,
   "metadata": {},
   "outputs": [
    {
     "name": "stdout",
     "output_type": "stream",
     "text": [
      "<bos>We held a retirement party at dinner for a professor who was about to retire. There were 20 people attending the party, all of them are members of GNEI. The party cost £410 in total. But before that, we did not apply to the relevant departments and did not get approval. How much can I be reimbursed?\n",
      "\n",
      "The party was held to celebrate the professor's contribution to GNEI and to thank him for his service.<eos>\n"
     ]
    }
   ],
   "source": [
    "input_ids = tokenizer(query_text, return_tensors=\"pt\").to(\"cuda\")\n",
    "\n",
    "outputs = model.generate(**input_ids,max_new_tokens = 400, min_new_tokens = 5, repetition_penalty = 1.2)\n",
    "\n",
    "# trim the output by removing prompt\n",
    "model_response = tokenizer.decode(outputs[0])\n",
    "\n",
    "trimmed_output = model_response\n",
    "print(trimmed_output)"
   ]
  },
  {
   "cell_type": "code",
   "execution_count": null,
   "metadata": {},
   "outputs": [
    {
     "name": "stdout",
     "output_type": "stream",
     "text": [
      " 1. Introduction \n",
      "This Expenses Policy (‘the Policy’) provides guidance to all individuals claiming reimbursement of reasonable expenses incurred in connection with GNEI business.\n",
      "GNEI is a charity and a large recipient of public funds from UKRI and the Office for Students, grants from other public bodies, charities and fees paid by students. All expenditure should be appropriate and modest in scale.\n",
      "This policy has been prepared in accordance with Income Tax and National Insurance Contribution regulations and Her Majesty’s Revenue and Customs (HMRC) regulations.\n",
      "\n",
      "\n",
      "\n",
      "2. Scope\n",
      "This policy applies to all spend on GNEI activities including from research grants and discretionary accounts as well as departmental codes. \n",
      "This policy covers the following areas of expenditure:\n",
      "Travel\n",
      "Overnight costs and allowances\n",
      "Telephone and internet costs\n",
      "Entertainment & Hospitality\n",
      "Training\n",
      "Subscriptions\n",
      "Advances\n",
      "Other Expenditure\n",
      "For items that do not fall under any of the above headings, please refer to your local finance team or Accounts Payable at expenses@gnei.ac.uk.\n",
      "For expense claim procedures, please refer to Annex 1.\n",
      "Generally, GNEI will not reimburse individuals for:\n",
      "Broadband/Internet Provision\n",
      "Equipment\n",
      "Fines\n",
      "Gifts\n",
      "Insurance\n",
      "Mobile Phone Contracts/Hardware\n",
      "Personal Expenditure\n",
      "Professional Subscriptions\n",
      "Stationery\n",
      "For further details on the above exclusions, please refer to Annex 2.\n",
      "Information on VAT aspects which are common to all claims can be found at Annex 3.\n",
      "This policy also provides information on subsistence payments for visiting Research Fellows, please refer to Annex 4.\n",
      "Childcare and caring responsibility can be claimed in certain circumstances, please refer to Annex 5.\n",
      "\n",
      "\n",
      "\n",
      "3. General Principles\n",
      "GNEI employees and all others engaged in GNEI activity (collectively claimants) will be reimbursed for the actual cost of expenses incurred, wholly, exclusively and necessarily in the performance of GNEI activity as prescribed in this policy.\n",
      "The expense must be justifiable and reasonable according to the information in this policy, and the claim should always be prepared honestly, legally and responsibly. Any breach of the policy could lead to disciplinary action, up to and including dismissal.\n",
      "Whilst this policy aims to provide comprehensive guidance on reimbursable out-of- pocket expenditure, it is recommended that staff still seek advance approval from their budget holder or department manager in any situation where interpretation of this policy is in doubt.\n",
      "Employees should be able to procure the majority of goods and services required for GNEI business using the standard purchase to payment procedures using the GNEIFinance system.\n",
      "It is the responsibility of authorised signatories to ensure that this expenses policy is upheld; and it should be noted that individual claims falling outside of the policy may be subject to review and/or rejection by Finance.\n",
      "Electronic images of original receipts must accompany all claims. Credit card slips or credit card/bank statements will not be accepted as evidence of business expenditure. All receipts used should include details of what goods or services have been purchased. Original paper receipts do not need to be stored locally, unless they relate to sponsored research and it is explicit in the terms of the grant that original paper receipts need to be retained.\n",
      "When making a claim for a group, the most senior person present should pay for the expenditure and make the claim.\n",
      "Expenses should be submitted as soon as possible after they have been incurred. Claims must be made within three months. Approval should be gained from the relevant School or PS Head of Finance if the claim is over three months old.\n",
      "It costs a fixed amount to process any claim, so claimants should endeavour not to submit claims for less than £33, unless they represent the total of expenses in a three-month period.\n",
      "If a claimant inadvertently makes an error with an expense claim and has been reimbursed, GNEI will recover the amount from them.\n",
      "Expenses must not be used as a way of rewarding people or encouraging them to work in remote locations.\n",
      "GNEI will not meet the cost of expenses for spouses, partners, other family members or friends of GNEI staff.\n",
      "Claims are checked by Accounts Payable staff and any deemed to be fraudulent will be investigated and referred to GNEI’s Internal Auditors. If a claimant is found to have submitted a fraudulent claim they will face disciplinary proceedings, leading to penalties up to and including summary dismissal. Overseas hotels\n",
      "The cost of overseas accommodation may vary significantly from country to country. Both claimants and approvers should look to the general principles of this policy therefore when incurring such costs and when determining an appropriate level of claim: in all respects expenses must be justifiable, reasonable and represent value for money.\n",
      "With this in mind, the University does not look to prescribe fixed limits for overseas accommodation but instead provide guidance on what a reasonable claim would be so that claimants and approvers are able to make a fully informed assessment.\n",
      "In the first instance, employees should expect to be reimbursed for hotels that are equivalent to the most appropriate GBP rate for UK travel detailed in section 5.5. For overseas stays the expectation of the University is that an employee should book accommodation that is equivalent to a UK 3-star level. For areas where there is deprivation or a high security risk then the rating may be increased to 4-star.\n",
      "Employees may also consult HMRC's scale rates for overseas travel in order to judge what is reasonable when quoted in local currency. These rates do not represent an upper limit nor an automatic entitlement but should be considered a point of reference only.\n",
      "Employees should be aware however that claims materially in excess of the HMRC rates are likely to be subject to challenge either during the approval process or before settlement by the central processing teams. Where this is expected to be the case, claimants should ensure that clear justification and confirmation of pre-approval from the relevant budget holder is attached to the claim as per Section 4.3.\n",
      "Where attendance at an international conference requires specific accommodation (for example by virtue of a fixed attendance package or as a necessary means of realising the benefits of the conference), this factor should also be documented with pre-approval attached to the claim. Annex 1 – Expense claim procedures\n",
      "How to make a claim\n",
      "All GNEI employees and students with a UK bank account must claim expenses online via the GNEIExpenses module on GNEIFinance. Anyone else should use the external visitor system.\n",
      "\n",
      "Receipts\n",
      "For GNEI employees, electronic images of original VAT receipts must be attached to all claims. Once submitted each claim will be routed automatically to the appropriate approver(s) and Accounts Payable.\n",
      "\n",
      "For students or external individuals, a claim will be processed once the approved claim form and all supporting paper receipts have reached Accounts Payable.\n",
      "\n",
      "Please see Annex 3 for further information on VAT receipts. Credit card slips or credit card/bank statements will not be accepted as evidence of business expenditure. All receipts used must include details of the goods or services purchased. \n",
      "\n",
      "If the necessary receipts or documentation is not available claimants should obtain approval from the relevant PS Director, Faculty Director of Operations or School/PS Head of Finance prior to submitting the claim, and provide evidence of this approval attached to the claim. Use the Justification field in GNEIExpenses to notify Accounts Payable that the approval is attached.\n",
      "\n",
      "Approval\n",
      "GNEI operates a system of delegated authorisation to staff and approval limits are set out in the GNEI Financial Regulations. Expense approvers should be aware of the funds available in the project to which the claim is being charged to.\n",
      "\n",
      "All expense claims require authorisation prior to payment. This authorisation is in line with GNEI’s Financial Authorised Signatory hierarchy. It is the responsibility of the claimant to ensure that the approver will confirm authorisation for each item in the claim. Claimants may be personally liable for expenses not subsequently approved.\n",
      "\n",
      "Approver(s) must personally review and then approve the claim. Approvers are expected to review claims promptly and consider the following before approving:\n",
      "The appropriateness and quantum of the expenditure\n",
      "The expenses category chosen for each item\n",
      "The project code(s) charged\n",
      "Any policy violations\n",
      "That receipts or receipt images correspond to the claim and constitute itemised receipts, not credit card slips/bank statements.\n",
      "That items within the claim meet the terms of the research funder’s terms and\n",
      "conditions (if related to sponsored research).\n",
      "\n",
      "If there are queries on any of the above, claims should be challenged by the Approver and\n",
      "rejected if incorrect.\n",
      "\n",
      "Expense claims not appropriately authorised will be returned. Business entertaining\n",
      "The most senior person present should pay the bill for any business entertaining and submit the claim.\n",
      "Hospitality, where feasible, should be pre-approved by the budget holder or departmental administrator/manager.\n",
      "The cost should be appropriate and not exceed £44 per head including alcohol and service.\n",
      "If for an exceptional reason the costs exceeds £44 per head, including alcohol and service, this should be approved by the relevant PS Director, Faculty Director of Operations or School/PS Head of Finance.\n",
      "A record of all attendees and their organisation names must be kept and included with the claim; this includes any GNEI staff or students attending.\n",
      "GNEI staff or students attending a business entertaining event in a support role, e.g. greeting guests, without participating in the hospitality should not be included in the numbers attending. Treat any costs arising from their attendance as part of the cost of the function and claim them as such.  Car/bicycle/motorcycle insurance\n",
      "It is important that adequate personal insurance cover for business use is in place, as cars, bicycles or motorcycles belonging to claimants are not covered by GNEI’s insurance. Personal insurance cannot be claimed, see Annex 2 for further information.\n",
      "If a staff member uses or allows another member of staff to use a vehicle on GNEI’s business that is insured for third party risks only, GNEI will not be held liable for any of the following:\n",
      "damage or repairs to the vehicle\n",
      "property lost or damaged\n",
      "personal injuries sustained or caused during or as a result of such use. Travel\n",
      "This section details what can be claimed as travel expenses and provides information on specific modes of transport and other expenses associated with travel.\n",
      "\n",
      "General guidance for travelling on GNEI business\n",
      "The cost of business travel, that is, journeys away from your normal place of work while undertaking GNEI business can be claimed.\n",
      "In line with the GNEI travel policy, all business trips in the UK or abroad must be authorised in writing in advance by the GNEI budget holder responsible for making the funds available. It is recommended that this is attached to the claim.\n",
      "The budget holder / manager must agree that the travel is necessary and that alternative methods such as conference call, video conference, phone or email cannot be used or are not appropriate. Consideration should also be given as to how to minimise the environmental impact of travel.\n",
      "This authorisation ensures that anticipated costs are in line with departmental plans, are eligible under the terms of any associated funding, and that subsequent expense claims can be submitted with confidence, subject to the provisions of this policy.\n",
      "GNEI has preferred travel suppliers for airline, hotel and car hire bookings details on these suppliers can be found on the Procurement website. These suppliers should be used for travel bookings where possible. Overseas Meals\n",
      "The cost of meals may vary significantly from country to country. Both claimants and approvers should look to the general principles of this policy therefore when incurring such costs and when determining an appropriate level of claim: in all respects expenses must be justifiable, reasonable and represent value for money.\n",
      "With this mind, the University does not look to prescribe fixed limits for overseas meals but instead provide guidance on what a reasonable claim would be.\n",
      "In the first instance, employees should expect to be reimbursed for meals that are equivalent to the standard of meal that can be purchased in the UK within the set GBP rates for UK travel detailed in sections 5.18 to 21.\n",
      "As an additional location-specific guide, employees may also consult HMRC's scale rates for overseas travel in order to judge what is reasonable when quoted in local currency. These rates do not represent an upper limit for claims (noting that they’re updated infrequently) but nor do they represent an automatic entitlement. The rates should be considered a point of reference only and all claims must uphold the general principles set out above.\n",
      "In line with section 3 above, employees will only be reimbursed for actual costs incurred as evidenced by original receipts. Where receipts for overseas subsistence cannot be obtained, employees may claim at the unreceipted GBP rates set out in sections 5.18 to 5.21 up to a maximum of £28 per day for three meals. Research Advances for Subject Fees\n",
      "Staff may apply through their departments for a Research Advance for the purpose of remunerating Subjects for taking part in experiments, to a maximum of £55 cash per subject for the duration of the experiment.\n",
      "Subjects may claim in addition to this their travel (where allowed by the grant) from the advance on the production of the original receipt.\n",
      "If the Subject is to be paid more than £55 (not including travel) or they will be taking part in multiple experiments within the same research where the total is more than £55, this should be paid to the Subject directly by GNEI using a general expense claim form and not through the advance (due to HMRC tax regulations). Please go to the Research Advances Policy for further information. UK Meals\n",
      "Breakfast. If breakfast is not included in the hotel room rate, the cost can be claimed, which should be receipted and claimed as part of the overnight stay to a maximum of £12 including VAT and service. If it is not possible to obtain a receipt, then £5.5 may be claimed for breakfast.\n",
      "Lunch. If the claimant is working away from their normal place of work, lunch can be claimed to a maximum of £18 including VAT and service. If it is not possible to obtain a receipt, then £5.5 may be claimed for lunch.\n",
      "Evening meal. The cost of an evening meal can be claimed which should be receipted and claimed as part of the overnight stay to a maximum of £36 including VAT and service. If it is not possible to obtain a receipt, then £17 may be claimed for dinner.\n",
      "24-hour rate: Where UK travel includes an overnight stay and incorporates breakfast, lunch and dinner a single claim of up to £66 receipted (£28 un-receipted) may be made. In these cases, individual meal rates need not be applied, and the claim will be assessed on an aggregate basis in order to allow for greater flexibility. This 24-hour rate will not apply where any one of the meals is included within a room rate, and claimants must still provide receipts for each separate meal. Only actual spend will be reimbursed and all claims remain subject to the overriding principles of reasonableness and value for money.  Overnight costs and allowances\n",
      "Such costs are subject to the requirement for pre-approval in section 4.3 above.\n",
      "\n",
      "Hotels\n",
      "In line with the GNEI travel policy, Hotels must be booked via GNEI's approved travel provider for both overseas and UK travel, with recovery through expenses only permitted in those cases set out in Section 3.1 of that policy and subject to an appropriate level of advance approval as set out in section 3.2. The approval obtained must be attached to submitted expense claims alongside receipts for the room cost, breakfast, dinner and other eligible incidentals.\n",
      "Hotel city tax: from time to time, additional local city tax charges may apply for accommodation. These can be reclaimed via expenses.\n",
      "\n",
      "Subsistence payments for visiting Research Fellows\n",
      "Subsistence payments for visiting Research Fellows can be claimed in certain circumstances, please refer to Annex 9.\n",
      "\n",
      "Childcare and caring responsibility\n",
      "Childcare and caring responsibilities can be claimed in certain circumstances, please refer to Annex 5.<eos>\n"
     ]
    }
   ],
   "source": [
    "input_ids = tokenizer(combined_query, return_tensors=\"pt\").to(\"cuda\")\n",
    "\n",
    "outputs = model.generate(**input_ids,max_new_tokens = 400, min_new_tokens = 5, repetition_penalty = 1.2)\n",
    "\n",
    "# trim the output by removing prompt\n",
    "model_response = tokenizer.decode(outputs[0])\n",
    "\n",
    "trimmed_output = model_response[len(query_text)+5:]\n",
    "print(trimmed_output)"
   ]
  },
  {
   "cell_type": "code",
   "execution_count": null,
   "metadata": {},
   "outputs": [
    {
     "name": "stdout",
     "output_type": "stream",
     "text": [
      " 1. Introduction \n",
      "This Expenses Policy (‘the Policy’) provides guidance to all individuals claiming reimbursement of reasonable expenses incurred in connection with GNEI business.\n",
      "GNEI is a charity and a large recipient of public funds from UKRI and the Office for Students, grants from other public bodies, charities and fees paid by students. All expenditure should be appropriate and modest in scale.\n",
      "This policy has been prepared in accordance with Income Tax and National Insurance Contribution regulations and Her Majesty’s Revenue and Customs (HMRC) regulations.\n",
      "\n",
      "\n",
      "\n",
      "2. Scope\n",
      "This policy applies to all spend on GNEI activities including from research grants and discretionary accounts as well as departmental codes. \n",
      "This policy covers the following areas of expenditure:\n",
      "Travel\n",
      "Overnight costs and allowances\n",
      "Telephone and internet costs\n",
      "Entertainment & Hospitality\n",
      "Training\n",
      "Subscriptions\n",
      "Advances\n",
      "Other Expenditure\n",
      "For items that do not fall under any of the above headings, please refer to your local finance team or Accounts Payable at expenses@gnei.ac.uk.\n",
      "For expense claim procedures, please refer to Annex 1.\n",
      "Generally, GNEI will not reimburse individuals for:\n",
      "Broadband/Internet Provision\n",
      "Equipment\n",
      "Fines\n",
      "Gifts\n",
      "Insurance\n",
      "Mobile Phone Contracts/Hardware\n",
      "Personal Expenditure\n",
      "Professional Subscriptions\n",
      "Stationery\n",
      "For further details on the above exclusions, please refer to Annex 2.\n",
      "Information on VAT aspects which are common to all claims can be found at Annex 3.\n",
      "This policy also provides information on subsistence payments for visiting Research Fellows, please refer to Annex 4.\n",
      "Childcare and caring responsibility can be claimed in certain circumstances, please refer to Annex 5.\n",
      "\n",
      "\n",
      "\n",
      "3. General Principles\n",
      "GNEI employees and all others engaged in GNEI activity (collectively claimants) will be reimbursed for the actual cost of expenses incurred, wholly, exclusively and necessarily in the performance of GNEI activity as prescribed in this policy.\n",
      "The expense must be justifiable and reasonable according to the information in this policy, and the claim should always be prepared honestly, legally and responsibly. Any breach of the policy could lead to disciplinary action, up to and including dismissal.\n",
      "Whilst this policy aims to provide comprehensive guidance on reimbursable out-of- pocket expenditure, it is recommended that staff still seek advance approval from their budget holder or department manager in any situation where interpretation of this policy is in doubt.\n",
      "Employees should be able to procure the majority of goods and services required for GNEI business using the standard purchase to payment procedures using the GNEIFinance system.\n",
      "It is the responsibility of authorised signatories to ensure that this expenses policy is upheld; and it should be noted that individual claims falling outside of the policy may be subject to review and/or rejection by Finance.\n",
      "Electronic images of original receipts must accompany all claims. Credit card slips or credit card/bank statements will not be accepted as evidence of business expenditure. All receipts used should include details of what goods or services have been purchased. Original paper receipts do not need to be stored locally, unless they relate to sponsored research and it is explicit in the terms of the grant that original paper receipts need to be retained.\n",
      "When making a claim for a group, the most senior person present should pay for the expenditure and make the claim.\n",
      "Expenses should be submitted as soon as possible after they have been incurred. Claims must be made within three months. Approval should be gained from the relevant School or PS Head of Finance if the claim is over three months old.\n",
      "It costs a fixed amount to process any claim, so claimants should endeavour not to submit claims for less than £33, unless they represent the total of expenses in a three-month period.\n",
      "If a claimant inadvertently makes an error with an expense claim and has been reimbursed, GNEI will recover the amount from them.\n",
      "Expenses must not be used as a way of rewarding people or encouraging them to work in remote locations.\n",
      "GNEI will not meet the cost of expenses for spouses, partners, other family members or friends of GNEI staff.\n",
      "Claims are checked by Accounts Payable staff and any deemed to be fraudulent will be investigated and referred to GNEI’s Internal Auditors. If a claimant is found to have submitted a fraudulent claim they will face disciplinary proceedings, leading to penalties up to and including summary dismissal. Travel\n",
      "This section details what can be claimed as travel expenses and provides information on specific modes of transport and other expenses associated with travel.\n",
      "\n",
      "General guidance for travelling on GNEI business\n",
      "The cost of business travel, that is, journeys away from your normal place of work while undertaking GNEI business can be claimed.\n",
      "In line with the GNEI travel policy, all business trips in the UK or abroad must be authorised in writing in advance by the GNEI budget holder responsible for making the funds available. It is recommended that this is attached to the claim.\n",
      "The budget holder / manager must agree that the travel is necessary and that alternative methods such as conference call, video conference, phone or email cannot be used or are not appropriate. Consideration should also be given as to how to minimise the environmental impact of travel.\n",
      "This authorisation ensures that anticipated costs are in line with departmental plans, are eligible under the terms of any associated funding, and that subsequent expense claims can be submitted with confidence, subject to the provisions of this policy.\n",
      "GNEI has preferred travel suppliers for airline, hotel and car hire bookings details on these suppliers can be found on the Procurement website. These suppliers should be used for travel bookings where possible. Private travel costs\n",
      "The following cannot be claimed:\n",
      "Travel between home and normal place of work.\n",
      "Business travel broadly similar to the claimant’s normal commute.\n",
      "Recreational travel and accommodation at or near the business travel destination.\n",
      "Travel or accommodation for family or friends accompanying the claimant on the business journey. Rate of exchange\n",
      "If a credit card was used to pay for overseas expenses, the rate charged by the credit card issuer can be claimed. A copy of the statement should be used to evidence the rate used.\n",
      "For employees GNEIExpenses will use a default rate for translating foreign currency transactions; this can be overridden if different to the rate at the time of expenditure and fluctuations will be allowed within a set tolerance. If the automatic rate is overridden, a copy of the bank statement should be included with the claim to back up the rate used.\n",
      "Buying foreign currency is not a genuine business expense and cannot be claimed. Travel Insurance\n",
      "Travel Insurance needs to be activated before traveling overseas, travelling in the UK for fieldtrips or travelling on a business trip where there is an overnight stay or air travel involved.\n",
      "Insurance can be activated by completing a travel insurance request form, which can be found in the Insurance Section on the Finance website.\n",
      "The Insurance team will issue a cover note and provide details of the policy. There is no cost to departments for travel insurance. For regular travellers the Insurance Section can issue annual cover notes on request.\n",
      "If a claimant has an existing medical condition and is not travelling against their doctors’ orders, this is covered by the GNEI Travel Insurance Policy at no extra cost.\n",
      "Personal travel insurance cannot be claimed as GNEI already provides cover for business travel, please refer to Annex 2 for further information on this exclusion. Public Transport\n",
      "Journeys made on rail, bus, ferry, river boat, underground, metro or tram services – can be claimed.\n",
      "The most economical method of travel should be used. For example, if the claimant uses public transport in London regularly, they should use an Oyster card rather than paying for single journeys by cash.  Train journeys These should be standard class unless a heavily discounted first-class ticket is booked significantly in advance of the date of travel. If the claimant does travel first class, an explanation must be included on the claim and if necessary the claim will be passed to the relevant School or PS Head of Finance for approval. Trains should be booked in advance where possible via GNEI's approved travel provider or similar rail travel provider as this is the most cost effective option. Tickets can then be collected at the relevant station or sent via post. Tube and bus journeys in London\n",
      "If a London Transport Oyster or contactless credit/debit card is used for business journeys, the details of each individual journey should be entered on the claim, being specific about locations, date and times and purpose of journey.\n",
      "Only the relevant journey should be claimed, not the whole top-up cost, unless the whole top-up will be used for GNEI business travel. Receipts are not necessary for individual journeys but are required if claiming for the whole top- up fee. Receipts\n",
      "Relevant tickets or documentation should be kept and attached to the expense claim electronically.\n",
      "Claimants who have a rail or Oyster season ticket enabled to use the underground can only claim for travel if extra expenses are incurred that are not covered by the season ticket and can provide a receipt as proof of the expense.\n",
      "Ticket machines will provide receipts if the ticket is retained by the automatic barrier at the end of a journey. Taxis\n",
      "Taxi fares can only be claimed for journeys where:\n",
      "It is clearly the most efficient and cost-effective method of transport.\n",
      "Alternative methods of transport are impractical due to pregnancy, disability, illness or injury, luggage or similar.\n",
      "A member of staff is working in the office very late, i.e. after 11pm.\n",
      "Prior approval has been given, where feasible, from the budget holder or departmental administrator/manager. Business Mileage\n",
      "If a car, motorcycle or bicycle has been used on a business trip the costs can be claimed using a mileage allowance – that is, a sum of money for every business mile travelled. GNEI does not reimburse claims based on actual petrol receipts.\n",
      "GNEI has standard rates for these allowances, depending on the circumstances surrounding the trip (see below).\n",
      "Only additional costs incurred, above what would normally be spent for commuting to work (which are not eligible as a business expense) can be claimed.\n",
      "A car should only be used if it is cheaper and more efficient than public transport. Cars should be shared with other staff members wherever possible.\n",
      "The claim should state the start and end points of the journey, along with the number of miles being claimed.\n",
      "Mileage is paid at the HMRC approved mileage allowance rates:\n",
      "Cars - 50p per mile for the first 11,000 miles in a tax year and 28p per mile thereafter.\n",
      "Motorcycles - 26p per mile.\n",
      "Bicycles - 22p per mile.\n",
      " Car/bicycle/motorcycle insurance\n",
      "It is important that adequate personal insurance cover for business use is in place, as cars, bicycles or motorcycles belonging to claimants are not covered by GNEI’s insurance. Personal insurance cannot be claimed, see Annex 2 for further information.\n",
      "If a staff member uses or allows another member of staff to use a vehicle on GNEI’s business that is insured for third party risks only, GNEI will not be held liable for any of the following:\n",
      "damage or repairs to the vehicle\n",
      "property lost or damaged\n",
      "personal injuries sustained or caused during or as a result of such use. Car sharing\n",
      "Only the driver can claim mileage for a journey where two or more GNEI staff share a car. The following cannot be claimed:\n",
      "Insurance cover for private cars.\n",
      "Accident or breakdown recovery costs, such as AA membership. Air Travel\n",
      "Air travel should be booked using GNEI’s preferred travel provider where possible.\n",
      "GNEI prefers lower fares, based on flight arrival and departure times which cannot be changed. Where there is a need for flexibility in departure or arrival times, a different ticket option will have to be requested. Flexible tickets for flights under three hours require approval by the relevant Dean / PS Director, Faculty Director of Operations or School/PS Head of Finance.\n",
      "Membership of a frequent traveller scheme and potential air miles benefits must not deflect from using the most cost-effective airline option for travel.\n",
      "GNEI does not meet the travelling costs of:\n",
      "Employees of contractors\n",
      "Spouses, partners, other family members or friends.\n",
      "Classes of travel:\n",
      "For flights of five hours or less, staff should book restricted tickets in economy.\n",
      "For flights lasting five hours or longer staff may travel premium economy.\n",
      "Where a long international flight is immediately followed by a presentation or meeting, staff may travel by business class. This must be pre-approved by the relevant Dean / PS Director, Faculty Director of Operations or School/PS Head of Finance. \n",
      "Toll charges\n",
      "Toll charges paid for in the course of a business journey can be claimed. Toll bridges or roads rarely give receipts; therefore the name of the toll bridge or road should be included on the expense claim. Congestion charges\n",
      "GNEI will not reimburse the cost of any congestion charge for staff or visitors except in exceptional circumstances, e.g. where a member of staff has to collect/deliver equipment to a location and the journey could not be completed on public transport. This must be approved in advance by the relevant School/PS Head of Finance. Car Parking\n",
      "Reasonable parking costs on business visits and journeys away from the office can be claimed.\n",
      "Hotel parking costs can be claimed if they are charged separately on the bill.\n",
      "If a claimant has to drive to their place of work as part of a business journey, e.g. to collect equipment, parking costs can be claimed. Details of the reason should be included with the claim.\n",
      "The cost of parking at an entertainment venue cannot be claimed.\n",
      "VAT can be reclaimed (where it's charged) on parking fees which cost less than £28 even if the claimant is not able to get a VAT receipt. Car Hire\n",
      "Approval must be obtained from the budget holder or departmental administrator/manager before a car is hired.\n",
      "If hiring a car is the cheapest mode of travel, it should be booked through GNEI's approved car hire provider (for UK or overseas).\n",
      "The car should only be used for business purposes.\n",
      "Rates are inclusive of CDW (Collision Damage Waiver), TPI (Third Party Insurance) and PAI (Personal Accident Insurance).\n",
      "Any petrol bought solely for business purposes can be claimed. A VAT receipt should be obtained for purchases, a credit card receipt is not sufficient. Group Travel\n",
      "This is in relation to a staff conference or student field trip. Prior approval from the budget holder or departmental administrator/manager should be obtained before booking a group trip.\n",
      "The same rules apply for each category of travel and overnight costs as for travelling as an individual.\n",
      "All travel (including coach hire) and overnight costs should be booked in advance.\n",
      "GNEI's approved travel provider provides a group travel & conference booking facility, where all elements of the trip can be arranged. This can be used for arranging a business conference, as well as student field trips.\n",
      "Please ensure adequate insurance is in place for all staff and students on the trip. Travel insurance needs to be activated prior to the trip by using the Insurance section of the Finance website. Travel Incidentals\n",
      "Claimants can claim the following goods or services if they are related to the business purpose of the trip:\n",
      "The cost of obtaining a visa for working abroad on GNEI business. These can be obtained from GNEI's approved travel provider.\n",
      "The cost of any vaccinations needed for working abroad.\n",
      "There may be occasions when a claimant needs a second passport, for example when travel to one country could lead to immigration difficulties in travelling on business to some other countries. GNEI will pay this expense.\n",
      "Approval must be obtained in advance from the budget holder or departmental administrator/manager.  Overnight costs and allowances\n",
      "Such costs are subject to the requirement for pre-approval in section 4.3 above.\n",
      "\n",
      "Hotels\n",
      "In line with the GNEI travel policy, Hotels must be booked via GNEI's approved travel provider for both overseas and UK travel, with recovery through expenses only permitted in those cases set out in Section 3.1 of that policy and subject to an appropriate level of advance approval as set out in section 3.2. The approval obtained must be attached to submitted expense claims alongside receipts for the room cost, breakfast, dinner and other eligible incidentals.\n",
      "Hotel city tax: from time to time, additional local city tax charges may apply for accommodation. These can be reclaimed via expenses. UK Hotels\n",
      "As stipulated by HMRC, the cost of accommodation at or near the normal place of work does not qualify as business travel; any claim would be subject to tax on the individual as a reimbursement of personal expenditure. Such costs may not be claimed, and staff are asked to bear this in mind when making their travel arrangements.\n",
      "The cost of a hotel in the UK should not exceed £210 including VAT (room only) in London or £140 including VAT (room only) outside of London. If a hotel cost is higher than these limits, this should be pre-approved by the relevant Dean / PS Director, Faculty Director of Operations or School/PS Head of Finance. Overseas hotels\n",
      "The cost of overseas accommodation may vary significantly from country to country. Both claimants and approvers should look to the general principles of this policy therefore when incurring such costs and when determining an appropriate level of claim: in all respects expenses must be justifiable, reasonable and represent value for money.\n",
      "With this in mind, the University does not look to prescribe fixed limits for overseas accommodation but instead provide guidance on what a reasonable claim would be so that claimants and approvers are able to make a fully informed assessment.\n",
      "In the first instance, employees should expect to be reimbursed for hotels that are equivalent to the most appropriate GBP rate for UK travel detailed in section 5.5. For overseas stays the expectation of the University is that an employee should book accommodation that is equivalent to a UK 3-star level. For areas where there is deprivation or a high security risk then the rating may be increased to 4-star.\n",
      "Employees may also consult HMRC's scale rates for overseas travel in order to judge what is reasonable when quoted in local currency. These rates do not represent an upper limit nor an automatic entitlement but should be considered a point of reference only.\n",
      "Employees should be aware however that claims materially in excess of the HMRC rates are likely to be subject to challenge either during the approval process or before settlement by the central processing teams. Where this is expected to be the case, claimants should ensure that clear justification and confirmation of pre-approval from the relevant budget holder is attached to the claim as per Section 4.3.\n",
      "Where attendance at an international conference requires specific accommodation (for example by virtue of a fixed attendance package or as a necessary means of realising the benefits of the conference), this factor should also be documented with pre-approval attached to the claim. Incidentals\n",
      "All necessary incidentals (including brief personal calls home) should be receipted and claimed:\n",
      "Newspapers, bar drinks, mini bar, hotel video and health and fitness facilities cannot be claimed.\n",
      "Laundry costs can only be claimed if absolutely necessary, the cost is reasonable and appropriate and the stay away is for at least 5 consecutive nights. Telephone, Fax and Internet Charges\n",
      "The cost of business calls, fax and internet access charges for business use, as long as they are included on an itemised bill, can be claimed.\n",
      "When working overseas a telephone card can be purchased as this reduces the cost of local calls, the cost of this instead of calls from hotels can be claimed. Meals\n",
      "When travelling on GNEI business, employees are entitled to recover the cost of reasonable subsistence, namely breakfast, lunch, and dinner. Meals cannot be claimed if already included in hotel accommodation rates being claimed for.\n",
      "If several members of staff have a meal together, the most senior person should pay and submit the expense claim. In such a case no-one other than the most senior person should claim an allowance for the meals. Please ensure that it is made clear in the justification field of GNEIExpenses that the receipt is covering more than one employee’s meal, and each employee name (covered by the receipt) should be listed.\n",
      "The following rates include the cost of alcoholic beverages. UK Meals\n",
      "Breakfast. If breakfast is not included in the hotel room rate, the cost can be claimed, which should be receipted and claimed as part of the overnight stay to a maximum of £12 including VAT and service. If it is not possible to obtain a receipt, then £5.5 may be claimed for breakfast.\n",
      "Lunch. If the claimant is working away from their normal place of work, lunch can be claimed to a maximum of £18 including VAT and service. If it is not possible to obtain a receipt, then £5.5 may be claimed for lunch.\n",
      "Evening meal. The cost of an evening meal can be claimed which should be receipted and claimed as part of the overnight stay to a maximum of £36 including VAT and service. If it is not possible to obtain a receipt, then £17 may be claimed for dinner.\n",
      "24-hour rate: Where UK travel includes an overnight stay and incorporates breakfast, lunch and dinner a single claim of up to £66 receipted (£28 un-receipted) may be made. In these cases, individual meal rates need not be applied, and the claim will be assessed on an aggregate basis in order to allow for greater flexibility. This 24-hour rate will not apply where any one of the meals is included within a room rate, and claimants must still provide receipts for each separate meal. Only actual spend will be reimbursed and all claims remain subject to the overriding principles of reasonableness and value for money. Overseas Meals\n",
      "The cost of meals may vary significantly from country to country. Both claimants and approvers should look to the general principles of this policy therefore when incurring such costs and when determining an appropriate level of claim: in all respects expenses must be justifiable, reasonable and represent value for money.\n",
      "With this mind, the University does not look to prescribe fixed limits for overseas meals but instead provide guidance on what a reasonable claim would be.\n",
      "In the first instance, employees should expect to be reimbursed for meals that are equivalent to the standard of meal that can be purchased in the UK within the set GBP rates for UK travel detailed in sections 5.18 to 21.\n",
      "As an additional location-specific guide, employees may also consult HMRC's scale rates for overseas travel in order to judge what is reasonable when quoted in local currency. These rates do not represent an upper limit for claims (noting that they’re updated infrequently) but nor do they represent an automatic entitlement. The rates should be considered a point of reference only and all claims must uphold the general principles set out above.\n",
      "In line with section 3 above, employees will only be reimbursed for actual costs incurred as evidenced by original receipts. Where receipts for overseas subsistence cannot be obtained, employees may claim at the unreceipted GBP rates set out in sections 5.18 to 5.21 up to a maximum of £28 per day for three meals. Rented Accommodation (This section applies to GNEI staff and students only, the policy for visiting Research Fellows is detailed in Annex 4).\n",
      "Long-term assignments\n",
      "If a member of staff is working away from home on a longer-term assignment – usually for six months or more – the budget holder may require them to rent a property rather than stay in a hotel.\n",
      "The lease should be taken out in the employee’s name as they will be the sole occupant of the property; prior approval from budget holder or departmental administrator/manager must be obtained before the lease is agreed.\n",
      "The monthly rent, council tax, service charges, TV licence and utility bills (including telephone line rental) including VAT can be claimed. Alternatively, GNEI can pay the rent directly on invoice via Accounts Payable.\n",
      "If several colleagues are working away from home working on the same project and sharing a property, only one of the staff should claim expenses for the cost of the accommodation and associated bills.\n",
      "\n",
      "Relocation Expenses\n",
      "Please refer to the Relocation Expenses Guide for further details. Telephone and Internet costs\n",
      "This category details what can be claimed when using a telephone for business purposes.\n",
      "Always use the cheaper of either mobile or land line.\n",
      "\n",
      "GNEI mobile phone users\n",
      "As calls and line rental are paid directly by GNEI, no claims for business calls, from either a personal mobile or a home landline should be made by staff in receipt of a GNEI mobile phone.\n",
      "If it is decided that an employee requires a mobile phone for work purposes, it should be obtained via ISD’s Managed Mobile service.\n",
      "\n",
      "Own mobile phone users\n",
      "Line rental cannot be claimed. Only the cost of business calls on a call-by-call basis can be claimed, and an itemised VAT bill with the relevant calls highlighted must be provided as a receipt and attached to the claim. Home personal land line\n",
      "Only the cost of business calls on a call-by-call basis can be claimed, and an itemised VAT bill with the relevant calls highlighted must be provided as a receipt and attached to the claim.\n",
      "Any telephone line rental or standing charges cannot be claimed.\n",
      "\n",
      "Wi-Fi\n",
      "Short Wi-Fi internet session fees e.g. at airports and hotels while on GNEI business can be claimed, a receipt must be provided.\n",
      "\n",
      "Broadband/Internet Provision\n",
      "Home internet connection cannot be claimed for in any circumstances. Entertainment and Hospitality\n",
      "This section details what can be claimed when entertaining staff, students or external visitors – that is, providing food, drink or other hospitality.\n",
      "The nature of the event should be established:\n",
      "Staff and student entertaining: the event is to primarily entertain GNEI staff and students with some (or no) visitors.\n",
      "Business entertaining: the event is to primarily entertain visitors with some GNEI staff and students attending.\n",
      "A record of all staff and student attendees and their GNEI department names must be included with any claim – this is an HMRC requirement.\n",
      "All expenditure should be reasonable and appropriate.\n",
      "The cost of entertainment and / or hospitality should not be paid for using departmental purchasing cards under any circumstances. Hospitality for meetings\n",
      "Food can only be provided when it is necessary to hold a meeting during a normal mealtime (breakfast - before 9.00am, lunchtime - between 12.00 and 2.00pm, or evening - after 6.00pm), and it is not practical to expect staff to bring their own food. No alcohol can be provided.\n",
      "Where possible the meeting should be held on GNEI premises and food provided by GNEI's catering providers. Staff and student entertaining/hospitality\n",
      "This means food or drink for two or more members of staff or registered GNEI students in connection to GNEI business activities. It includes working lunches/dinners and team- building events. Approval from the budget holder or departmental administrator/manager must be sought before organising or paying for any staff or student entertaining.\n",
      "The cost of entertaining should not exceed £22 per head. Staff social functions\n",
      "These are events that not in connection to GNEI business activities e.g. Christmas lunches/parties, end of term socials, retirement parties etc.\n",
      "In general, staff should be expected to contribute to the cost of these events. The GNEI department contribution should be no more than £22 per head.\n",
      "Any expenditure on social functions should be approved in advance with the relevant PS Director, Faculty Director of Operations or School/PS Head of Finance.\n",
      "Costs for major staff entertaining functions (for example annual social) should be invoiced directly to GNEI, not entered on individuals' expense claims. Business entertaining\n",
      "The most senior person present should pay the bill for any business entertaining and submit the claim.\n",
      "Hospitality, where feasible, should be pre-approved by the budget holder or departmental administrator/manager.\n",
      "The cost should be appropriate and not exceed £44 per head including alcohol and service.\n",
      "If for an exceptional reason the costs exceeds £44 per head, including alcohol and service, this should be approved by the relevant PS Director, Faculty Director of Operations or School/PS Head of Finance.\n",
      "A record of all attendees and their organisation names must be kept and included with the claim; this includes any GNEI staff or students attending.\n",
      "GNEI staff or students attending a business entertaining event in a support role, e.g. greeting guests, without participating in the hospitality should not be included in the numbers attending. Treat any costs arising from their attendance as part of the cost of the function and claim them as such.  Training\n",
      "Training and study costs can only be claimed if the training is for a business purpose.\n",
      "\n",
      "External training courses\n",
      "External training courses should be booked using a GNEI Purchase Order and paid directly by GNEI on invoice via Accounts Payable.\n",
      "Prior approval for the expense from the budget holder or departmental administrator/manager must be obtained before booking the course.\n",
      "\n",
      "Study Assistance\n",
      "The GNEI Study Assistance Scheme (SAS) provides a range of support for GNEI staff seeking to gain qualifications to support their work and careers. Professional body subscriptions\n",
      "GNEI will only reimburse staff, or pay on their behalf, annual subscriptions or memberships to a professional body where either there are:\n",
      "Savings to GNEI arising from membership, for example reduced conference attendance fees, exceed the cost of membership, or\n",
      "Membership is mandatory in order to be able to teach on a professionally accredited course.\n",
      "In all cases, the professional body must feature in the list of approved organisations published by HMRC. Books, journals and magazines/periodicals\n",
      "Most books and journals should be purchased via a GNEI PO and paid directly by GNEI on invoice via Accounts Payable.\n",
      "Books should only be purchased directly by a member of staff when this is not possible, e.g. Amazon does not accept purchase orders. \n",
      "UK Work Permit (including renewal)\n",
      "In exceptional circumstances, and with prior approval from the relevant Dean / PS Director, Faculty Director of Operations or School/PS Head of Finance, the cost of obtaining or renewing a visa for working in the UK may be claimed through expenses. Specialist clothing\n",
      "If a job requires specialist clothing, this should usually be purchased via a GNEI PO and paid directly by GNEI on an invoice via Accounts Payable. \n",
      "Subject Fees\n",
      "Where individuals are paid cash to take part in a research activity/survey, the individual is required to sign a form stating that they have received the cash from the claimant. This form should be attached to the expenses claim form as a receipt. Advances\n",
      "Foreign Advances\n",
      "These are available for overseas travel on behalf of GNEI where other means of paying for the trip are not available.\n",
      "Staff may apply for foreign currency, traveller’s cheques or for the sterling equivalent to be paid directly into their bank account. Please go to the Foreign Advances Policy for further information. Research Advances for Subject Fees\n",
      "Staff may apply through their departments for a Research Advance for the purpose of remunerating Subjects for taking part in experiments, to a maximum of £55 cash per subject for the duration of the experiment.\n",
      "Subjects may claim in addition to this their travel (where allowed by the grant) from the advance on the production of the original receipt.\n",
      "If the Subject is to be paid more than £55 (not including travel) or they will be taking part in multiple experiments within the same research where the total is more than £55, this should be paid to the Subject directly by GNEI using a general expense claim form and not through the advance (due to HMRC tax regulations). Please go to the Research Advances Policy for further information. Annex 1 – Expense claim procedures\n",
      "How to make a claim\n",
      "All GNEI employees and students with a UK bank account must claim expenses online via the GNEIExpenses module on GNEIFinance. Anyone else should use the external visitor system.\n",
      "\n",
      "Receipts\n",
      "For GNEI employees, electronic images of original VAT receipts must be attached to all claims. Once submitted each claim will be routed automatically to the appropriate approver(s) and Accounts Payable.\n",
      "\n",
      "For students or external individuals, a claim will be processed once the approved claim form and all supporting paper receipts have reached Accounts Payable.\n",
      "\n",
      "Please see Annex 3 for further information on VAT receipts. Credit card slips or credit card/bank statements will not be accepted as evidence of business expenditure. All receipts used must include details of the goods or services purchased. \n",
      "\n",
      "If the necessary receipts or documentation is not available claimants should obtain approval from the relevant PS Director, Faculty Director of Operations or School/PS Head of Finance prior to submitting the claim, and provide evidence of this approval attached to the claim. Use the Justification field in GNEIExpenses to notify Accounts Payable that the approval is attached.\n",
      "\n",
      "Approval\n",
      "GNEI operates a system of delegated authorisation to staff and approval limits are set out in the GNEI Financial Regulations. Expense approvers should be aware of the funds available in the project to which the claim is being charged to.\n",
      "\n",
      "All expense claims require authorisation prior to payment. This authorisation is in line with GNEI’s Financial Authorised Signatory hierarchy. It is the responsibility of the claimant to ensure that the approver will confirm authorisation for each item in the claim. Claimants may be personally liable for expenses not subsequently approved.\n",
      "\n",
      "Approver(s) must personally review and then approve the claim. Approvers are expected to review claims promptly and consider the following before approving:\n",
      "The appropriateness and quantum of the expenditure\n",
      "The expenses category chosen for each item\n",
      "The project code(s) charged\n",
      "Any policy violations\n",
      "That receipts or receipt images correspond to the claim and constitute itemised receipts, not credit card slips/bank statements.\n",
      "That items within the claim meet the terms of the research funder’s terms and\n",
      "conditions (if related to sponsored research).\n",
      "\n",
      "If there are queries on any of the above, claims should be challenged by the Approver and\n",
      "rejected if incorrect.\n",
      "\n",
      "Expense claims not appropriately authorised will be returned. Annex 2 – Exclusions\n",
      "In exceptional circumstances claims for some of these items may be allowed, prior approval should be obtained from the relevant PS Director, Faculty Director of Operations or School/PS Head of Finance. If prior approval is not obtained there is no guarantee that expenditure will be reimbursed.\n",
      "\n",
      "Broadband/Internet Provision\n",
      "Home internet connection cannot be claimed for in any circumstances.\n",
      "\n",
      "Entertainment and Hospitality\n",
      "GNEI will not pay for:\n",
      "Clothing for entertaining e.g. dress or suit hire\n",
      "Overnight accommodation\n",
      "\n",
      "Equipment\n",
      "All equipment should be purchased directly by GNEI via a Purchase Order (PO) and paid directly on invoice via Accounts Payable. Categories of equipment include, although not exclusively, IT hardware & software, laboratory equipment & consumables. GNEI have negotiated agreements with Contracted Suppliers for equipment.\n",
      "\n",
      "Fines\n",
      "GNEI does not pay:\n",
      "Fines or fixed penalties\n",
      "Administration fees charged by third parties for recovering fines\n",
      "Fines for motoring offences\n",
      "\n",
      "Gifts\n",
      "GNEI will not pay for gifts in any circumstances. Gifts for staff should be purchased using personal funds or via a staff collection. Gifts should not be claimed via expenses, nor purchased via iProcurement or a GNEI Purchasing Card.\n",
      "\n",
      "Insurance\n",
      "Travel insurance should be obtained from the Insurance section of the GNEI Finance website. Personal travel insurance policies will not cover claimants whilst abroad on GNEI’s behalf, and cannot be claimed as GNEI already provides cover for business travel. If a claim is received for travel insurance it will not be paid. Personal car/bicycle/motorcycle insurance cannot be claimed.\n",
      "\n",
      "Mobile Phone Contracts/Hardware\n",
      "Monthly contract charges and hardware cannot be claimed for. If a mobile phone is required for work purposes it should be obtained from ISD Telecoms. \n",
      "GNEI will pay for the cost of business calls made from a personal mobile phone, please see the ‘Telephone costs’ section of the GNEI Expenses Policy.\n",
      "\n",
      "Personal Expenditure\n",
      "Personal incidental costs while away on GNEI activity cannot be claimed. These include, although not exclusively, newspapers, bar drinks, mini bar, hotel video and health and fitness facilities.\n",
      "\n",
      "Stationery\n",
      "All stationery must be purchased via GNEI's approved supplier, via a PO and paid directly on invoice via Accounts Payable. Annex 3 – VAT\n",
      "VAT\n",
      "GNEI can reclaim the VAT charged on some business expenses. In order to make a proper claim GNEI needs valid receipts to provide appropriate evidence. It is the claimant’s responsibility to obtain a receipt showing VAT where it applies.\n",
      "\n",
      "As defined by HMRC, original VAT receipts must accompany all claims. Credit card slips or credit card/bank statements will not be accepted as evidence of expenditure. All receipts should show the following information:\n",
      "Name, address and VAT number of the supplier\n",
      "Date of supply and date of issue if different\n",
      "Description of the goods or services\n",
      "For each VAT rate the total amount payable including VAT and the VAT rate charged\n",
      "Name and address of person to whom the services are supplied (if appropriate)\n",
      "Unit price (if the supply cannot be broken down into countable elements then the total tax exclusive price will be the unit price)\n",
      "The total amount of VAT charged Annex 4 - Visiting Research Fellows Subsistence Payments\n",
      "Subsistence payments should be claimed via a Visiting Research Fellow form, which will be processed as a manual  expense form if the following conditions are met:\n",
      "The general rule is to determine if an overseas visitor is an employee or not. If the overseas visitor does not undertake any duties (other than research) normally performed by GNEI staff and they are not subject to the usual terms and conditions of employment, then payments may be made to them without deduction of PAYE and NI.\n",
      "Usual terms and conditions of employment would include such matters as the ability of GNEI to determine hours worked, location of work, to set a probationary period and entitlement of the payee to holiday pay, sick pay and to join a pension scheme.\n",
      "\n",
      "The individual must be visiting for less than two years. \n",
      "\n",
      "Subsistence payments may be made gross on the Visiting Research Fellow form if the following conditions are met:\n",
      "There is no contract of employment.\n",
      "There is no contract for services, whether written or verbal.\n",
      "The visiting Research Fellow does not undertake any duties (apart from research) normally performed by staff of GNEI.\n",
      "The grant is paid to cover living and travel expenses.\n",
      "The visiting Research Fellow is here for a maximum of two years.\n",
      "The visiting Research Fellow form must clearly state that the payment is for travel and subsistence of an overseas visiting researcher.\n",
      "The individual’s home country and institution address is included on the form.\n",
      "The source of funding is stated on the form.\n",
      "If the visiting Research Fellow does undertake any teaching duties or hold seminars, then a proportion of the payments made to them must be attributed to these duties. Payments may still be made gross but they must be reported to the HMRC. Details of all such payments in any tax year (6 April to 5 April) must be returned to the Taxation and Commercial Accountant in Finance by 30 April each year. Annex 5 - Childcare and Caring Responsibility costs\n",
      "Various funders now allow childcare or caring responsibility costs to be claimed as allowable expenses if the costs are incurred for working outside normal working patterns (e.g. childcare or eldercare costs while the primary carer attends a conference outside usual contracted hours).\n",
      "\n",
      "Please refer to your funder’s terms and conditions or obtain permission from them prior to incurring the expenditure. If you require further guidance please contact Award Services, Research and Innovation Services award-services@gnei.ac.uk\n",
      "\n",
      "Criteria\n",
      "The following criteria will need to be met for claims to be approved through GNEIExpenses:\n",
      "Staff must be on a grant under the terms of which such a claim is expressly allowable and eligible for reimbursement.\n",
      "There must be an auditable record such as conference attendance confirmation and receipts for the cost of the childcare / caring responsibility.\n",
      "\n",
      "**\n",
      "\n",
      "The amount of of of of of of of of of of of of of of of of of of of of of of of of of of of of of of of of of of of of of of of of of of of of of of of of of of of of of of of of of of of of of of of of of of of of of of of of of of of of of of of of of of of of of of of of of of of of of of of of of of of of of of of of of of of of of of of of of of of of of of of of of of of of of of of of of of of of of of of of of of of of of of of of of of of of of of of of of of of of of of of of of of of of of of of of of of of of of of of of of of of of of of of of of of of of of of of of of of of of of of of of of of of of of of of of of of of of of of of of of of of of of of of of of of of of of of of of of of of of of of of of of of of of of of of of of of of of of of of of of of of of of of of of of of of of of of of of of of of of of of of of of of of of of of of of of of of of of of of of of of of of of of of of of of of of of of of of of of of of of of of of of of of of of of of of of of of of of of of of of of of of of of of of of of of of of of of of of of of of of of of of of of of of of of of of of of of of of of of of of of of of of of of of of of of of of of of of of of of\n"
     ]
    }
   ],
   "source": [
    "input_ids = tokenizer(fully_load_query, return_tensors=\"pt\").to(\"cuda\")\n",
    "\n",
    "outputs = model.generate(**input_ids,max_new_tokens = 400, min_new_tokens = 5, repetition_penalty = 1.2)\n",
    "\n",
    "# trim the output by removing prompt\n",
    "model_response = tokenizer.decode(outputs[0])\n",
    "\n",
    "trimmed_output = model_response[len(query_text)+5:]\n",
    "print(trimmed_output)"
   ]
  },
  {
   "cell_type": "code",
   "execution_count": null,
   "metadata": {},
   "outputs": [
    {
     "name": "stderr",
     "output_type": "stream",
     "text": [
      "huggingface/tokenizers: The current process just got forked, after parallelism has already been used. Disabling parallelism to avoid deadlocks...\n",
      "To disable this warning, you can either:\n",
      "\t- Avoid using `tokenizers` before the fork if possible\n",
      "\t- Explicitly set the environment variable TOKENIZERS_PARALLELISM=(true | false)\n"
     ]
    }
   ],
   "source": [
    "!pip freeze > requirements.txt\n"
   ]
  }
 ],
 "metadata": {
  "kernelspec": {
   "display_name": "Python 3",
   "language": "python",
   "name": "python3"
  },
  "language_info": {
   "codemirror_mode": {
    "name": "ipython",
    "version": 3
   },
   "file_extension": ".py",
   "mimetype": "text/x-python",
   "name": "python",
   "nbconvert_exporter": "python",
   "pygments_lexer": "ipython3",
   "version": "3.11.7"
  }
 },
 "nbformat": 4,
 "nbformat_minor": 2
}
